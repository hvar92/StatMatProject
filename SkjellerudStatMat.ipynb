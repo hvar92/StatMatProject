{
 "cells": [
  {
   "cell_type": "code",
   "execution_count": 1,
   "metadata": {},
   "outputs": [
    {
     "data": {
      "text/html": "<div>\n<style scoped>\n    .dataframe tbody tr th:only-of-type {\n        vertical-align: middle;\n    }\n\n    .dataframe tbody tr th {\n        vertical-align: top;\n    }\n\n    .dataframe thead th {\n        text-align: right;\n    }\n</style>\n<table border=\"1\" class=\"dataframe\">\n  <thead>\n    <tr style=\"text-align: right;\">\n      <th></th>\n      <th>pH</th>\n      <th>Pb</th>\n    </tr>\n  </thead>\n  <tbody>\n    <tr>\n      <th>0</th>\n      <td>7.6</td>\n      <td>0.451</td>\n    </tr>\n    <tr>\n      <th>1</th>\n      <td>8.5</td>\n      <td>0.106</td>\n    </tr>\n    <tr>\n      <th>2</th>\n      <td>7.2</td>\n      <td>0.341</td>\n    </tr>\n    <tr>\n      <th>3</th>\n      <td>7.5</td>\n      <td>0.158</td>\n    </tr>\n    <tr>\n      <th>4</th>\n      <td>7.9</td>\n      <td>0.251</td>\n    </tr>\n    <tr>\n      <th>5</th>\n      <td>6.8</td>\n      <td>0.178</td>\n    </tr>\n    <tr>\n      <th>6</th>\n      <td>6.2</td>\n      <td>0.321</td>\n    </tr>\n    <tr>\n      <th>7</th>\n      <td>6.5</td>\n      <td>0.424</td>\n    </tr>\n    <tr>\n      <th>8</th>\n      <td>7.9</td>\n      <td>0.195</td>\n    </tr>\n    <tr>\n      <th>9</th>\n      <td>8.1</td>\n      <td>0.520</td>\n    </tr>\n    <tr>\n      <th>10</th>\n      <td>7.2</td>\n      <td>0.298</td>\n    </tr>\n    <tr>\n      <th>11</th>\n      <td>7.9</td>\n      <td>0.328</td>\n    </tr>\n    <tr>\n      <th>12</th>\n      <td>7.0</td>\n      <td>0.152</td>\n    </tr>\n    <tr>\n      <th>13</th>\n      <td>6.5</td>\n      <td>0.235</td>\n    </tr>\n    <tr>\n      <th>14</th>\n      <td>6.3</td>\n      <td>0.351</td>\n    </tr>\n    <tr>\n      <th>15</th>\n      <td>6.9</td>\n      <td>0.324</td>\n    </tr>\n    <tr>\n      <th>16</th>\n      <td>7.2</td>\n      <td>0.230</td>\n    </tr>\n    <tr>\n      <th>17</th>\n      <td>7.5</td>\n      <td>0.139</td>\n    </tr>\n    <tr>\n      <th>18</th>\n      <td>6.4</td>\n      <td>0.451</td>\n    </tr>\n    <tr>\n      <th>19</th>\n      <td>6.9</td>\n      <td>0.382</td>\n    </tr>\n    <tr>\n      <th>20</th>\n      <td>6.5</td>\n      <td>0.320</td>\n    </tr>\n    <tr>\n      <th>21</th>\n      <td>7.1</td>\n      <td>0.518</td>\n    </tr>\n    <tr>\n      <th>22</th>\n      <td>8.5</td>\n      <td>0.329</td>\n    </tr>\n    <tr>\n      <th>23</th>\n      <td>7.2</td>\n      <td>0.128</td>\n    </tr>\n    <tr>\n      <th>24</th>\n      <td>7.6</td>\n      <td>0.427</td>\n    </tr>\n    <tr>\n      <th>25</th>\n      <td>7.7</td>\n      <td>0.369</td>\n    </tr>\n    <tr>\n      <th>26</th>\n      <td>6.4</td>\n      <td>0.424</td>\n    </tr>\n    <tr>\n      <th>27</th>\n      <td>6.0</td>\n      <td>0.123</td>\n    </tr>\n    <tr>\n      <th>28</th>\n      <td>6.4</td>\n      <td>0.229</td>\n    </tr>\n    <tr>\n      <th>29</th>\n      <td>5.5</td>\n      <td>0.121</td>\n    </tr>\n    <tr>\n      <th>30</th>\n      <td>5.8</td>\n      <td>0.219</td>\n    </tr>\n    <tr>\n      <th>31</th>\n      <td>4.8</td>\n      <td>0.278</td>\n    </tr>\n    <tr>\n      <th>32</th>\n      <td>7.9</td>\n      <td>0.362</td>\n    </tr>\n    <tr>\n      <th>33</th>\n      <td>5.8</td>\n      <td>0.157</td>\n    </tr>\n    <tr>\n      <th>34</th>\n      <td>8.0</td>\n      <td>0.525</td>\n    </tr>\n    <tr>\n      <th>35</th>\n      <td>8.1</td>\n      <td>0.391</td>\n    </tr>\n    <tr>\n      <th>36</th>\n      <td>7.2</td>\n      <td>0.424</td>\n    </tr>\n    <tr>\n      <th>37</th>\n      <td>7.9</td>\n      <td>0.405</td>\n    </tr>\n    <tr>\n      <th>38</th>\n      <td>7.1</td>\n      <td>0.521</td>\n    </tr>\n    <tr>\n      <th>39</th>\n      <td>6.6</td>\n      <td>0.323</td>\n    </tr>\n    <tr>\n      <th>40</th>\n      <td>6.8</td>\n      <td>0.203</td>\n    </tr>\n    <tr>\n      <th>41</th>\n      <td>6.1</td>\n      <td>0.120</td>\n    </tr>\n    <tr>\n      <th>42</th>\n      <td>7.5</td>\n      <td>0.128</td>\n    </tr>\n    <tr>\n      <th>43</th>\n      <td>7.2</td>\n      <td>0.338</td>\n    </tr>\n    <tr>\n      <th>44</th>\n      <td>6.2</td>\n      <td>0.452</td>\n    </tr>\n    <tr>\n      <th>45</th>\n      <td>6.9</td>\n      <td>0.225</td>\n    </tr>\n    <tr>\n      <th>46</th>\n      <td>6.5</td>\n      <td>0.321</td>\n    </tr>\n    <tr>\n      <th>47</th>\n      <td>7.5</td>\n      <td>0.528</td>\n    </tr>\n  </tbody>\n</table>\n</div>",
      "text/plain": "     pH     Pb\n0   7.6  0.451\n1   8.5  0.106\n2   7.2  0.341\n3   7.5  0.158\n4   7.9  0.251\n5   6.8  0.178\n6   6.2  0.321\n7   6.5  0.424\n8   7.9  0.195\n9   8.1  0.520\n10  7.2  0.298\n11  7.9  0.328\n12  7.0  0.152\n13  6.5  0.235\n14  6.3  0.351\n15  6.9  0.324\n16  7.2  0.230\n17  7.5  0.139\n18  6.4  0.451\n19  6.9  0.382\n20  6.5  0.320\n21  7.1  0.518\n22  8.5  0.329\n23  7.2  0.128\n24  7.6  0.427\n25  7.7  0.369\n26  6.4  0.424\n27  6.0  0.123\n28  6.4  0.229\n29  5.5  0.121\n30  5.8  0.219\n31  4.8  0.278\n32  7.9  0.362\n33  5.8  0.157\n34  8.0  0.525\n35  8.1  0.391\n36  7.2  0.424\n37  7.9  0.405\n38  7.1  0.521\n39  6.6  0.323\n40  6.8  0.203\n41  6.1  0.120\n42  7.5  0.128\n43  7.2  0.338\n44  6.2  0.452\n45  6.9  0.225\n46  6.5  0.321\n47  7.5  0.528"
     },
     "execution_count": 1,
     "metadata": {},
     "output_type": "execute_result"
    }
   ],
   "source": [
    "from numpy import loadtxt\n",
    "import pandas as pd\n",
    "\n",
    "# Load data from text file\n",
    "data = loadtxt(\"phpbdata.txt\", skiprows = 1)\n",
    "pH = data[:,1] # value of pH\n",
    "Pb = data[:,2] # level of lead Pb\n",
    "n = len(pH) # number of observations\n",
    "\n",
    "# For nice output of data\n",
    "df = pd.DataFrame({\"pH\": pH, \"Pb\": Pb})\n",
    "df"
   ]
  },
  {
   "cell_type": "code",
   "execution_count": 2,
   "metadata": {},
   "outputs": [],
   "source": [
    "# Helper function for nice printing\n",
    "def print_stat(name, fn):\n",
    "    print(\"X pH: {}(X) = {:.1f}\".format(name, fn(pH)))\n",
    "    print(\"Y Pb: {}(Y) = {:.3f}\".format(name, fn(Pb)))        "
   ]
  },
  {
   "cell_type": "markdown",
   "metadata": {},
   "source": [
    "## 1 Descriptive Statistics\n",
    "\n",
    "The data consist of two series of sample size $n = 48$. The data points or observations from one series will be denoted as $x_i, i = 1,...,n$. As far as practical, functions for the most basic statistics are written from scratch in this sheet. Otherwise, the NumPy and SciPy libraries for Python is utilised. \n",
    "\n",
    "### Mode\n",
    "The mode is the most frequent observation."
   ]
  },
  {
   "cell_type": "code",
   "execution_count": 3,
   "metadata": {},
   "outputs": [
    {
     "name": "stdout",
     "output_type": "stream",
     "text": "X pH: mode(X) = 7.2\nY Pb: mode(Y) = 0.424\n"
    }
   ],
   "source": [
    "def mode(x):\n",
    "    uniqueobs = list(set(x)) # makes a list of the unique observations in x\n",
    "    frequency = [0]*len(uniqueobs) # initialize list of frequencies\n",
    "    \n",
    "    for value in x:\n",
    "        frequency[uniqueobs.index(value)] +=1\n",
    "    \n",
    "    i = frequency.index(max(frequency)) # index of most frequent observation\n",
    "    return uniqueobs[i]\n",
    "\n",
    "print_stat(\"mode\", mode)"
   ]
  },
  {
   "cell_type": "markdown",
   "metadata": {},
   "source": [
    "### Median\n",
    "The sample median is the middle value of values sorted in ascending order. "
   ]
  },
  {
   "cell_type": "code",
   "execution_count": 4,
   "metadata": {},
   "outputs": [
    {
     "name": "stdout",
     "output_type": "stream",
     "text": "X pH: median(X) = 7.1\nY Pb: median(Y) = 0.322\n"
    }
   ],
   "source": [
    "def median(x):\n",
    "    midpoint = round(n/2) # divide and rounds down\n",
    "    if n % 2 == 1: \n",
    "        return sorted(x)[midpoint] # if length is odd return value at midpoint of sorted list \n",
    "    else:\n",
    "        return (sorted(x)[midpoint -1] + sorted(x)[midpoint])/2 # if length is even return average of the two middle values\n",
    "\n",
    "print_stat(\"median\", median)"
   ]
  },
  {
   "cell_type": "markdown",
   "metadata": {},
   "source": [
    "### Mean\n",
    "The sample mean is the arithmetic average of the values. "
   ]
  },
  {
   "cell_type": "code",
   "execution_count": 5,
   "metadata": {},
   "outputs": [
    {
     "name": "stdout",
     "output_type": "stream",
     "text": "X pH: Mean(X) = 7.0\nY Pb: Mean(Y) = 0.307\n"
    }
   ],
   "source": [
    "def mean(x):\n",
    "    s = 0\n",
    "    for i in range(n):\n",
    "        s+=x[i]\n",
    "    return s/n\n",
    "\n",
    "print_stat(\"Mean\",mean)"
   ]
  },
  {
   "cell_type": "markdown",
   "metadata": {},
   "source": [
    "### Variance\n",
    "The sample variance $s^2$ of observations $x_i , i = 1,...,n$ is defined as \n",
    "$$\n",
    "s^2 = \\sum_i^n \\frac{(x_i-\\bar x)^2}{n-1}\n",
    "$$"
   ]
  },
  {
   "cell_type": "code",
   "execution_count": 6,
   "metadata": {},
   "outputs": [
    {
     "name": "stdout",
     "output_type": "stream",
     "text": "X pH: variance(X) = 0.6\nY Pb: variance(Y) = 0.016\n"
    }
   ],
   "source": [
    "def var(x):\n",
    "    s = 0\n",
    "    for i in range(n):\n",
    "        s+= (x[i]-mean(x))**2\n",
    "    return s/(n-1)\n",
    "\n",
    "print_stat(\"variance\", var)"
   ]
  },
  {
   "cell_type": "markdown",
   "metadata": {},
   "source": [
    "### Standard deviation\n",
    "The sample standard deviation $s$ is the square root of the variance."
   ]
  },
  {
   "cell_type": "code",
   "execution_count": 7,
   "metadata": {},
   "outputs": [
    {
     "name": "stdout",
     "output_type": "stream",
     "text": "X pH: standard deviation(X) = 0.8\nY Pb: standard deviation(Y) = 0.128\n"
    }
   ],
   "source": [
    "def stdev(x):\n",
    "    return var(x)**(1/2)\n",
    "\n",
    "print_stat(\"standard deviation\", stdev)"
   ]
  },
  {
   "cell_type": "markdown",
   "metadata": {},
   "source": [
    "### Quantile\n",
    "The empirical distribution function $F$ is the cumulative distribution function (CDF) that puts $1/n$ mass at each observation. The quantile function returns the smallest $x_i$ such that $F$ is larger than $q$. The first quartile, median and third quartile correspond to $q = \\frac{1}{4}, \\frac{1}{2}, \\frac{3}{4}$."
   ]
  },
  {
   "cell_type": "code",
   "execution_count": 8,
   "metadata": {},
   "outputs": [],
   "source": [
    "# Calculates the empirical distribution function\n",
    "def cdf(x):\n",
    "    x = sorted(x)\n",
    "    F = n*[0]\n",
    "    for i in range(n):\n",
    "        F[i] = sum(x <= x[i])/n # F[i] is the number of x's less than x[i] divided by n\n",
    "    return F"
   ]
  },
  {
   "cell_type": "code",
   "execution_count": 9,
   "metadata": {},
   "outputs": [
    {
     "name": "stdout",
     "output_type": "stream",
     "text": "X pH: First quartile(X) = 6.5\nY Pb: First quartile(Y) = 0.203\nX pH: Second quartile(X) = 7.1\nY Pb: Second quartile(Y) = 0.323\nX pH: Third quartile(X) = 7.6\nY Pb: Third quartile(Y) = 0.424\n"
    }
   ],
   "source": [
    "# Returns the smallest value of x (i.e. first value in list sorted in ascending order) where F is larger than q\n",
    "def quantile(x, q):\n",
    "    F = cdf(x)\n",
    "    for i in range(n):\n",
    "        if F[i]>q:\n",
    "            return sorted(x)[i]\n",
    "\n",
    "def Q1(x):\n",
    "    return quantile(x, .25)\n",
    "\n",
    "def Q2(x):\n",
    "    return quantile(x, .5)\n",
    "\n",
    "def Q3(x):\n",
    "    return quantile(x, 0.75)\n",
    "\n",
    "print_stat(\"First quartile\", Q1)\n",
    "print_stat(\"Second quartile\", Q2)\n",
    "print_stat(\"Third quartile\", Q3)"
   ]
  },
  {
   "cell_type": "code",
   "execution_count": 10,
   "metadata": {},
   "outputs": [
    {
     "data": {
      "text/plain": "True"
     },
     "execution_count": 10,
     "metadata": {},
     "output_type": "execute_result"
    }
   ],
   "source": [
    "# The second quartile and the median is the same\n",
    "Q2(pH) == median(pH)"
   ]
  },
  {
   "cell_type": "markdown",
   "execution_count": 6,
   "metadata": {},
   "outputs": [],
   "source": [
    "### Skewness\n",
    "\n",
    "The sample skewness $b$ is defined as\n",
    "\n",
    "$$\n",
    "b = \\frac{ \\frac{1}{n} \\sum_i^n (x_i- \\bar x)^3}{s^3}.\n",
    "$$\n",
    "\n",
    "Negative skew indicates a long left tail, whereas positive skew indicates a long right tail of the distribution."
   ]
  },
  {
   "cell_type": "code",
   "execution_count": 11,
   "metadata": {},
   "outputs": [
    {
     "name": "stdout",
     "output_type": "stream",
     "text": "X pH: Skewness(X) = -0.3\nY Pb: Skewness(Y) = 0.064\n"
    }
   ],
   "source": [
    "def skewness(x):\n",
    "    s = 0\n",
    "    for i in range(n):\n",
    "        s += (x[i] - mean(x))**3\n",
    "    return s/(n*stdev(x)**3)\n",
    "\n",
    "print_stat(\"Skewness\", skewness)"
   ]
  },
  {
   "cell_type": "code",
   "execution_count": 76,
   "metadata": {},
   "outputs": [
    {
     "data": {
      "text/plain": "Text(0.5, 0, 'Pb')"
     },
     "execution_count": 76,
     "metadata": {},
     "output_type": "execute_result"
    },
    {
     "data": {
      "image/png": "[encoded data removed]",
      "image/svg+xml": "<?xml version=\"1.0\" encoding=\"utf-8\" standalone=\"no\"?>\r\n<!DOCTYPE svg PUBLIC \"-//W3C//DTD SVG 1.1//EN\"\r\n  \"http://www.w3.org/Graphics/SVG/1.1/DTD/svg11.dtd\">\r\n<!-- Created with matplotlib (https://matplotlib.org/) -->\r\n<svg height=\"337.119688pt\" version=\"1.1\" viewBox=\"0 0 987.09625 337.119688\" width=\"987.09625pt\" xmlns=\"http://www.w3.org/2000/svg\" xmlns:xlink=\"http://www.w3.org/1999/xlink\">\r\n <defs>\r\n  <style type=\"text/css\">\r\n*{stroke-linecap:butt;stroke-linejoin:round;}\r\n  </style>\r\n </defs>\r\n <g id=\"figure_1\">\r\n  <g id=\"patch_1\">\r\n   <path d=\"M 0 337.119688 \r\nL 987.09625 337.119688 \r\nL 987.09625 0 \r\nL 0 0 \r\nz\r\n\" style=\"fill:#ffffff;\"/>\r\n  </g>\r\n  <g id=\"axes_1\">\r\n   <g id=\"patch_2\">\r\n    <path d=\"M 40.29625 298.8 \r\nL 467.387159 298.8 \r\nL 467.387159 7.2 \r\nL 40.29625 7.2 \r\nz\r\n\" style=\"fill:#e5e5e5;\"/>\r\n   </g>\r\n   <g id=\"matplotlib.axis_1\">\r\n    <g id=\"xtick_1\">\r\n     <g id=\"line2d_1\">\r\n      <path clip-path=\"url(#p45c9ff64bc)\" d=\"M 80.696741 298.8 \r\nL 80.696741 7.2 \r\n\" style=\"fill:none;stroke:#ffffff;\"/>\r\n     </g>\r\n     <g id=\"line2d_2\"/>\r\n     <g id=\"text_1\">\r\n      <!-- 5.0 -->\r\n      <defs>\r\n       <path d=\"M 4.15625 18.75 \r\nL 13.375 19.53125 \r\nQ 14.40625 12.796875 18.140625 9.390625 \r\nQ 21.875 6 27.15625 6 \r\nQ 33.5 6 37.890625 10.78125 \r\nQ 42.28125 15.578125 42.28125 23.484375 \r\nQ 42.28125 31 38.0625 35.34375 \r\nQ 33.84375 39.703125 27 39.703125 \r\nQ 22.75 39.703125 19.328125 37.765625 \r\nQ 15.921875 35.84375 13.96875 32.765625 \r\nL 5.71875 33.84375 \r\nL 12.640625 70.609375 \r\nL 48.25 70.609375 \r\nL 48.25 62.203125 \r\nL 19.671875 62.203125 \r\nL 15.828125 42.96875 \r\nQ 22.265625 47.46875 29.34375 47.46875 \r\nQ 38.71875 47.46875 45.15625 40.96875 \r\nQ 51.609375 34.46875 51.609375 24.265625 \r\nQ 51.609375 14.546875 45.953125 7.46875 \r\nQ 39.0625 -1.21875 27.15625 -1.21875 \r\nQ 17.390625 -1.21875 11.203125 4.25 \r\nQ 5.03125 9.71875 4.15625 18.75 \r\nz\r\n\" id=\"ArialMT-53\"/>\r\n       <path d=\"M 9.078125 0 \r\nL 9.078125 10.015625 \r\nL 19.09375 10.015625 \r\nL 19.09375 0 \r\nz\r\n\" id=\"ArialMT-46\"/>\r\n       <path d=\"M 4.15625 35.296875 \r\nQ 4.15625 48 6.765625 55.734375 \r\nQ 9.375 63.484375 14.515625 67.671875 \r\nQ 19.671875 71.875 27.484375 71.875 \r\nQ 33.25 71.875 37.59375 69.546875 \r\nQ 41.9375 67.234375 44.765625 62.859375 \r\nQ 47.609375 58.5 49.21875 52.21875 \r\nQ 50.828125 45.953125 50.828125 35.296875 \r\nQ 50.828125 22.703125 48.234375 14.96875 \r\nQ 45.65625 7.234375 40.5 3 \r\nQ 35.359375 -1.21875 27.484375 -1.21875 \r\nQ 17.140625 -1.21875 11.234375 6.203125 \r\nQ 4.15625 15.140625 4.15625 35.296875 \r\nz\r\nM 13.1875 35.296875 \r\nQ 13.1875 17.671875 17.3125 11.828125 \r\nQ 21.4375 6 27.484375 6 \r\nQ 33.546875 6 37.671875 11.859375 \r\nQ 41.796875 17.71875 41.796875 35.296875 \r\nQ 41.796875 52.984375 37.671875 58.78125 \r\nQ 33.546875 64.59375 27.390625 64.59375 \r\nQ 21.34375 64.59375 17.71875 59.46875 \r\nQ 13.1875 52.9375 13.1875 35.296875 \r\nz\r\n\" id=\"ArialMT-48\"/>\r\n      </defs>\r\n      <g style=\"fill:#555555;\" transform=\"translate(73.746741 312.957813)scale(0.1 -0.1)\">\r\n       <use xlink:href=\"#ArialMT-53\"/>\r\n       <use x=\"55.615234\" xlink:href=\"#ArialMT-46\"/>\r\n       <use x=\"83.398438\" xlink:href=\"#ArialMT-48\"/>\r\n      </g>\r\n     </g>\r\n    </g>\r\n    <g id=\"xtick_2\">\r\n     <g id=\"line2d_3\">\r\n      <path clip-path=\"url(#p45c9ff64bc)\" d=\"M 133.164912 298.8 \r\nL 133.164912 7.2 \r\n\" style=\"fill:none;stroke:#ffffff;\"/>\r\n     </g>\r\n     <g id=\"line2d_4\"/>\r\n     <g id=\"text_2\">\r\n      <!-- 5.5 -->\r\n      <g style=\"fill:#555555;\" transform=\"translate(126.214912 312.957813)scale(0.1 -0.1)\">\r\n       <use xlink:href=\"#ArialMT-53\"/>\r\n       <use x=\"55.615234\" xlink:href=\"#ArialMT-46\"/>\r\n       <use x=\"83.398438\" xlink:href=\"#ArialMT-53\"/>\r\n      </g>\r\n     </g>\r\n    </g>\r\n    <g id=\"xtick_3\">\r\n     <g id=\"line2d_5\">\r\n      <path clip-path=\"url(#p45c9ff64bc)\" d=\"M 185.633083 298.8 \r\nL 185.633083 7.2 \r\n\" style=\"fill:none;stroke:#ffffff;\"/>\r\n     </g>\r\n     <g id=\"line2d_6\"/>\r\n     <g id=\"text_3\">\r\n      <!-- 6.0 -->\r\n      <defs>\r\n       <path d=\"M 49.75 54.046875 \r\nL 41.015625 53.375 \r\nQ 39.84375 58.546875 37.703125 60.890625 \r\nQ 34.125 64.65625 28.90625 64.65625 \r\nQ 24.703125 64.65625 21.53125 62.3125 \r\nQ 17.390625 59.28125 14.984375 53.46875 \r\nQ 12.59375 47.65625 12.5 36.921875 \r\nQ 15.671875 41.75 20.265625 44.09375 \r\nQ 24.859375 46.4375 29.890625 46.4375 \r\nQ 38.671875 46.4375 44.84375 39.96875 \r\nQ 51.03125 33.5 51.03125 23.25 \r\nQ 51.03125 16.5 48.125 10.71875 \r\nQ 45.21875 4.9375 40.140625 1.859375 \r\nQ 35.0625 -1.21875 28.609375 -1.21875 \r\nQ 17.625 -1.21875 10.6875 6.859375 \r\nQ 3.765625 14.9375 3.765625 33.5 \r\nQ 3.765625 54.25 11.421875 63.671875 \r\nQ 18.109375 71.875 29.4375 71.875 \r\nQ 37.890625 71.875 43.28125 67.140625 \r\nQ 48.6875 62.40625 49.75 54.046875 \r\nz\r\nM 13.875 23.1875 \r\nQ 13.875 18.65625 15.796875 14.5 \r\nQ 17.71875 10.359375 21.1875 8.171875 \r\nQ 24.65625 6 28.46875 6 \r\nQ 34.03125 6 38.03125 10.484375 \r\nQ 42.046875 14.984375 42.046875 22.703125 \r\nQ 42.046875 30.125 38.078125 34.390625 \r\nQ 34.125 38.671875 28.125 38.671875 \r\nQ 22.171875 38.671875 18.015625 34.390625 \r\nQ 13.875 30.125 13.875 23.1875 \r\nz\r\n\" id=\"ArialMT-54\"/>\r\n      </defs>\r\n      <g style=\"fill:#555555;\" transform=\"translate(178.683083 312.957813)scale(0.1 -0.1)\">\r\n       <use xlink:href=\"#ArialMT-54\"/>\r\n       <use x=\"55.615234\" xlink:href=\"#ArialMT-46\"/>\r\n       <use x=\"83.398438\" xlink:href=\"#ArialMT-48\"/>\r\n      </g>\r\n     </g>\r\n    </g>\r\n    <g id=\"xtick_4\">\r\n     <g id=\"line2d_7\">\r\n      <path clip-path=\"url(#p45c9ff64bc)\" d=\"M 238.101253 298.8 \r\nL 238.101253 7.2 \r\n\" style=\"fill:none;stroke:#ffffff;\"/>\r\n     </g>\r\n     <g id=\"line2d_8\"/>\r\n     <g id=\"text_4\">\r\n      <!-- 6.5 -->\r\n      <g style=\"fill:#555555;\" transform=\"translate(231.151253 312.957813)scale(0.1 -0.1)\">\r\n       <use xlink:href=\"#ArialMT-54\"/>\r\n       <use x=\"55.615234\" xlink:href=\"#ArialMT-46\"/>\r\n       <use x=\"83.398438\" xlink:href=\"#ArialMT-53\"/>\r\n      </g>\r\n     </g>\r\n    </g>\r\n    <g id=\"xtick_5\">\r\n     <g id=\"line2d_9\">\r\n      <path clip-path=\"url(#p45c9ff64bc)\" d=\"M 290.569424 298.8 \r\nL 290.569424 7.2 \r\n\" style=\"fill:none;stroke:#ffffff;\"/>\r\n     </g>\r\n     <g id=\"line2d_10\"/>\r\n     <g id=\"text_5\">\r\n      <!-- 7.0 -->\r\n      <defs>\r\n       <path d=\"M 4.734375 62.203125 \r\nL 4.734375 70.65625 \r\nL 51.078125 70.65625 \r\nL 51.078125 63.8125 \r\nQ 44.234375 56.546875 37.515625 44.484375 \r\nQ 30.8125 32.421875 27.15625 19.671875 \r\nQ 24.515625 10.6875 23.78125 0 \r\nL 14.75 0 \r\nQ 14.890625 8.453125 18.0625 20.40625 \r\nQ 21.234375 32.375 27.171875 43.484375 \r\nQ 33.109375 54.59375 39.796875 62.203125 \r\nz\r\n\" id=\"ArialMT-55\"/>\r\n      </defs>\r\n      <g style=\"fill:#555555;\" transform=\"translate(283.619424 312.957813)scale(0.1 -0.1)\">\r\n       <use xlink:href=\"#ArialMT-55\"/>\r\n       <use x=\"55.615234\" xlink:href=\"#ArialMT-46\"/>\r\n       <use x=\"83.398438\" xlink:href=\"#ArialMT-48\"/>\r\n      </g>\r\n     </g>\r\n    </g>\r\n    <g id=\"xtick_6\">\r\n     <g id=\"line2d_11\">\r\n      <path clip-path=\"url(#p45c9ff64bc)\" d=\"M 343.037595 298.8 \r\nL 343.037595 7.2 \r\n\" style=\"fill:none;stroke:#ffffff;\"/>\r\n     </g>\r\n     <g id=\"line2d_12\"/>\r\n     <g id=\"text_6\">\r\n      <!-- 7.5 -->\r\n      <g style=\"fill:#555555;\" transform=\"translate(336.087595 312.957813)scale(0.1 -0.1)\">\r\n       <use xlink:href=\"#ArialMT-55\"/>\r\n       <use x=\"55.615234\" xlink:href=\"#ArialMT-46\"/>\r\n       <use x=\"83.398438\" xlink:href=\"#ArialMT-53\"/>\r\n      </g>\r\n     </g>\r\n    </g>\r\n    <g id=\"xtick_7\">\r\n     <g id=\"line2d_13\">\r\n      <path clip-path=\"url(#p45c9ff64bc)\" d=\"M 395.505765 298.8 \r\nL 395.505765 7.2 \r\n\" style=\"fill:none;stroke:#ffffff;\"/>\r\n     </g>\r\n     <g id=\"line2d_14\"/>\r\n     <g id=\"text_7\">\r\n      <!-- 8.0 -->\r\n      <defs>\r\n       <path d=\"M 17.671875 38.8125 \r\nQ 12.203125 40.828125 9.5625 44.53125 \r\nQ 6.9375 48.25 6.9375 53.421875 \r\nQ 6.9375 61.234375 12.546875 66.546875 \r\nQ 18.171875 71.875 27.484375 71.875 \r\nQ 36.859375 71.875 42.578125 66.421875 \r\nQ 48.296875 60.984375 48.296875 53.171875 \r\nQ 48.296875 48.1875 45.671875 44.5 \r\nQ 43.0625 40.828125 37.75 38.8125 \r\nQ 44.34375 36.671875 47.78125 31.875 \r\nQ 51.21875 27.09375 51.21875 20.453125 \r\nQ 51.21875 11.28125 44.71875 5.03125 \r\nQ 38.234375 -1.21875 27.640625 -1.21875 \r\nQ 17.046875 -1.21875 10.546875 5.046875 \r\nQ 4.046875 11.328125 4.046875 20.703125 \r\nQ 4.046875 27.6875 7.59375 32.390625 \r\nQ 11.140625 37.109375 17.671875 38.8125 \r\nz\r\nM 15.921875 53.71875 \r\nQ 15.921875 48.640625 19.1875 45.40625 \r\nQ 22.46875 42.1875 27.6875 42.1875 \r\nQ 32.765625 42.1875 36.015625 45.375 \r\nQ 39.265625 48.578125 39.265625 53.21875 \r\nQ 39.265625 58.0625 35.90625 61.359375 \r\nQ 32.5625 64.65625 27.59375 64.65625 \r\nQ 22.5625 64.65625 19.234375 61.421875 \r\nQ 15.921875 58.203125 15.921875 53.71875 \r\nz\r\nM 13.09375 20.65625 \r\nQ 13.09375 16.890625 14.875 13.375 \r\nQ 16.65625 9.859375 20.171875 7.921875 \r\nQ 23.6875 6 27.734375 6 \r\nQ 34.03125 6 38.125 10.046875 \r\nQ 42.234375 14.109375 42.234375 20.359375 \r\nQ 42.234375 26.703125 38.015625 30.859375 \r\nQ 33.796875 35.015625 27.4375 35.015625 \r\nQ 21.234375 35.015625 17.15625 30.90625 \r\nQ 13.09375 26.8125 13.09375 20.65625 \r\nz\r\n\" id=\"ArialMT-56\"/>\r\n      </defs>\r\n      <g style=\"fill:#555555;\" transform=\"translate(388.555765 312.957813)scale(0.1 -0.1)\">\r\n       <use xlink:href=\"#ArialMT-56\"/>\r\n       <use x=\"55.615234\" xlink:href=\"#ArialMT-46\"/>\r\n       <use x=\"83.398438\" xlink:href=\"#ArialMT-48\"/>\r\n      </g>\r\n     </g>\r\n    </g>\r\n    <g id=\"xtick_8\">\r\n     <g id=\"line2d_15\">\r\n      <path clip-path=\"url(#p45c9ff64bc)\" d=\"M 447.973936 298.8 \r\nL 447.973936 7.2 \r\n\" style=\"fill:none;stroke:#ffffff;\"/>\r\n     </g>\r\n     <g id=\"line2d_16\"/>\r\n     <g id=\"text_8\">\r\n      <!-- 8.5 -->\r\n      <g style=\"fill:#555555;\" transform=\"translate(441.023936 312.957813)scale(0.1 -0.1)\">\r\n       <use xlink:href=\"#ArialMT-56\"/>\r\n       <use x=\"55.615234\" xlink:href=\"#ArialMT-46\"/>\r\n       <use x=\"83.398438\" xlink:href=\"#ArialMT-53\"/>\r\n      </g>\r\n     </g>\r\n    </g>\r\n    <g id=\"text_9\">\r\n     <!-- pH -->\r\n     <defs>\r\n      <path d=\"M 6.59375 -19.875 \r\nL 6.59375 51.859375 \r\nL 14.59375 51.859375 \r\nL 14.59375 45.125 \r\nQ 17.4375 49.078125 21 51.046875 \r\nQ 24.5625 53.03125 29.640625 53.03125 \r\nQ 36.28125 53.03125 41.359375 49.609375 \r\nQ 46.4375 46.1875 49.015625 39.953125 \r\nQ 51.609375 33.734375 51.609375 26.3125 \r\nQ 51.609375 18.359375 48.75 11.984375 \r\nQ 45.90625 5.609375 40.453125 2.21875 \r\nQ 35.015625 -1.171875 29 -1.171875 \r\nQ 24.609375 -1.171875 21.109375 0.6875 \r\nQ 17.625 2.546875 15.375 5.375 \r\nL 15.375 -19.875 \r\nz\r\nM 14.546875 25.640625 \r\nQ 14.546875 15.625 18.59375 10.84375 \r\nQ 22.65625 6.0625 28.421875 6.0625 \r\nQ 34.28125 6.0625 38.453125 11.015625 \r\nQ 42.625 15.96875 42.625 26.375 \r\nQ 42.625 36.28125 38.546875 41.203125 \r\nQ 34.46875 46.140625 28.8125 46.140625 \r\nQ 23.1875 46.140625 18.859375 40.890625 \r\nQ 14.546875 35.640625 14.546875 25.640625 \r\nz\r\n\" id=\"ArialMT-112\"/>\r\n      <path d=\"M 8.015625 0 \r\nL 8.015625 71.578125 \r\nL 17.484375 71.578125 \r\nL 17.484375 42.1875 \r\nL 54.6875 42.1875 \r\nL 54.6875 71.578125 \r\nL 64.15625 71.578125 \r\nL 64.15625 0 \r\nL 54.6875 0 \r\nL 54.6875 33.734375 \r\nL 17.484375 33.734375 \r\nL 17.484375 0 \r\nz\r\n\" id=\"ArialMT-72\"/>\r\n     </defs>\r\n     <g style=\"fill:#555555;\" transform=\"translate(246.172017 327.534688)scale(0.12 -0.12)\">\r\n      <use xlink:href=\"#ArialMT-112\"/>\r\n      <use x=\"55.615234\" xlink:href=\"#ArialMT-72\"/>\r\n     </g>\r\n    </g>\r\n   </g>\r\n   <g id=\"matplotlib.axis_2\">\r\n    <g id=\"ytick_1\">\r\n     <g id=\"line2d_17\">\r\n      <path clip-path=\"url(#p45c9ff64bc)\" d=\"M 40.29625 298.8 \r\nL 467.387159 298.8 \r\n\" style=\"fill:none;stroke:#ffffff;\"/>\r\n     </g>\r\n     <g id=\"line2d_18\"/>\r\n     <g id=\"text_10\">\r\n      <!-- 0 -->\r\n      <g style=\"fill:#555555;\" transform=\"translate(27.735313 302.378906)scale(0.1 -0.1)\">\r\n       <use xlink:href=\"#ArialMT-48\"/>\r\n      </g>\r\n     </g>\r\n    </g>\r\n    <g id=\"ytick_2\">\r\n     <g id=\"line2d_19\">\r\n      <path clip-path=\"url(#p45c9ff64bc)\" d=\"M 40.29625 259.126531 \r\nL 467.387159 259.126531 \r\n\" style=\"fill:none;stroke:#ffffff;\"/>\r\n     </g>\r\n     <g id=\"line2d_20\"/>\r\n     <g id=\"text_11\">\r\n      <!-- 2 -->\r\n      <defs>\r\n       <path d=\"M 50.34375 8.453125 \r\nL 50.34375 0 \r\nL 3.03125 0 \r\nQ 2.9375 3.171875 4.046875 6.109375 \r\nQ 5.859375 10.9375 9.828125 15.625 \r\nQ 13.8125 20.3125 21.34375 26.46875 \r\nQ 33.015625 36.03125 37.109375 41.625 \r\nQ 41.21875 47.21875 41.21875 52.203125 \r\nQ 41.21875 57.421875 37.46875 61 \r\nQ 33.734375 64.59375 27.734375 64.59375 \r\nQ 21.390625 64.59375 17.578125 60.78125 \r\nQ 13.765625 56.984375 13.71875 50.25 \r\nL 4.6875 51.171875 \r\nQ 5.609375 61.28125 11.65625 66.578125 \r\nQ 17.71875 71.875 27.9375 71.875 \r\nQ 38.234375 71.875 44.234375 66.15625 \r\nQ 50.25 60.453125 50.25 52 \r\nQ 50.25 47.703125 48.484375 43.546875 \r\nQ 46.734375 39.40625 42.65625 34.8125 \r\nQ 38.578125 30.21875 29.109375 22.21875 \r\nQ 21.1875 15.578125 18.9375 13.203125 \r\nQ 16.703125 10.84375 15.234375 8.453125 \r\nz\r\n\" id=\"ArialMT-50\"/>\r\n      </defs>\r\n      <g style=\"fill:#555555;\" transform=\"translate(27.735313 262.705437)scale(0.1 -0.1)\">\r\n       <use xlink:href=\"#ArialMT-50\"/>\r\n      </g>\r\n     </g>\r\n    </g>\r\n    <g id=\"ytick_3\">\r\n     <g id=\"line2d_21\">\r\n      <path clip-path=\"url(#p45c9ff64bc)\" d=\"M 40.29625 219.453061 \r\nL 467.387159 219.453061 \r\n\" style=\"fill:none;stroke:#ffffff;\"/>\r\n     </g>\r\n     <g id=\"line2d_22\"/>\r\n     <g id=\"text_12\">\r\n      <!-- 4 -->\r\n      <defs>\r\n       <path d=\"M 32.328125 0 \r\nL 32.328125 17.140625 \r\nL 1.265625 17.140625 \r\nL 1.265625 25.203125 \r\nL 33.9375 71.578125 \r\nL 41.109375 71.578125 \r\nL 41.109375 25.203125 \r\nL 50.78125 25.203125 \r\nL 50.78125 17.140625 \r\nL 41.109375 17.140625 \r\nL 41.109375 0 \r\nz\r\nM 32.328125 25.203125 \r\nL 32.328125 57.46875 \r\nL 9.90625 25.203125 \r\nz\r\n\" id=\"ArialMT-52\"/>\r\n      </defs>\r\n      <g style=\"fill:#555555;\" transform=\"translate(27.735313 223.031967)scale(0.1 -0.1)\">\r\n       <use xlink:href=\"#ArialMT-52\"/>\r\n      </g>\r\n     </g>\r\n    </g>\r\n    <g id=\"ytick_4\">\r\n     <g id=\"line2d_23\">\r\n      <path clip-path=\"url(#p45c9ff64bc)\" d=\"M 40.29625 179.779592 \r\nL 467.387159 179.779592 \r\n\" style=\"fill:none;stroke:#ffffff;\"/>\r\n     </g>\r\n     <g id=\"line2d_24\"/>\r\n     <g id=\"text_13\">\r\n      <!-- 6 -->\r\n      <g style=\"fill:#555555;\" transform=\"translate(27.735313 183.358498)scale(0.1 -0.1)\">\r\n       <use xlink:href=\"#ArialMT-54\"/>\r\n      </g>\r\n     </g>\r\n    </g>\r\n    <g id=\"ytick_5\">\r\n     <g id=\"line2d_25\">\r\n      <path clip-path=\"url(#p45c9ff64bc)\" d=\"M 40.29625 140.106122 \r\nL 467.387159 140.106122 \r\n\" style=\"fill:none;stroke:#ffffff;\"/>\r\n     </g>\r\n     <g id=\"line2d_26\"/>\r\n     <g id=\"text_14\">\r\n      <!-- 8 -->\r\n      <g style=\"fill:#555555;\" transform=\"translate(27.735313 143.685029)scale(0.1 -0.1)\">\r\n       <use xlink:href=\"#ArialMT-56\"/>\r\n      </g>\r\n     </g>\r\n    </g>\r\n    <g id=\"ytick_6\">\r\n     <g id=\"line2d_27\">\r\n      <path clip-path=\"url(#p45c9ff64bc)\" d=\"M 40.29625 100.432653 \r\nL 467.387159 100.432653 \r\n\" style=\"fill:none;stroke:#ffffff;\"/>\r\n     </g>\r\n     <g id=\"line2d_28\"/>\r\n     <g id=\"text_15\">\r\n      <!-- 10 -->\r\n      <defs>\r\n       <path d=\"M 37.25 0 \r\nL 28.46875 0 \r\nL 28.46875 56 \r\nQ 25.296875 52.984375 20.140625 49.953125 \r\nQ 14.984375 46.921875 10.890625 45.40625 \r\nL 10.890625 53.90625 \r\nQ 18.265625 57.375 23.78125 62.296875 \r\nQ 29.296875 67.234375 31.59375 71.875 \r\nL 37.25 71.875 \r\nz\r\n\" id=\"ArialMT-49\"/>\r\n      </defs>\r\n      <g style=\"fill:#555555;\" transform=\"translate(22.174375 104.011559)scale(0.1 -0.1)\">\r\n       <use xlink:href=\"#ArialMT-49\"/>\r\n       <use x=\"55.615234\" xlink:href=\"#ArialMT-48\"/>\r\n      </g>\r\n     </g>\r\n    </g>\r\n    <g id=\"ytick_7\">\r\n     <g id=\"line2d_29\">\r\n      <path clip-path=\"url(#p45c9ff64bc)\" d=\"M 40.29625 60.759184 \r\nL 467.387159 60.759184 \r\n\" style=\"fill:none;stroke:#ffffff;\"/>\r\n     </g>\r\n     <g id=\"line2d_30\"/>\r\n     <g id=\"text_16\">\r\n      <!-- 12 -->\r\n      <g style=\"fill:#555555;\" transform=\"translate(22.174375 64.33809)scale(0.1 -0.1)\">\r\n       <use xlink:href=\"#ArialMT-49\"/>\r\n       <use x=\"55.615234\" xlink:href=\"#ArialMT-50\"/>\r\n      </g>\r\n     </g>\r\n    </g>\r\n    <g id=\"ytick_8\">\r\n     <g id=\"line2d_31\">\r\n      <path clip-path=\"url(#p45c9ff64bc)\" d=\"M 40.29625 21.085714 \r\nL 467.387159 21.085714 \r\n\" style=\"fill:none;stroke:#ffffff;\"/>\r\n     </g>\r\n     <g id=\"line2d_32\"/>\r\n     <g id=\"text_17\">\r\n      <!-- 14 -->\r\n      <g style=\"fill:#555555;\" transform=\"translate(22.174375 24.664621)scale(0.1 -0.1)\">\r\n       <use xlink:href=\"#ArialMT-49\"/>\r\n       <use x=\"55.615234\" xlink:href=\"#ArialMT-52\"/>\r\n      </g>\r\n     </g>\r\n    </g>\r\n    <g id=\"text_18\">\r\n     <!-- Frequencies -->\r\n     <defs>\r\n      <path d=\"M 8.203125 0 \r\nL 8.203125 71.578125 \r\nL 56.5 71.578125 \r\nL 56.5 63.140625 \r\nL 17.671875 63.140625 \r\nL 17.671875 40.96875 \r\nL 51.265625 40.96875 \r\nL 51.265625 32.515625 \r\nL 17.671875 32.515625 \r\nL 17.671875 0 \r\nz\r\n\" id=\"ArialMT-70\"/>\r\n      <path d=\"M 6.5 0 \r\nL 6.5 51.859375 \r\nL 14.40625 51.859375 \r\nL 14.40625 44 \r\nQ 17.4375 49.515625 20 51.265625 \r\nQ 22.5625 53.03125 25.640625 53.03125 \r\nQ 30.078125 53.03125 34.671875 50.203125 \r\nL 31.640625 42.046875 \r\nQ 28.421875 43.953125 25.203125 43.953125 \r\nQ 22.3125 43.953125 20.015625 42.21875 \r\nQ 17.71875 40.484375 16.75 37.40625 \r\nQ 15.28125 32.71875 15.28125 27.15625 \r\nL 15.28125 0 \r\nz\r\n\" id=\"ArialMT-114\"/>\r\n      <path d=\"M 42.09375 16.703125 \r\nL 51.171875 15.578125 \r\nQ 49.03125 7.625 43.21875 3.21875 \r\nQ 37.40625 -1.171875 28.375 -1.171875 \r\nQ 17 -1.171875 10.328125 5.828125 \r\nQ 3.65625 12.84375 3.65625 25.484375 \r\nQ 3.65625 38.578125 10.390625 45.796875 \r\nQ 17.140625 53.03125 27.875 53.03125 \r\nQ 38.28125 53.03125 44.875 45.953125 \r\nQ 51.46875 38.875 51.46875 26.03125 \r\nQ 51.46875 25.25 51.421875 23.6875 \r\nL 12.75 23.6875 \r\nQ 13.234375 15.140625 17.578125 10.59375 \r\nQ 21.921875 6.0625 28.421875 6.0625 \r\nQ 33.25 6.0625 36.671875 8.59375 \r\nQ 40.09375 11.140625 42.09375 16.703125 \r\nz\r\nM 13.234375 30.90625 \r\nL 42.1875 30.90625 \r\nQ 41.609375 37.453125 38.875 40.71875 \r\nQ 34.671875 45.796875 27.984375 45.796875 \r\nQ 21.921875 45.796875 17.796875 41.75 \r\nQ 13.671875 37.703125 13.234375 30.90625 \r\nz\r\n\" id=\"ArialMT-101\"/>\r\n      <path d=\"M 39.65625 -19.875 \r\nL 39.65625 5.515625 \r\nQ 37.59375 2.640625 33.90625 0.734375 \r\nQ 30.21875 -1.171875 26.078125 -1.171875 \r\nQ 16.84375 -1.171875 10.171875 6.203125 \r\nQ 3.515625 13.578125 3.515625 26.421875 \r\nQ 3.515625 34.234375 6.21875 40.421875 \r\nQ 8.9375 46.625 14.078125 49.828125 \r\nQ 19.234375 53.03125 25.390625 53.03125 \r\nQ 35.015625 53.03125 40.53125 44.921875 \r\nL 40.53125 51.859375 \r\nL 48.4375 51.859375 \r\nL 48.4375 -19.875 \r\nz\r\nM 12.546875 26.078125 \r\nQ 12.546875 16.0625 16.75 11.0625 \r\nQ 20.953125 6.0625 26.8125 6.0625 \r\nQ 32.421875 6.0625 36.46875 10.8125 \r\nQ 40.53125 15.578125 40.53125 25.296875 \r\nQ 40.53125 35.640625 36.25 40.859375 \r\nQ 31.984375 46.09375 26.21875 46.09375 \r\nQ 20.515625 46.09375 16.53125 41.234375 \r\nQ 12.546875 36.375 12.546875 26.078125 \r\nz\r\n\" id=\"ArialMT-113\"/>\r\n      <path d=\"M 40.578125 0 \r\nL 40.578125 7.625 \r\nQ 34.515625 -1.171875 24.125 -1.171875 \r\nQ 19.53125 -1.171875 15.546875 0.578125 \r\nQ 11.578125 2.34375 9.640625 5 \r\nQ 7.71875 7.671875 6.9375 11.53125 \r\nQ 6.390625 14.109375 6.390625 19.734375 \r\nL 6.390625 51.859375 \r\nL 15.1875 51.859375 \r\nL 15.1875 23.09375 \r\nQ 15.1875 16.21875 15.71875 13.8125 \r\nQ 16.546875 10.359375 19.234375 8.375 \r\nQ 21.921875 6.390625 25.875 6.390625 \r\nQ 29.828125 6.390625 33.296875 8.421875 \r\nQ 36.765625 10.453125 38.203125 13.9375 \r\nQ 39.65625 17.4375 39.65625 24.078125 \r\nL 39.65625 51.859375 \r\nL 48.4375 51.859375 \r\nL 48.4375 0 \r\nz\r\n\" id=\"ArialMT-117\"/>\r\n      <path d=\"M 6.59375 0 \r\nL 6.59375 51.859375 \r\nL 14.5 51.859375 \r\nL 14.5 44.484375 \r\nQ 20.21875 53.03125 31 53.03125 \r\nQ 35.6875 53.03125 39.625 51.34375 \r\nQ 43.5625 49.65625 45.515625 46.921875 \r\nQ 47.46875 44.1875 48.25 40.4375 \r\nQ 48.734375 37.984375 48.734375 31.890625 \r\nL 48.734375 0 \r\nL 39.9375 0 \r\nL 39.9375 31.546875 \r\nQ 39.9375 36.921875 38.90625 39.578125 \r\nQ 37.890625 42.234375 35.28125 43.8125 \r\nQ 32.671875 45.40625 29.15625 45.40625 \r\nQ 23.53125 45.40625 19.453125 41.84375 \r\nQ 15.375 38.28125 15.375 28.328125 \r\nL 15.375 0 \r\nz\r\n\" id=\"ArialMT-110\"/>\r\n      <path d=\"M 40.4375 19 \r\nL 49.078125 17.875 \r\nQ 47.65625 8.9375 41.8125 3.875 \r\nQ 35.984375 -1.171875 27.484375 -1.171875 \r\nQ 16.84375 -1.171875 10.375 5.78125 \r\nQ 3.90625 12.75 3.90625 25.734375 \r\nQ 3.90625 34.125 6.6875 40.421875 \r\nQ 9.46875 46.734375 15.15625 49.875 \r\nQ 20.84375 53.03125 27.546875 53.03125 \r\nQ 35.984375 53.03125 41.359375 48.75 \r\nQ 46.734375 44.484375 48.25 36.625 \r\nL 39.703125 35.296875 \r\nQ 38.484375 40.53125 35.375 43.15625 \r\nQ 32.28125 45.796875 27.875 45.796875 \r\nQ 21.234375 45.796875 17.078125 41.03125 \r\nQ 12.9375 36.28125 12.9375 25.984375 \r\nQ 12.9375 15.53125 16.9375 10.796875 \r\nQ 20.953125 6.0625 27.390625 6.0625 \r\nQ 32.5625 6.0625 36.03125 9.234375 \r\nQ 39.5 12.40625 40.4375 19 \r\nz\r\n\" id=\"ArialMT-99\"/>\r\n      <path d=\"M 6.640625 61.46875 \r\nL 6.640625 71.578125 \r\nL 15.4375 71.578125 \r\nL 15.4375 61.46875 \r\nz\r\nM 6.640625 0 \r\nL 6.640625 51.859375 \r\nL 15.4375 51.859375 \r\nL 15.4375 0 \r\nz\r\n\" id=\"ArialMT-105\"/>\r\n      <path d=\"M 3.078125 15.484375 \r\nL 11.765625 16.84375 \r\nQ 12.5 11.625 15.84375 8.84375 \r\nQ 19.1875 6.0625 25.203125 6.0625 \r\nQ 31.25 6.0625 34.171875 8.515625 \r\nQ 37.109375 10.984375 37.109375 14.3125 \r\nQ 37.109375 17.28125 34.515625 19 \r\nQ 32.71875 20.171875 25.53125 21.96875 \r\nQ 15.875 24.421875 12.140625 26.203125 \r\nQ 8.40625 27.984375 6.46875 31.125 \r\nQ 4.546875 34.28125 4.546875 38.09375 \r\nQ 4.546875 41.546875 6.125 44.5 \r\nQ 7.71875 47.46875 10.453125 49.421875 \r\nQ 12.5 50.921875 16.03125 51.96875 \r\nQ 19.578125 53.03125 23.640625 53.03125 \r\nQ 29.734375 53.03125 34.34375 51.265625 \r\nQ 38.96875 49.515625 41.15625 46.5 \r\nQ 43.359375 43.5 44.1875 38.484375 \r\nL 35.59375 37.3125 \r\nQ 35.015625 41.3125 32.203125 43.546875 \r\nQ 29.390625 45.796875 24.265625 45.796875 \r\nQ 18.21875 45.796875 15.625 43.796875 \r\nQ 13.03125 41.796875 13.03125 39.109375 \r\nQ 13.03125 37.40625 14.109375 36.03125 \r\nQ 15.1875 34.625 17.484375 33.6875 \r\nQ 18.796875 33.203125 25.25 31.453125 \r\nQ 34.578125 28.953125 38.25 27.359375 \r\nQ 41.9375 25.78125 44.03125 22.75 \r\nQ 46.140625 19.734375 46.140625 15.234375 \r\nQ 46.140625 10.84375 43.578125 6.953125 \r\nQ 41.015625 3.078125 36.171875 0.953125 \r\nQ 31.34375 -1.171875 25.25 -1.171875 \r\nQ 15.140625 -1.171875 9.84375 3.03125 \r\nQ 4.546875 7.234375 3.078125 15.484375 \r\nz\r\n\" id=\"ArialMT-115\"/>\r\n     </defs>\r\n     <g style=\"fill:#555555;\" transform=\"translate(15.789375 186.015)rotate(-90)scale(0.12 -0.12)\">\r\n      <use xlink:href=\"#ArialMT-70\"/>\r\n      <use x=\"61.083984\" xlink:href=\"#ArialMT-114\"/>\r\n      <use x=\"94.384766\" xlink:href=\"#ArialMT-101\"/>\r\n      <use x=\"150\" xlink:href=\"#ArialMT-113\"/>\r\n      <use x=\"205.615234\" xlink:href=\"#ArialMT-117\"/>\r\n      <use x=\"261.230469\" xlink:href=\"#ArialMT-101\"/>\r\n      <use x=\"316.845703\" xlink:href=\"#ArialMT-110\"/>\r\n      <use x=\"372.460938\" xlink:href=\"#ArialMT-99\"/>\r\n      <use x=\"422.460938\" xlink:href=\"#ArialMT-105\"/>\r\n      <use x=\"444.677734\" xlink:href=\"#ArialMT-101\"/>\r\n      <use x=\"500.292969\" xlink:href=\"#ArialMT-115\"/>\r\n     </g>\r\n    </g>\r\n   </g>\r\n   <g id=\"patch_3\">\r\n    <path clip-path=\"url(#p45c9ff64bc)\" d=\"M 59.709473 298.8 \r\nL 124.420217 298.8 \r\nL 124.420217 278.963265 \r\nL 59.709473 278.963265 \r\nz\r\n\" style=\"fill:#e24a33;\"/>\r\n   </g>\r\n   <g id=\"patch_4\">\r\n    <path clip-path=\"url(#p45c9ff64bc)\" d=\"M 124.420217 298.8 \r\nL 189.130961 298.8 \r\nL 189.130961 219.453061 \r\nL 124.420217 219.453061 \r\nz\r\n\" style=\"fill:#e24a33;\"/>\r\n   </g>\r\n   <g id=\"patch_5\">\r\n    <path clip-path=\"url(#p45c9ff64bc)\" d=\"M 189.130961 298.8 \r\nL 253.841705 298.8 \r\nL 253.841705 60.759184 \r\nL 189.130961 60.759184 \r\nz\r\n\" style=\"fill:#e24a33;\"/>\r\n   </g>\r\n   <g id=\"patch_6\">\r\n    <path clip-path=\"url(#p45c9ff64bc)\" d=\"M 253.841705 298.8 \r\nL 318.552448 298.8 \r\nL 318.552448 21.085714 \r\nL 253.841705 21.085714 \r\nz\r\n\" style=\"fill:#e24a33;\"/>\r\n   </g>\r\n   <g id=\"patch_7\">\r\n    <path clip-path=\"url(#p45c9ff64bc)\" d=\"M 318.552448 298.8 \r\nL 383.263192 298.8 \r\nL 383.263192 159.942857 \r\nL 318.552448 159.942857 \r\nz\r\n\" style=\"fill:#e24a33;\"/>\r\n   </g>\r\n   <g id=\"patch_8\">\r\n    <path clip-path=\"url(#p45c9ff64bc)\" d=\"M 383.263192 298.8 \r\nL 447.973936 298.8 \r\nL 447.973936 100.432653 \r\nL 383.263192 100.432653 \r\nz\r\n\" style=\"fill:#e24a33;\"/>\r\n   </g>\r\n   <g id=\"patch_9\">\r\n    <path d=\"M 40.29625 298.8 \r\nL 40.29625 7.2 \r\n\" style=\"fill:none;stroke:#ffffff;stroke-linecap:square;stroke-linejoin:miter;\"/>\r\n   </g>\r\n   <g id=\"patch_10\">\r\n    <path d=\"M 467.387159 298.8 \r\nL 467.387159 7.2 \r\n\" style=\"fill:none;stroke:#ffffff;stroke-linecap:square;stroke-linejoin:miter;\"/>\r\n   </g>\r\n   <g id=\"patch_11\">\r\n    <path d=\"M 40.29625 298.8 \r\nL 467.387159 298.8 \r\n\" style=\"fill:none;stroke:#ffffff;stroke-linecap:square;stroke-linejoin:miter;\"/>\r\n   </g>\r\n   <g id=\"patch_12\">\r\n    <path d=\"M 40.29625 7.2 \r\nL 467.387159 7.2 \r\n\" style=\"fill:none;stroke:#ffffff;stroke-linecap:square;stroke-linejoin:miter;\"/>\r\n   </g>\r\n  </g>\r\n  <g id=\"axes_2\">\r\n   <g id=\"patch_13\">\r\n    <path d=\"M 552.805341 298.8 \r\nL 979.89625 298.8 \r\nL 979.89625 7.2 \r\nL 552.805341 7.2 \r\nz\r\n\" style=\"fill:#e5e5e5;\"/>\r\n   </g>\r\n   <g id=\"matplotlib.axis_3\">\r\n    <g id=\"xtick_9\">\r\n     <g id=\"line2d_33\">\r\n      <path clip-path=\"url(#pb54b89d84a)\" d=\"M 566.698216 298.8 \r\nL 566.698216 7.2 \r\n\" style=\"fill:none;stroke:#ffffff;\"/>\r\n     </g>\r\n     <g id=\"line2d_34\"/>\r\n     <g id=\"text_19\">\r\n      <!-- 0.1 -->\r\n      <g style=\"fill:#555555;\" transform=\"translate(559.748216 312.957813)scale(0.1 -0.1)\">\r\n       <use xlink:href=\"#ArialMT-48\"/>\r\n       <use x=\"55.615234\" xlink:href=\"#ArialMT-46\"/>\r\n       <use x=\"83.398438\" xlink:href=\"#ArialMT-49\"/>\r\n      </g>\r\n     </g>\r\n    </g>\r\n    <g id=\"xtick_10\">\r\n     <g id=\"line2d_35\">\r\n      <path clip-path=\"url(#pb54b89d84a)\" d=\"M 658.704013 298.8 \r\nL 658.704013 7.2 \r\n\" style=\"fill:none;stroke:#ffffff;\"/>\r\n     </g>\r\n     <g id=\"line2d_36\"/>\r\n     <g id=\"text_20\">\r\n      <!-- 0.2 -->\r\n      <g style=\"fill:#555555;\" transform=\"translate(651.754013 312.957813)scale(0.1 -0.1)\">\r\n       <use xlink:href=\"#ArialMT-48\"/>\r\n       <use x=\"55.615234\" xlink:href=\"#ArialMT-46\"/>\r\n       <use x=\"83.398438\" xlink:href=\"#ArialMT-50\"/>\r\n      </g>\r\n     </g>\r\n    </g>\r\n    <g id=\"xtick_11\">\r\n     <g id=\"line2d_37\">\r\n      <path clip-path=\"url(#pb54b89d84a)\" d=\"M 750.70981 298.8 \r\nL 750.70981 7.2 \r\n\" style=\"fill:none;stroke:#ffffff;\"/>\r\n     </g>\r\n     <g id=\"line2d_38\"/>\r\n     <g id=\"text_21\">\r\n      <!-- 0.3 -->\r\n      <defs>\r\n       <path d=\"M 4.203125 18.890625 \r\nL 12.984375 20.0625 \r\nQ 14.5 12.59375 18.140625 9.296875 \r\nQ 21.78125 6 27 6 \r\nQ 33.203125 6 37.46875 10.296875 \r\nQ 41.75 14.59375 41.75 20.953125 \r\nQ 41.75 27 37.796875 30.921875 \r\nQ 33.84375 34.859375 27.734375 34.859375 \r\nQ 25.25 34.859375 21.53125 33.890625 \r\nL 22.515625 41.609375 \r\nQ 23.390625 41.5 23.921875 41.5 \r\nQ 29.546875 41.5 34.03125 44.421875 \r\nQ 38.53125 47.359375 38.53125 53.46875 \r\nQ 38.53125 58.296875 35.25 61.46875 \r\nQ 31.984375 64.65625 26.8125 64.65625 \r\nQ 21.6875 64.65625 18.265625 61.421875 \r\nQ 14.84375 58.203125 13.875 51.765625 \r\nL 5.078125 53.328125 \r\nQ 6.6875 62.15625 12.390625 67.015625 \r\nQ 18.109375 71.875 26.609375 71.875 \r\nQ 32.46875 71.875 37.390625 69.359375 \r\nQ 42.328125 66.84375 44.9375 62.5 \r\nQ 47.5625 58.15625 47.5625 53.265625 \r\nQ 47.5625 48.640625 45.0625 44.828125 \r\nQ 42.578125 41.015625 37.703125 38.765625 \r\nQ 44.046875 37.3125 47.5625 32.6875 \r\nQ 51.078125 28.078125 51.078125 21.140625 \r\nQ 51.078125 11.765625 44.234375 5.25 \r\nQ 37.40625 -1.265625 26.953125 -1.265625 \r\nQ 17.53125 -1.265625 11.296875 4.34375 \r\nQ 5.078125 9.96875 4.203125 18.890625 \r\nz\r\n\" id=\"ArialMT-51\"/>\r\n      </defs>\r\n      <g style=\"fill:#555555;\" transform=\"translate(743.75981 312.957813)scale(0.1 -0.1)\">\r\n       <use xlink:href=\"#ArialMT-48\"/>\r\n       <use x=\"55.615234\" xlink:href=\"#ArialMT-46\"/>\r\n       <use x=\"83.398438\" xlink:href=\"#ArialMT-51\"/>\r\n      </g>\r\n     </g>\r\n    </g>\r\n    <g id=\"xtick_12\">\r\n     <g id=\"line2d_39\">\r\n      <path clip-path=\"url(#pb54b89d84a)\" d=\"M 842.715607 298.8 \r\nL 842.715607 7.2 \r\n\" style=\"fill:none;stroke:#ffffff;\"/>\r\n     </g>\r\n     <g id=\"line2d_40\"/>\r\n     <g id=\"text_22\">\r\n      <!-- 0.4 -->\r\n      <g style=\"fill:#555555;\" transform=\"translate(835.765607 312.957813)scale(0.1 -0.1)\">\r\n       <use xlink:href=\"#ArialMT-48\"/>\r\n       <use x=\"55.615234\" xlink:href=\"#ArialMT-46\"/>\r\n       <use x=\"83.398438\" xlink:href=\"#ArialMT-52\"/>\r\n      </g>\r\n     </g>\r\n    </g>\r\n    <g id=\"xtick_13\">\r\n     <g id=\"line2d_41\">\r\n      <path clip-path=\"url(#pb54b89d84a)\" d=\"M 934.721404 298.8 \r\nL 934.721404 7.2 \r\n\" style=\"fill:none;stroke:#ffffff;\"/>\r\n     </g>\r\n     <g id=\"line2d_42\"/>\r\n     <g id=\"text_23\">\r\n      <!-- 0.5 -->\r\n      <g style=\"fill:#555555;\" transform=\"translate(927.771404 312.957813)scale(0.1 -0.1)\">\r\n       <use xlink:href=\"#ArialMT-48\"/>\r\n       <use x=\"55.615234\" xlink:href=\"#ArialMT-46\"/>\r\n       <use x=\"83.398438\" xlink:href=\"#ArialMT-53\"/>\r\n      </g>\r\n     </g>\r\n    </g>\r\n    <g id=\"text_24\">\r\n     <!-- Pb -->\r\n     <defs>\r\n      <path d=\"M 7.71875 0 \r\nL 7.71875 71.578125 \r\nL 34.71875 71.578125 \r\nQ 41.84375 71.578125 45.609375 70.90625 \r\nQ 50.875 70.015625 54.4375 67.546875 \r\nQ 58.015625 65.09375 60.1875 60.640625 \r\nQ 62.359375 56.203125 62.359375 50.875 \r\nQ 62.359375 41.75 56.546875 35.421875 \r\nQ 50.734375 29.109375 35.546875 29.109375 \r\nL 17.1875 29.109375 \r\nL 17.1875 0 \r\nz\r\nM 17.1875 37.546875 \r\nL 35.6875 37.546875 \r\nQ 44.875 37.546875 48.734375 40.96875 \r\nQ 52.59375 44.390625 52.59375 50.59375 \r\nQ 52.59375 55.078125 50.3125 58.265625 \r\nQ 48.046875 61.46875 44.34375 62.5 \r\nQ 41.9375 63.140625 35.5 63.140625 \r\nL 17.1875 63.140625 \r\nz\r\n\" id=\"ArialMT-80\"/>\r\n      <path d=\"M 14.703125 0 \r\nL 6.546875 0 \r\nL 6.546875 71.578125 \r\nL 15.328125 71.578125 \r\nL 15.328125 46.046875 \r\nQ 20.90625 53.03125 29.546875 53.03125 \r\nQ 34.328125 53.03125 38.59375 51.09375 \r\nQ 42.875 49.171875 45.625 45.671875 \r\nQ 48.390625 42.1875 49.953125 37.25 \r\nQ 51.515625 32.328125 51.515625 26.703125 \r\nQ 51.515625 13.375 44.921875 6.09375 \r\nQ 38.328125 -1.171875 29.109375 -1.171875 \r\nQ 19.921875 -1.171875 14.703125 6.5 \r\nz\r\nM 14.59375 26.3125 \r\nQ 14.59375 17 17.140625 12.84375 \r\nQ 21.296875 6.0625 28.375 6.0625 \r\nQ 34.125 6.0625 38.328125 11.0625 \r\nQ 42.53125 16.0625 42.53125 25.984375 \r\nQ 42.53125 36.140625 38.5 40.96875 \r\nQ 34.46875 45.796875 28.765625 45.796875 \r\nQ 23 45.796875 18.796875 40.796875 \r\nQ 14.59375 35.796875 14.59375 26.3125 \r\nz\r\n\" id=\"ArialMT-98\"/>\r\n     </defs>\r\n     <g style=\"fill:#555555;\" transform=\"translate(759.012045 327.534688)scale(0.12 -0.12)\">\r\n      <use xlink:href=\"#ArialMT-80\"/>\r\n      <use x=\"66.699219\" xlink:href=\"#ArialMT-98\"/>\r\n     </g>\r\n    </g>\r\n   </g>\r\n   <g id=\"matplotlib.axis_4\">\r\n    <g id=\"ytick_9\">\r\n     <g id=\"line2d_43\">\r\n      <path clip-path=\"url(#pb54b89d84a)\" d=\"M 552.805341 298.8 \r\nL 979.89625 298.8 \r\n\" style=\"fill:none;stroke:#ffffff;\"/>\r\n     </g>\r\n     <g id=\"line2d_44\"/>\r\n     <g id=\"text_25\">\r\n      <!-- 0 -->\r\n      <g style=\"fill:#555555;\" transform=\"translate(540.244403 302.378906)scale(0.1 -0.1)\">\r\n       <use xlink:href=\"#ArialMT-48\"/>\r\n      </g>\r\n     </g>\r\n    </g>\r\n    <g id=\"ytick_10\">\r\n     <g id=\"line2d_45\">\r\n      <path clip-path=\"url(#pb54b89d84a)\" d=\"M 552.805341 243.257143 \r\nL 979.89625 243.257143 \r\n\" style=\"fill:none;stroke:#ffffff;\"/>\r\n     </g>\r\n     <g id=\"line2d_46\"/>\r\n     <g id=\"text_26\">\r\n      <!-- 2 -->\r\n      <g style=\"fill:#555555;\" transform=\"translate(540.244403 246.836049)scale(0.1 -0.1)\">\r\n       <use xlink:href=\"#ArialMT-50\"/>\r\n      </g>\r\n     </g>\r\n    </g>\r\n    <g id=\"ytick_11\">\r\n     <g id=\"line2d_47\">\r\n      <path clip-path=\"url(#pb54b89d84a)\" d=\"M 552.805341 187.714286 \r\nL 979.89625 187.714286 \r\n\" style=\"fill:none;stroke:#ffffff;\"/>\r\n     </g>\r\n     <g id=\"line2d_48\"/>\r\n     <g id=\"text_27\">\r\n      <!-- 4 -->\r\n      <g style=\"fill:#555555;\" transform=\"translate(540.244403 191.293192)scale(0.1 -0.1)\">\r\n       <use xlink:href=\"#ArialMT-52\"/>\r\n      </g>\r\n     </g>\r\n    </g>\r\n    <g id=\"ytick_12\">\r\n     <g id=\"line2d_49\">\r\n      <path clip-path=\"url(#pb54b89d84a)\" d=\"M 552.805341 132.171429 \r\nL 979.89625 132.171429 \r\n\" style=\"fill:none;stroke:#ffffff;\"/>\r\n     </g>\r\n     <g id=\"line2d_50\"/>\r\n     <g id=\"text_28\">\r\n      <!-- 6 -->\r\n      <g style=\"fill:#555555;\" transform=\"translate(540.244403 135.750335)scale(0.1 -0.1)\">\r\n       <use xlink:href=\"#ArialMT-54\"/>\r\n      </g>\r\n     </g>\r\n    </g>\r\n    <g id=\"ytick_13\">\r\n     <g id=\"line2d_51\">\r\n      <path clip-path=\"url(#pb54b89d84a)\" d=\"M 552.805341 76.628571 \r\nL 979.89625 76.628571 \r\n\" style=\"fill:none;stroke:#ffffff;\"/>\r\n     </g>\r\n     <g id=\"line2d_52\"/>\r\n     <g id=\"text_29\">\r\n      <!-- 8 -->\r\n      <g style=\"fill:#555555;\" transform=\"translate(540.244403 80.207478)scale(0.1 -0.1)\">\r\n       <use xlink:href=\"#ArialMT-56\"/>\r\n      </g>\r\n     </g>\r\n    </g>\r\n    <g id=\"ytick_14\">\r\n     <g id=\"line2d_53\">\r\n      <path clip-path=\"url(#pb54b89d84a)\" d=\"M 552.805341 21.085714 \r\nL 979.89625 21.085714 \r\n\" style=\"fill:none;stroke:#ffffff;\"/>\r\n     </g>\r\n     <g id=\"line2d_54\"/>\r\n     <g id=\"text_30\">\r\n      <!-- 10 -->\r\n      <g style=\"fill:#555555;\" transform=\"translate(534.683466 24.664621)scale(0.1 -0.1)\">\r\n       <use xlink:href=\"#ArialMT-49\"/>\r\n       <use x=\"55.615234\" xlink:href=\"#ArialMT-48\"/>\r\n      </g>\r\n     </g>\r\n    </g>\r\n    <g id=\"text_31\">\r\n     <!-- Frequencies -->\r\n     <g style=\"fill:#555555;\" transform=\"translate(528.298466 186.015)rotate(-90)scale(0.12 -0.12)\">\r\n      <use xlink:href=\"#ArialMT-70\"/>\r\n      <use x=\"61.083984\" xlink:href=\"#ArialMT-114\"/>\r\n      <use x=\"94.384766\" xlink:href=\"#ArialMT-101\"/>\r\n      <use x=\"150\" xlink:href=\"#ArialMT-113\"/>\r\n      <use x=\"205.615234\" xlink:href=\"#ArialMT-117\"/>\r\n      <use x=\"261.230469\" xlink:href=\"#ArialMT-101\"/>\r\n      <use x=\"316.845703\" xlink:href=\"#ArialMT-110\"/>\r\n      <use x=\"372.460938\" xlink:href=\"#ArialMT-99\"/>\r\n      <use x=\"422.460938\" xlink:href=\"#ArialMT-105\"/>\r\n      <use x=\"444.677734\" xlink:href=\"#ArialMT-101\"/>\r\n      <use x=\"500.292969\" xlink:href=\"#ArialMT-115\"/>\r\n     </g>\r\n    </g>\r\n   </g>\r\n   <g id=\"patch_14\">\r\n    <path clip-path=\"url(#pb54b89d84a)\" d=\"M 572.218564 298.8 \r\nL 627.684916 298.8 \r\nL 627.684916 21.085714 \r\nL 572.218564 21.085714 \r\nz\r\n\" style=\"fill:#e24a33;\"/>\r\n   </g>\r\n   <g id=\"patch_15\">\r\n    <path clip-path=\"url(#pb54b89d84a)\" d=\"M 627.684916 298.8 \r\nL 683.151268 298.8 \r\nL 683.151268 159.942857 \r\nL 627.684916 159.942857 \r\nz\r\n\" style=\"fill:#e24a33;\"/>\r\n   </g>\r\n   <g id=\"patch_16\">\r\n    <path clip-path=\"url(#pb54b89d84a)\" d=\"M 683.151268 298.8 \r\nL 738.61762 298.8 \r\nL 738.61762 159.942857 \r\nL 683.151268 159.942857 \r\nz\r\n\" style=\"fill:#e24a33;\"/>\r\n   </g>\r\n   <g id=\"patch_17\">\r\n    <path clip-path=\"url(#pb54b89d84a)\" d=\"M 738.61762 298.8 \r\nL 794.083971 298.8 \r\nL 794.083971 21.085714 \r\nL 738.61762 21.085714 \r\nz\r\n\" style=\"fill:#e24a33;\"/>\r\n   </g>\r\n   <g id=\"patch_18\">\r\n    <path clip-path=\"url(#pb54b89d84a)\" d=\"M 794.083971 298.8 \r\nL 849.550323 298.8 \r\nL 849.550323 132.171429 \r\nL 794.083971 132.171429 \r\nz\r\n\" style=\"fill:#e24a33;\"/>\r\n   </g>\r\n   <g id=\"patch_19\">\r\n    <path clip-path=\"url(#pb54b89d84a)\" d=\"M 849.550323 298.8 \r\nL 905.016675 298.8 \r\nL 905.016675 104.4 \r\nL 849.550323 104.4 \r\nz\r\n\" style=\"fill:#e24a33;\"/>\r\n   </g>\r\n   <g id=\"patch_20\">\r\n    <path clip-path=\"url(#pb54b89d84a)\" d=\"M 905.016675 298.8 \r\nL 960.483027 298.8 \r\nL 960.483027 159.942857 \r\nL 905.016675 159.942857 \r\nz\r\n\" style=\"fill:#e24a33;\"/>\r\n   </g>\r\n   <g id=\"patch_21\">\r\n    <path d=\"M 552.805341 298.8 \r\nL 552.805341 7.2 \r\n\" style=\"fill:none;stroke:#ffffff;stroke-linecap:square;stroke-linejoin:miter;\"/>\r\n   </g>\r\n   <g id=\"patch_22\">\r\n    <path d=\"M 979.89625 298.8 \r\nL 979.89625 7.2 \r\n\" style=\"fill:none;stroke:#ffffff;stroke-linecap:square;stroke-linejoin:miter;\"/>\r\n   </g>\r\n   <g id=\"patch_23\">\r\n    <path d=\"M 552.805341 298.8 \r\nL 979.89625 298.8 \r\n\" style=\"fill:none;stroke:#ffffff;stroke-linecap:square;stroke-linejoin:miter;\"/>\r\n   </g>\r\n   <g id=\"patch_24\">\r\n    <path d=\"M 552.805341 7.2 \r\nL 979.89625 7.2 \r\n\" style=\"fill:none;stroke:#ffffff;stroke-linecap:square;stroke-linejoin:miter;\"/>\r\n   </g>\r\n  </g>\r\n </g>\r\n <defs>\r\n  <clipPath id=\"p45c9ff64bc\">\r\n   <rect height=\"291.6\" width=\"427.090909\" x=\"40.29625\" y=\"7.2\"/>\r\n  </clipPath>\r\n  <clipPath id=\"pb54b89d84a\">\r\n   <rect height=\"291.6\" width=\"427.090909\" x=\"552.805341\" y=\"7.2\"/>\r\n  </clipPath>\r\n </defs>\r\n</svg>\r\n",
      "text/plain": "<Figure size 1080x360 with 2 Axes>"
     },
     "metadata": {},
     "output_type": "display_data"
    }
   ],
   "source": [
    "import matplotlib.pyplot as plt\n",
    "import matplotlib as mpl\n",
    "\n",
    "mpl.style.use(\"ggplot\")\n",
    "\n",
    "plt.figure(figsize = (15,5))\n",
    "\n",
    "plt.subplot(121)\n",
    "plt.hist(pH, bins = 6)\n",
    "plt.ylabel(\"Frequencies\")\n",
    "plt.xlabel(\"pH\")\n",
    "\n",
    "plt.subplot(122)\n",
    "plt.hist(Pb, bins = 7)\n",
    "plt.ylabel(\"Frequencies\")\n",
    "plt.xlabel(\"Pb\")"
   ]
  },
  {
   "cell_type": "markdown",
   "metadata": {},
   "source": [
    "## 2 Confidence interval"
   ]
  },
  {
   "cell_type": "markdown",
   "metadata": {},
   "source": [
    "By the central limit theorem the sample mean is drawn from a normal distribution with variance $\\frac{s^2}{n}$.\n",
    "\n",
    "$$\n",
    "Var(\\frac{\\sum_i^n x_i}{n}) = \\frac{1}{n^2}\\sum_i^n Var(x_i) = \\frac{s^2}{n}\n",
    "$$\n",
    "\n",
    "The standard deviation of the sample mean is known as the standard error. A $1-\\alpha$ confidence interval for an estimator will be able to trap the true value with a probability of $1-\\alpha$."
   ]
  },
  {
   "cell_type": "code",
   "execution_count": 43,
   "metadata": {},
   "outputs": [
    {
     "name": "stdout",
     "output_type": "stream",
     "text": "X pH: Standard error(X) = 0.1\nY Pb: Standard error(Y) = 0.018\n"
    }
   ],
   "source": [
    "from scipy.stats import norm, uniform, chisquare, chi2\n",
    "\n",
    "def se(x):\n",
    "    return stdev(x)/(n**(1/2)) \n",
    "\n",
    "print_stat(\"Standard error\", se)"
   ]
  },
  {
   "cell_type": "code",
   "execution_count": 44,
   "metadata": {},
   "outputs": [
    {
     "name": "stdout",
     "output_type": "stream",
     "text": "X pH: Confidence interval around mean: (6.79, 7.24)\nY Pb: Confidence interval around mean: (0.27, 0.34)\n"
    }
   ],
   "source": [
    "# The significance level alpha is set to 0.05\n",
    "alpha = 0.05\n",
    "\n",
    "# Calculate the confidence interval around an estimate with significance level alpha\n",
    "def confidence_mean(x, alpha):\n",
    "    # Critical value from standard normal distribution\n",
    "    z = norm.ppf(1-alpha/2)\n",
    "    return mean(x) - z*se(x), mean(x) + z*se(x)\n",
    "\n",
    "left, right = confidence_mean(pH, alpha)\n",
    "print(\"X pH: Confidence interval around mean: ({:.2f}, {:.2f})\".format(left,right))\n",
    "left, right = confidence_mean(Pb, alpha)\n",
    "print(\"Y Pb: Confidence interval around mean: ({:.2f}, {:.2f})\".format(left,right))"
   ]
  },
  {
   "cell_type": "markdown",
   "execution_count": null,
   "metadata": {},
   "outputs": [],
   "source": [
    "If the sample variance $s^2$ is pulled from the stochastic variable $S^2$ as an estimator of the population variance $\\sigma^2$, a test statistic $X^2$ for the variance is\n",
    "\n",
    "$$\n",
    "X^2 = \\frac{(n-1)S^2}{\\sigma^2} \\sim \\chi^2_{n-1}.\n",
    "$$"
   ]
  },
  {
   "cell_type": "code",
   "execution_count": 45,
   "metadata": {},
   "outputs": [
    {
     "name": "stdout",
     "output_type": "stream",
     "text": "X pH: Confidence interval around standard deviation: (0.67, 1.01)\nY Pb: Confidence interval around standard deviation: (0.11, 0.16)\n"
    }
   ],
   "source": [
    "def confidence_stdev(x, alpha):\n",
    "    # Critical values from chi-square distribution\n",
    "    left_critical = chi2.ppf(1 - alpha/2, df = n-1)\n",
    "    right_critical = chi2.ppf(alpha/2, df = n-1)\n",
    "    A = ((n-1)*var(x))/left_critical\n",
    "    B = ((n-1)*var(x))/right_critical\n",
    "    return A**(1/2), B**(1/2)\n",
    "\n",
    "left, right = confidence_stdev(pH, alpha)\n",
    "print(\"X pH: Confidence interval around standard deviation: ({:.2f}, {:.2f})\".format(left,right))\n",
    "left, right = confidence_stdev(Pb, alpha)\n",
    "print(\"Y Pb: Confidence interval around standard deviation: ({:.2f}, {:.2f})\".format(left,right))"
   ]
  },
  {
   "cell_type": "markdown",
   "metadata": {},
   "source": [
    "## 3 Test of Hypothesis\n",
    "\n",
    "$$\n",
    "\\begin{align}\n",
    "&H_0: \\mu = 7.0 \\\\\n",
    "&H_1: \\mu \\neq 7.0\n",
    "\\end{align}\n",
    "$$"
   ]
  },
  {
   "cell_type": "code",
   "execution_count": 46,
   "metadata": {},
   "outputs": [],
   "source": [
    "mu = 7.0"
   ]
  },
  {
   "cell_type": "markdown",
   "metadata": {},
   "source": [
    "If $H_0$ is true, $\\bar{X}$ should be normally distributed with expectation equal to $\\mu$ and standard deviation equal $\\frac{s}{\\sqrt{n}}$. By shifting and scaling,the test statistic $Z$ is standard normal distributed.\n",
    "$$\n",
    "Z = \\frac{\\bar{X} - \\mu}{s/\\sqrt{n}}\n",
    "$$\n",
    "\n",
    "In performing the test of hypothesis, $\\alpha$ is the probability of committing a type 1 error i.e. to reject $H_0$ while it is true. For a standard normal distribution this corresponds to drawing a value more than $z_{\\alpha/2}$ removed from 0. Thus the decision criterion for the two-sided test is to reject $H_0$ if $|z|>z_{\\alpha/2}$."
   ]
  },
  {
   "cell_type": "code",
   "execution_count": 47,
   "metadata": {},
   "outputs": [
    {
     "name": "stdout",
     "output_type": "stream",
     "text": "Critical value of z: 1.96\n"
    }
   ],
   "source": [
    "z_critical = norm.ppf(1-alpha/2) # Probability (1 - alpha/2) is to the left of this value\n",
    "print(\"Critical value of z: {:.2f}\".format(z_critical))"
   ]
  },
  {
   "cell_type": "code",
   "execution_count": 48,
   "metadata": {},
   "outputs": [
    {
     "data": {
      "text/plain": "False"
     },
     "execution_count": 48,
     "metadata": {},
     "output_type": "execute_result"
    }
   ],
   "source": [
    "z = (mean(pH)-mu)/se(pH)\n",
    "abs(z) > z_critical"
   ]
  },
  {
   "cell_type": "markdown",
   "metadata": {},
   "source": [
    "$H_0$ is not rejected. "
   ]
  },
  {
   "cell_type": "markdown",
   "metadata": {},
   "source": [
    "$$\n",
    "\\begin{align*}\n",
    "&H_0: \\mu = 7.0 \\\\\n",
    "&H_1: \\mu > 7.0\n",
    "\\end{align*}\n",
    "$$\n",
    "The decision criterion for this one-sided test is to reject $H_0$ if $|z|>z_{\\alpha}$"
   ]
  },
  {
   "cell_type": "code",
   "execution_count": 49,
   "metadata": {},
   "outputs": [
    {
     "name": "stdout",
     "output_type": "stream",
     "text": "Critical value of z: 1.64\n"
    }
   ],
   "source": [
    "z_critical = norm.ppf(1-alpha)\n",
    "print(\"Critical value of z: {:.2f}\".format(z_critical))"
   ]
  },
  {
   "cell_type": "code",
   "execution_count": 68,
   "metadata": {},
   "outputs": [
    {
     "data": {
      "text/plain": "False"
     },
     "execution_count": 68,
     "metadata": {},
     "output_type": "execute_result"
    }
   ],
   "source": [
    "abs(z) > z_critical"
   ]
  },
  {
   "cell_type": "markdown",
   "execution_count": 1,
   "metadata": {},
   "outputs": [
    {
     "ename": "SyntaxError",
     "evalue": "invalid syntax (<ipython-input-1-56ee84f00515>, line 1)",
     "output_type": "error",
     "traceback": [
      "\u001b[1;36m  File \u001b[1;32m\"<ipython-input-1-56ee84f00515>\"\u001b[1;36m, line \u001b[1;32m1\u001b[0m\n\u001b[1;33m    $H_0$ is not rejected.\u001b[0m\n\u001b[1;37m    ^\u001b[0m\n\u001b[1;31mSyntaxError\u001b[0m\u001b[1;31m:\u001b[0m invalid syntax\n"
     ]
    }
   ],
   "source": [
    "$H_0$ is not rejected. "
   ]
  },
  {
   "cell_type": "markdown",
   "execution_count": 3,
   "metadata": {},
   "outputs": [],
   "source": [
    "## 4 $\\chi^2$ test\n",
    "Split the observations in $k$ bins, each containing $N_j$ number of observations for $j = 1,...,k$. Under a null hypothesis $H_0$ the observations are drawn from a distribution with probability $p_j$ for finding an observation in bin $j$, resulting in expected number of observations $E(N_j) = E_j = np_j$. A test statistic $T$ is $\\chi^2$ distributed with $k-1$ degrees of freedom:\n",
    "\n",
    "$$\n",
    "T = \\sum_j^k \\frac{(N_j - E_j)^2}{E_j} \\sim \\chi^2_{k-1}\n",
    "$$"
   ]
  },
  {
   "cell_type": "code",
   "execution_count": 0,
   "metadata": {},
   "outputs": [],
   "source": [
    "def get_bins(x, k):\n",
    "\n",
    "    h = (max(x) - min(x))/k\n",
    "    return [min(x) + j*h for j in range(k+1)]\n",
    "\n",
    "def expected(x, bins, k, dist):\n",
    "    # Set stochastic (random) variable of distribution\n",
    "    if dist == \"normal\":\n",
    "        rv = norm(loc = mean(x), scale = stdev(x))\n",
    "    elif dist == \"uniform\":\n",
    "        rv = uniform(min(x), max(x))\n",
    "    \n",
    "    print(rv)\n",
    "    E = k*[0]\n",
    "    p = k*[0]\n",
    "\n",
    "    for j in range(k):\n",
    "        # The probability for cell j is the Cumulutative Density Function (CDF)\n",
    "        # at the right boundary minus the CDF at left boundary of bin\n",
    "        p[j] = rv.cdf(bins[j+1])-rv.cdf(bins[j])\n",
    "        E[j] = round(n*p[j], ndigits = 1)\n",
    "    print(p)\n",
    "    return E\n",
    "\n",
    "def observed(x, bins, k): \n",
    "    N = k*[0]\n",
    "    x = sorted(x)\n",
    "    \n",
    "    i = 0\n",
    "    for j in range(k):\n",
    "        while x[i] >= bins[j] and x[i] <= bins[j+1]:\n",
    "            N[j] += 1\n",
    "            i += 1\n",
    "            if i == n:\n",
    "                break\n",
    "    return N\n",
    "\n",
    "def chi_square_statistic(observed, expected):\n",
    "    T = 0\n",
    "\n",
    "    for n, e in zip(observed,expected):\n",
    "        T += (n-e)**2/e\n",
    "    \n",
    "    return T"
   ]
  },
  {
   "cell_type": "code",
   "execution_count": 69,
   "metadata": {},
   "outputs": [
    {
     "name": "stdout",
     "output_type": "stream",
     "text": "<scipy.stats._distn_infrastructure.rv_frozen object at 0x169532D0>\n[0.020299649701894455, 0.08725260705646293, 0.21358123315849475, 0.298158175062767, 0.23750220470134342, 0.1079102148695994]\n"
    },
    {
     "data": {
      "text/html": "<div>\n<style scoped>\n    .dataframe tbody tr th:only-of-type {\n        vertical-align: middle;\n    }\n\n    .dataframe tbody tr th {\n        vertical-align: top;\n    }\n\n    .dataframe thead th {\n        text-align: right;\n    }\n</style>\n<table border=\"1\" class=\"dataframe\">\n  <thead>\n    <tr style=\"text-align: right;\">\n      <th></th>\n      <th>Observed</th>\n      <th>Expected:</th>\n    </tr>\n  </thead>\n  <tbody>\n    <tr>\n      <th>4.8 - 5.42</th>\n      <td>1</td>\n      <td>1.0</td>\n    </tr>\n    <tr>\n      <th>5.42 - 6.03</th>\n      <td>4</td>\n      <td>4.2</td>\n    </tr>\n    <tr>\n      <th>6.03 - 6.65</th>\n      <td>12</td>\n      <td>10.3</td>\n    </tr>\n    <tr>\n      <th>6.65 - 7.27</th>\n      <td>14</td>\n      <td>14.3</td>\n    </tr>\n    <tr>\n      <th>7.27 - 7.88</th>\n      <td>7</td>\n      <td>11.4</td>\n    </tr>\n    <tr>\n      <th>7.88 - 8.5</th>\n      <td>10</td>\n      <td>5.2</td>\n    </tr>\n  </tbody>\n</table>\n</div>",
      "text/plain": "             Observed  Expected:\n4.8 - 5.42          1        1.0\n5.42 - 6.03         4        4.2\n6.03 - 6.65        12       10.3\n6.65 - 7.27        14       14.3\n7.27 - 7.88         7       11.4\n7.88 - 8.5         10        5.2"
     },
     "execution_count": 69,
     "metadata": {},
     "output_type": "execute_result"
    }
   ],
   "source": [
    "k = 6\n",
    "\n",
    "bins = get_bins(pH,k)\n",
    "N = observed(pH, bins, k)\n",
    "E = expected(pH, bins, k, \"normal\")\n",
    "\n",
    "bins_string = [str(round(bins[j], ndigits = 2))+\" - \"+str(round(bins[j+1], ndigits = 2)) for j in range(k)]\n",
    "pd.DataFrame({\"Observed\": N, \"Expected:\": E}, index = bins_string )"
   ]
  },
  {
   "cell_type": "markdown",
   "execution_count": 259,
   "metadata": {},
   "outputs": [
    {
     "data": {
      "text/plain": "[4.8, 6.65, 7.266666666666667, 7.883333333333333, 8.5]"
     },
     "execution_count": 259,
     "metadata": {},
     "output_type": "execute_result"
    }
   ],
   "source": [
    "A rule of thumb is that the frequencies should not be below 5, therefore let's combine the two upmost bins. "
   ]
  },
  {
   "cell_type": "code",
   "execution_count": 70,
   "metadata": {},
   "outputs": [
    {
     "name": "stdout",
     "output_type": "stream",
     "text": "<scipy.stats._distn_infrastructure.rv_frozen object at 0x146A8D30>\n[0.10755225675835739, 0.21358123315849475, 0.298158175062767, 0.23750220470134342, 0.1079102148695994]\n"
    },
    {
     "data": {
      "text/html": "<div>\n<style scoped>\n    .dataframe tbody tr th:only-of-type {\n        vertical-align: middle;\n    }\n\n    .dataframe tbody tr th {\n        vertical-align: top;\n    }\n\n    .dataframe thead th {\n        text-align: right;\n    }\n</style>\n<table border=\"1\" class=\"dataframe\">\n  <thead>\n    <tr style=\"text-align: right;\">\n      <th></th>\n      <th>Observed</th>\n      <th>Expected:</th>\n    </tr>\n  </thead>\n  <tbody>\n    <tr>\n      <th>4.8 - 6.03</th>\n      <td>5</td>\n      <td>5.2</td>\n    </tr>\n    <tr>\n      <th>6.03 - 6.65</th>\n      <td>12</td>\n      <td>10.3</td>\n    </tr>\n    <tr>\n      <th>6.65 - 7.27</th>\n      <td>14</td>\n      <td>14.3</td>\n    </tr>\n    <tr>\n      <th>7.27 - 7.88</th>\n      <td>7</td>\n      <td>11.4</td>\n    </tr>\n    <tr>\n      <th>7.88 - 8.5</th>\n      <td>10</td>\n      <td>5.2</td>\n    </tr>\n  </tbody>\n</table>\n</div>",
      "text/plain": "             Observed  Expected:\n4.8 - 6.03          5        5.2\n6.03 - 6.65        12       10.3\n6.65 - 7.27        14       14.3\n7.27 - 7.88         7       11.4\n7.88 - 8.5         10        5.2"
     },
     "execution_count": 70,
     "metadata": {},
     "output_type": "execute_result"
    }
   ],
   "source": [
    "k = 5\n",
    "bins.pop(1)\n",
    "N = observed(pH, bins, k)\n",
    "E = expected(pH, bins, k, \"normal\")\n",
    "\n",
    "bins_string = [str(round(bins[j], ndigits = 2))+\" - \"+str(round(bins[j+1], ndigits = 2)) for j in range(k)]\n",
    "pd.DataFrame({\"Observed\": N, \"Expected:\": E}, index = bins_string )"
   ]
  },
  {
   "cell_type": "markdown",
   "execution_count": null,
   "metadata": {},
   "outputs": [],
   "source": [
    "The decision criterion is to reject $H_0$ if $t > \\chi^2_{\\alpha, k-1}$."
   ]
  },
  {
   "cell_type": "code",
   "execution_count": 73,
   "metadata": {},
   "outputs": [
    {
     "name": "stdout",
     "output_type": "stream",
     "text": "Critical value of chi2: 12.59 \n"
    }
   ],
   "source": [
    "chi2_critical = chi2.ppf(1 - alpha, k - 1)\n",
    "print(\"Critical value of chi2: {:.2f} \".format(chi2_critical))"
   ]
  },
  {
   "cell_type": "code",
   "execution_count": 74,
   "metadata": {},
   "outputs": [
    {
     "data": {
      "text/plain": "False"
     },
     "execution_count": 74,
     "metadata": {},
     "output_type": "execute_result"
    }
   ],
   "source": [
    "t = chi_square_statistic(N, E)\n",
    "t > chi2_critical"
   ]
  },
  {
   "cell_type": "markdown",
   "execution_count": null,
   "metadata": {},
   "outputs": [],
   "source": [
    "The null hypothesis - that the pH data are drawn from a normal distribution - is retained.  "
   ]
  },
  {
   "cell_type": "code",
   "execution_count": 71,
   "metadata": {},
   "outputs": [
    {
     "name": "stdout",
     "output_type": "stream",
     "text": "<scipy.stats._distn_infrastructure.rv_frozen object at 0x16953250>\n[0.11417748917748918, 0.11417748917748921, 0.11417748917748918, 0.11417748917748916, 0.11417748917748916, 0.11417748917748927, 0.11417748917748916]\n"
    },
    {
     "data": {
      "text/html": "<div>\n<style scoped>\n    .dataframe tbody tr th:only-of-type {\n        vertical-align: middle;\n    }\n\n    .dataframe tbody tr th {\n        vertical-align: top;\n    }\n\n    .dataframe thead th {\n        text-align: right;\n    }\n</style>\n<table border=\"1\" class=\"dataframe\">\n  <thead>\n    <tr style=\"text-align: right;\">\n      <th></th>\n      <th>Observed</th>\n      <th>Expected:</th>\n    </tr>\n  </thead>\n  <tbody>\n    <tr>\n      <th>0.11 - 0.17</th>\n      <td>10</td>\n      <td>5.5</td>\n    </tr>\n    <tr>\n      <th>0.17 - 0.23</th>\n      <td>5</td>\n      <td>5.5</td>\n    </tr>\n    <tr>\n      <th>0.23 - 0.29</th>\n      <td>5</td>\n      <td>5.5</td>\n    </tr>\n    <tr>\n      <th>0.29 - 0.35</th>\n      <td>10</td>\n      <td>5.5</td>\n    </tr>\n    <tr>\n      <th>0.35 - 0.41</th>\n      <td>6</td>\n      <td>5.5</td>\n    </tr>\n    <tr>\n      <th>0.41 - 0.47</th>\n      <td>7</td>\n      <td>5.5</td>\n    </tr>\n    <tr>\n      <th>0.47 - 0.53</th>\n      <td>5</td>\n      <td>5.5</td>\n    </tr>\n  </tbody>\n</table>\n</div>",
      "text/plain": "             Observed  Expected:\n0.11 - 0.17        10        5.5\n0.17 - 0.23         5        5.5\n0.23 - 0.29         5        5.5\n0.29 - 0.35        10        5.5\n0.35 - 0.41         6        5.5\n0.41 - 0.47         7        5.5\n0.47 - 0.53         5        5.5"
     },
     "execution_count": 71,
     "metadata": {},
     "output_type": "execute_result"
    }
   ],
   "source": [
    "k = 7\n",
    "\n",
    "bins = get_bins(Pb,k)\n",
    "N = observed(Pb, bins, k)\n",
    "E = expected(Pb, bins, k, \"uniform\")\n",
    "\n",
    "bins_string = [str(round(bins[j], ndigits = 2))+\" - \"+str(round(bins[j+1], ndigits = 2)) for j in range(k)]\n",
    "pd.DataFrame({\"Observed\": N, \"Expected:\": E}, index = bins_string )"
   ]
  },
  {
   "cell_type": "code",
   "execution_count": 0,
   "metadata": {},
   "outputs": [],
   "source": [
    "chi2_critical = chi2.ppf(1 - alpha, k - 1)\n",
    "print(\"Critical value of chi2: {:.2f} \".format(chi2_critical))"
   ]
  },
  {
   "cell_type": "markdown",
   "execution_count": null,
   "metadata": {},
   "outputs": [],
   "source": [
    "Again, the decision criterion is to reject $H_0$ if $t > \\chi^2_{\\alpha, k-1}$."
   ]
  },
  {
   "cell_type": "code",
   "execution_count": 72,
   "metadata": {},
   "outputs": [
    {
     "data": {
      "text/plain": "False"
     },
     "execution_count": 72,
     "metadata": {},
     "output_type": "execute_result"
    }
   ],
   "source": [
    "t = chi_square_statistic(N, E)\n",
    "t > chi2_critical"
   ]
  },
  {
   "cell_type": "markdown",
   "execution_count": null,
   "metadata": {},
   "outputs": [],
   "source": [
    "The null hypothesis - that the Pb data is drawn from an uniform distribution - is retained."
   ]
  },
  {
   "cell_type": "markdown",
   "metadata": {},
   "source": [
    "## 5 Regression"
   ]
  },
  {
   "cell_type": "code",
   "execution_count": 0,
   "metadata": {},
   "outputs": [],
   "source": [
    "import numpy as np\n",
    "from numpy.linalg import inv"
   ]
  },
  {
   "cell_type": "markdown",
   "metadata": {},
   "source": [
    "Stack an array of 1's to $X$ to create a matrix for the covariate including the intercept. "
   ]
  },
  {
   "cell_type": "code",
   "execution_count": 0,
   "metadata": {},
   "outputs": [],
   "source": [
    "x = pH\n",
    "Y = Pb\n",
    "X = np.column_stack((np.ones(n),x))"
   ]
  },
  {
   "cell_type": "markdown",
   "metadata": {},
   "source": [
    "The coefficient vector $(a,b)^T = (X^TX)^{-1}X^TY$"
   ]
  },
  {
   "cell_type": "code",
   "execution_count": 0,
   "metadata": {},
   "outputs": [],
   "source": [
    "a, b = np.matmul(inv(np.matmul(X.T,X)),np.matmul(X.T,Y))\n",
    "\n",
    "def yhat(x):\n",
    "    return a + b*x"
   ]
  },
  {
   "cell_type": "code",
   "execution_count": 81,
   "metadata": {},
   "outputs": [
    {
     "data": {
      "text/plain": "Text(0, 0.5, 'Pb')"
     },
     "execution_count": 81,
     "metadata": {},
     "output_type": "execute_result"
    },
    {
     "data": {
      "image/png": "[encoded data removed]",
      "image/svg+xml": "<?xml version=\"1.0\" encoding=\"utf-8\" standalone=\"no\"?>\r\n<!DOCTYPE svg PUBLIC \"-//W3C//DTD SVG 1.1//EN\"\r\n  \"http://www.w3.org/Graphics/SVG/1.1/DTD/svg11.dtd\">\r\n<!-- Created with matplotlib (https://matplotlib.org/) -->\r\n<svg height=\"395.439688pt\" version=\"1.1\" viewBox=\"0 0 801.954375 395.439688\" width=\"801.954375pt\" xmlns=\"http://www.w3.org/2000/svg\" xmlns:xlink=\"http://www.w3.org/1999/xlink\">\r\n <defs>\r\n  <style type=\"text/css\">\r\n*{stroke-linecap:butt;stroke-linejoin:round;}\r\n  </style>\r\n </defs>\r\n <g id=\"figure_1\">\r\n  <g id=\"patch_1\">\r\n   <path d=\"M 0 395.439688 \r\nL 801.954375 395.439688 \r\nL 801.954375 0 \r\nL 0 0 \r\nz\r\n\" style=\"fill:#ffffff;\"/>\r\n  </g>\r\n  <g id=\"axes_1\">\r\n   <g id=\"patch_2\">\r\n    <path d=\"M 43.074375 357.12 \r\nL 794.754375 357.12 \r\nL 794.754375 7.2 \r\nL 43.074375 7.2 \r\nz\r\n\" style=\"fill:#e5e5e5;\"/>\r\n   </g>\r\n   <g id=\"matplotlib.axis_1\">\r\n    <g id=\"xtick_1\">\r\n     <g id=\"line2d_1\">\r\n      <path clip-path=\"url(#p0e852216fa)\" d=\"M 117.269209 357.12 \r\nL 117.269209 7.2 \r\n\" style=\"fill:none;stroke:#ffffff;\"/>\r\n     </g>\r\n     <g id=\"line2d_2\"/>\r\n     <g id=\"text_1\">\r\n      <!-- 5.0 -->\r\n      <defs>\r\n       <path d=\"M 4.15625 18.75 \r\nL 13.375 19.53125 \r\nQ 14.40625 12.796875 18.140625 9.390625 \r\nQ 21.875 6 27.15625 6 \r\nQ 33.5 6 37.890625 10.78125 \r\nQ 42.28125 15.578125 42.28125 23.484375 \r\nQ 42.28125 31 38.0625 35.34375 \r\nQ 33.84375 39.703125 27 39.703125 \r\nQ 22.75 39.703125 19.328125 37.765625 \r\nQ 15.921875 35.84375 13.96875 32.765625 \r\nL 5.71875 33.84375 \r\nL 12.640625 70.609375 \r\nL 48.25 70.609375 \r\nL 48.25 62.203125 \r\nL 19.671875 62.203125 \r\nL 15.828125 42.96875 \r\nQ 22.265625 47.46875 29.34375 47.46875 \r\nQ 38.71875 47.46875 45.15625 40.96875 \r\nQ 51.609375 34.46875 51.609375 24.265625 \r\nQ 51.609375 14.546875 45.953125 7.46875 \r\nQ 39.0625 -1.21875 27.15625 -1.21875 \r\nQ 17.390625 -1.21875 11.203125 4.25 \r\nQ 5.03125 9.71875 4.15625 18.75 \r\nz\r\n\" id=\"ArialMT-53\"/>\r\n       <path d=\"M 9.078125 0 \r\nL 9.078125 10.015625 \r\nL 19.09375 10.015625 \r\nL 19.09375 0 \r\nz\r\n\" id=\"ArialMT-46\"/>\r\n       <path d=\"M 4.15625 35.296875 \r\nQ 4.15625 48 6.765625 55.734375 \r\nQ 9.375 63.484375 14.515625 67.671875 \r\nQ 19.671875 71.875 27.484375 71.875 \r\nQ 33.25 71.875 37.59375 69.546875 \r\nQ 41.9375 67.234375 44.765625 62.859375 \r\nQ 47.609375 58.5 49.21875 52.21875 \r\nQ 50.828125 45.953125 50.828125 35.296875 \r\nQ 50.828125 22.703125 48.234375 14.96875 \r\nQ 45.65625 7.234375 40.5 3 \r\nQ 35.359375 -1.21875 27.484375 -1.21875 \r\nQ 17.140625 -1.21875 11.234375 6.203125 \r\nQ 4.15625 15.140625 4.15625 35.296875 \r\nz\r\nM 13.1875 35.296875 \r\nQ 13.1875 17.671875 17.3125 11.828125 \r\nQ 21.4375 6 27.484375 6 \r\nQ 33.546875 6 37.671875 11.859375 \r\nQ 41.796875 17.71875 41.796875 35.296875 \r\nQ 41.796875 52.984375 37.671875 58.78125 \r\nQ 33.546875 64.59375 27.390625 64.59375 \r\nQ 21.34375 64.59375 17.71875 59.46875 \r\nQ 13.1875 52.9375 13.1875 35.296875 \r\nz\r\n\" id=\"ArialMT-48\"/>\r\n      </defs>\r\n      <g style=\"fill:#555555;\" transform=\"translate(110.319209 371.277813)scale(0.1 -0.1)\">\r\n       <use xlink:href=\"#ArialMT-53\"/>\r\n       <use x=\"55.615234\" xlink:href=\"#ArialMT-46\"/>\r\n       <use x=\"83.398438\" xlink:href=\"#ArialMT-48\"/>\r\n      </g>\r\n     </g>\r\n    </g>\r\n    <g id=\"xtick_2\">\r\n     <g id=\"line2d_3\">\r\n      <path clip-path=\"url(#p0e852216fa)\" d=\"M 208.676835 357.12 \r\nL 208.676835 7.2 \r\n\" style=\"fill:none;stroke:#ffffff;\"/>\r\n     </g>\r\n     <g id=\"line2d_4\"/>\r\n     <g id=\"text_2\">\r\n      <!-- 5.5 -->\r\n      <g style=\"fill:#555555;\" transform=\"translate(201.726835 371.277813)scale(0.1 -0.1)\">\r\n       <use xlink:href=\"#ArialMT-53\"/>\r\n       <use x=\"55.615234\" xlink:href=\"#ArialMT-46\"/>\r\n       <use x=\"83.398438\" xlink:href=\"#ArialMT-53\"/>\r\n      </g>\r\n     </g>\r\n    </g>\r\n    <g id=\"xtick_3\">\r\n     <g id=\"line2d_5\">\r\n      <path clip-path=\"url(#p0e852216fa)\" d=\"M 300.084461 357.12 \r\nL 300.084461 7.2 \r\n\" style=\"fill:none;stroke:#ffffff;\"/>\r\n     </g>\r\n     <g id=\"line2d_6\"/>\r\n     <g id=\"text_3\">\r\n      <!-- 6.0 -->\r\n      <defs>\r\n       <path d=\"M 49.75 54.046875 \r\nL 41.015625 53.375 \r\nQ 39.84375 58.546875 37.703125 60.890625 \r\nQ 34.125 64.65625 28.90625 64.65625 \r\nQ 24.703125 64.65625 21.53125 62.3125 \r\nQ 17.390625 59.28125 14.984375 53.46875 \r\nQ 12.59375 47.65625 12.5 36.921875 \r\nQ 15.671875 41.75 20.265625 44.09375 \r\nQ 24.859375 46.4375 29.890625 46.4375 \r\nQ 38.671875 46.4375 44.84375 39.96875 \r\nQ 51.03125 33.5 51.03125 23.25 \r\nQ 51.03125 16.5 48.125 10.71875 \r\nQ 45.21875 4.9375 40.140625 1.859375 \r\nQ 35.0625 -1.21875 28.609375 -1.21875 \r\nQ 17.625 -1.21875 10.6875 6.859375 \r\nQ 3.765625 14.9375 3.765625 33.5 \r\nQ 3.765625 54.25 11.421875 63.671875 \r\nQ 18.109375 71.875 29.4375 71.875 \r\nQ 37.890625 71.875 43.28125 67.140625 \r\nQ 48.6875 62.40625 49.75 54.046875 \r\nz\r\nM 13.875 23.1875 \r\nQ 13.875 18.65625 15.796875 14.5 \r\nQ 17.71875 10.359375 21.1875 8.171875 \r\nQ 24.65625 6 28.46875 6 \r\nQ 34.03125 6 38.03125 10.484375 \r\nQ 42.046875 14.984375 42.046875 22.703125 \r\nQ 42.046875 30.125 38.078125 34.390625 \r\nQ 34.125 38.671875 28.125 38.671875 \r\nQ 22.171875 38.671875 18.015625 34.390625 \r\nQ 13.875 30.125 13.875 23.1875 \r\nz\r\n\" id=\"ArialMT-54\"/>\r\n      </defs>\r\n      <g style=\"fill:#555555;\" transform=\"translate(293.134461 371.277813)scale(0.1 -0.1)\">\r\n       <use xlink:href=\"#ArialMT-54\"/>\r\n       <use x=\"55.615234\" xlink:href=\"#ArialMT-46\"/>\r\n       <use x=\"83.398438\" xlink:href=\"#ArialMT-48\"/>\r\n      </g>\r\n     </g>\r\n    </g>\r\n    <g id=\"xtick_4\">\r\n     <g id=\"line2d_7\">\r\n      <path clip-path=\"url(#p0e852216fa)\" d=\"M 391.492087 357.12 \r\nL 391.492087 7.2 \r\n\" style=\"fill:none;stroke:#ffffff;\"/>\r\n     </g>\r\n     <g id=\"line2d_8\"/>\r\n     <g id=\"text_4\">\r\n      <!-- 6.5 -->\r\n      <g style=\"fill:#555555;\" transform=\"translate(384.542087 371.277813)scale(0.1 -0.1)\">\r\n       <use xlink:href=\"#ArialMT-54\"/>\r\n       <use x=\"55.615234\" xlink:href=\"#ArialMT-46\"/>\r\n       <use x=\"83.398438\" xlink:href=\"#ArialMT-53\"/>\r\n      </g>\r\n     </g>\r\n    </g>\r\n    <g id=\"xtick_5\">\r\n     <g id=\"line2d_9\">\r\n      <path clip-path=\"url(#p0e852216fa)\" d=\"M 482.899713 357.12 \r\nL 482.899713 7.2 \r\n\" style=\"fill:none;stroke:#ffffff;\"/>\r\n     </g>\r\n     <g id=\"line2d_10\"/>\r\n     <g id=\"text_5\">\r\n      <!-- 7.0 -->\r\n      <defs>\r\n       <path d=\"M 4.734375 62.203125 \r\nL 4.734375 70.65625 \r\nL 51.078125 70.65625 \r\nL 51.078125 63.8125 \r\nQ 44.234375 56.546875 37.515625 44.484375 \r\nQ 30.8125 32.421875 27.15625 19.671875 \r\nQ 24.515625 10.6875 23.78125 0 \r\nL 14.75 0 \r\nQ 14.890625 8.453125 18.0625 20.40625 \r\nQ 21.234375 32.375 27.171875 43.484375 \r\nQ 33.109375 54.59375 39.796875 62.203125 \r\nz\r\n\" id=\"ArialMT-55\"/>\r\n      </defs>\r\n      <g style=\"fill:#555555;\" transform=\"translate(475.949713 371.277813)scale(0.1 -0.1)\">\r\n       <use xlink:href=\"#ArialMT-55\"/>\r\n       <use x=\"55.615234\" xlink:href=\"#ArialMT-46\"/>\r\n       <use x=\"83.398438\" xlink:href=\"#ArialMT-48\"/>\r\n      </g>\r\n     </g>\r\n    </g>\r\n    <g id=\"xtick_6\">\r\n     <g id=\"line2d_11\">\r\n      <path clip-path=\"url(#p0e852216fa)\" d=\"M 574.307339 357.12 \r\nL 574.307339 7.2 \r\n\" style=\"fill:none;stroke:#ffffff;\"/>\r\n     </g>\r\n     <g id=\"line2d_12\"/>\r\n     <g id=\"text_6\">\r\n      <!-- 7.5 -->\r\n      <g style=\"fill:#555555;\" transform=\"translate(567.357339 371.277813)scale(0.1 -0.1)\">\r\n       <use xlink:href=\"#ArialMT-55\"/>\r\n       <use x=\"55.615234\" xlink:href=\"#ArialMT-46\"/>\r\n       <use x=\"83.398438\" xlink:href=\"#ArialMT-53\"/>\r\n      </g>\r\n     </g>\r\n    </g>\r\n    <g id=\"xtick_7\">\r\n     <g id=\"line2d_13\">\r\n      <path clip-path=\"url(#p0e852216fa)\" d=\"M 665.714966 357.12 \r\nL 665.714966 7.2 \r\n\" style=\"fill:none;stroke:#ffffff;\"/>\r\n     </g>\r\n     <g id=\"line2d_14\"/>\r\n     <g id=\"text_7\">\r\n      <!-- 8.0 -->\r\n      <defs>\r\n       <path d=\"M 17.671875 38.8125 \r\nQ 12.203125 40.828125 9.5625 44.53125 \r\nQ 6.9375 48.25 6.9375 53.421875 \r\nQ 6.9375 61.234375 12.546875 66.546875 \r\nQ 18.171875 71.875 27.484375 71.875 \r\nQ 36.859375 71.875 42.578125 66.421875 \r\nQ 48.296875 60.984375 48.296875 53.171875 \r\nQ 48.296875 48.1875 45.671875 44.5 \r\nQ 43.0625 40.828125 37.75 38.8125 \r\nQ 44.34375 36.671875 47.78125 31.875 \r\nQ 51.21875 27.09375 51.21875 20.453125 \r\nQ 51.21875 11.28125 44.71875 5.03125 \r\nQ 38.234375 -1.21875 27.640625 -1.21875 \r\nQ 17.046875 -1.21875 10.546875 5.046875 \r\nQ 4.046875 11.328125 4.046875 20.703125 \r\nQ 4.046875 27.6875 7.59375 32.390625 \r\nQ 11.140625 37.109375 17.671875 38.8125 \r\nz\r\nM 15.921875 53.71875 \r\nQ 15.921875 48.640625 19.1875 45.40625 \r\nQ 22.46875 42.1875 27.6875 42.1875 \r\nQ 32.765625 42.1875 36.015625 45.375 \r\nQ 39.265625 48.578125 39.265625 53.21875 \r\nQ 39.265625 58.0625 35.90625 61.359375 \r\nQ 32.5625 64.65625 27.59375 64.65625 \r\nQ 22.5625 64.65625 19.234375 61.421875 \r\nQ 15.921875 58.203125 15.921875 53.71875 \r\nz\r\nM 13.09375 20.65625 \r\nQ 13.09375 16.890625 14.875 13.375 \r\nQ 16.65625 9.859375 20.171875 7.921875 \r\nQ 23.6875 6 27.734375 6 \r\nQ 34.03125 6 38.125 10.046875 \r\nQ 42.234375 14.109375 42.234375 20.359375 \r\nQ 42.234375 26.703125 38.015625 30.859375 \r\nQ 33.796875 35.015625 27.4375 35.015625 \r\nQ 21.234375 35.015625 17.15625 30.90625 \r\nQ 13.09375 26.8125 13.09375 20.65625 \r\nz\r\n\" id=\"ArialMT-56\"/>\r\n      </defs>\r\n      <g style=\"fill:#555555;\" transform=\"translate(658.764966 371.277813)scale(0.1 -0.1)\">\r\n       <use xlink:href=\"#ArialMT-56\"/>\r\n       <use x=\"55.615234\" xlink:href=\"#ArialMT-46\"/>\r\n       <use x=\"83.398438\" xlink:href=\"#ArialMT-48\"/>\r\n      </g>\r\n     </g>\r\n    </g>\r\n    <g id=\"xtick_8\">\r\n     <g id=\"line2d_15\">\r\n      <path clip-path=\"url(#p0e852216fa)\" d=\"M 757.122592 357.12 \r\nL 757.122592 7.2 \r\n\" style=\"fill:none;stroke:#ffffff;\"/>\r\n     </g>\r\n     <g id=\"line2d_16\"/>\r\n     <g id=\"text_8\">\r\n      <!-- 8.5 -->\r\n      <g style=\"fill:#555555;\" transform=\"translate(750.172592 371.277813)scale(0.1 -0.1)\">\r\n       <use xlink:href=\"#ArialMT-56\"/>\r\n       <use x=\"55.615234\" xlink:href=\"#ArialMT-46\"/>\r\n       <use x=\"83.398438\" xlink:href=\"#ArialMT-53\"/>\r\n      </g>\r\n     </g>\r\n    </g>\r\n    <g id=\"text_9\">\r\n     <!-- pH -->\r\n     <defs>\r\n      <path d=\"M 6.59375 -19.875 \r\nL 6.59375 51.859375 \r\nL 14.59375 51.859375 \r\nL 14.59375 45.125 \r\nQ 17.4375 49.078125 21 51.046875 \r\nQ 24.5625 53.03125 29.640625 53.03125 \r\nQ 36.28125 53.03125 41.359375 49.609375 \r\nQ 46.4375 46.1875 49.015625 39.953125 \r\nQ 51.609375 33.734375 51.609375 26.3125 \r\nQ 51.609375 18.359375 48.75 11.984375 \r\nQ 45.90625 5.609375 40.453125 2.21875 \r\nQ 35.015625 -1.171875 29 -1.171875 \r\nQ 24.609375 -1.171875 21.109375 0.6875 \r\nQ 17.625 2.546875 15.375 5.375 \r\nL 15.375 -19.875 \r\nz\r\nM 14.546875 25.640625 \r\nQ 14.546875 15.625 18.59375 10.84375 \r\nQ 22.65625 6.0625 28.421875 6.0625 \r\nQ 34.28125 6.0625 38.453125 11.015625 \r\nQ 42.625 15.96875 42.625 26.375 \r\nQ 42.625 36.28125 38.546875 41.203125 \r\nQ 34.46875 46.140625 28.8125 46.140625 \r\nQ 23.1875 46.140625 18.859375 40.890625 \r\nQ 14.546875 35.640625 14.546875 25.640625 \r\nz\r\n\" id=\"ArialMT-112\"/>\r\n      <path d=\"M 8.015625 0 \r\nL 8.015625 71.578125 \r\nL 17.484375 71.578125 \r\nL 17.484375 42.1875 \r\nL 54.6875 42.1875 \r\nL 54.6875 71.578125 \r\nL 64.15625 71.578125 \r\nL 64.15625 0 \r\nL 54.6875 0 \r\nL 54.6875 33.734375 \r\nL 17.484375 33.734375 \r\nL 17.484375 0 \r\nz\r\n\" id=\"ArialMT-72\"/>\r\n     </defs>\r\n     <g style=\"fill:#555555;\" transform=\"translate(411.244687 385.854688)scale(0.12 -0.12)\">\r\n      <use xlink:href=\"#ArialMT-112\"/>\r\n      <use x=\"55.615234\" xlink:href=\"#ArialMT-72\"/>\r\n     </g>\r\n    </g>\r\n   </g>\r\n   <g id=\"matplotlib.axis_2\">\r\n    <g id=\"ytick_1\">\r\n     <g id=\"line2d_17\">\r\n      <path clip-path=\"url(#p0e852216fa)\" d=\"M 43.074375 344.613188 \r\nL 794.754375 344.613188 \r\n\" style=\"fill:none;stroke:#ffffff;\"/>\r\n     </g>\r\n     <g id=\"line2d_18\"/>\r\n     <g id=\"text_10\">\r\n      <!-- 0.1 -->\r\n      <defs>\r\n       <path d=\"M 37.25 0 \r\nL 28.46875 0 \r\nL 28.46875 56 \r\nQ 25.296875 52.984375 20.140625 49.953125 \r\nQ 14.984375 46.921875 10.890625 45.40625 \r\nL 10.890625 53.90625 \r\nQ 18.265625 57.375 23.78125 62.296875 \r\nQ 29.296875 67.234375 31.59375 71.875 \r\nL 37.25 71.875 \r\nz\r\n\" id=\"ArialMT-49\"/>\r\n      </defs>\r\n      <g style=\"fill:#555555;\" transform=\"translate(22.174375 348.192095)scale(0.1 -0.1)\">\r\n       <use xlink:href=\"#ArialMT-48\"/>\r\n       <use x=\"55.615234\" xlink:href=\"#ArialMT-46\"/>\r\n       <use x=\"83.398438\" xlink:href=\"#ArialMT-49\"/>\r\n      </g>\r\n     </g>\r\n    </g>\r\n    <g id=\"ytick_2\">\r\n     <g id=\"line2d_19\">\r\n      <path clip-path=\"url(#p0e852216fa)\" d=\"M 43.074375 269.749968 \r\nL 794.754375 269.749968 \r\n\" style=\"fill:none;stroke:#ffffff;\"/>\r\n     </g>\r\n     <g id=\"line2d_20\"/>\r\n     <g id=\"text_11\">\r\n      <!-- 0.2 -->\r\n      <defs>\r\n       <path d=\"M 50.34375 8.453125 \r\nL 50.34375 0 \r\nL 3.03125 0 \r\nQ 2.9375 3.171875 4.046875 6.109375 \r\nQ 5.859375 10.9375 9.828125 15.625 \r\nQ 13.8125 20.3125 21.34375 26.46875 \r\nQ 33.015625 36.03125 37.109375 41.625 \r\nQ 41.21875 47.21875 41.21875 52.203125 \r\nQ 41.21875 57.421875 37.46875 61 \r\nQ 33.734375 64.59375 27.734375 64.59375 \r\nQ 21.390625 64.59375 17.578125 60.78125 \r\nQ 13.765625 56.984375 13.71875 50.25 \r\nL 4.6875 51.171875 \r\nQ 5.609375 61.28125 11.65625 66.578125 \r\nQ 17.71875 71.875 27.9375 71.875 \r\nQ 38.234375 71.875 44.234375 66.15625 \r\nQ 50.25 60.453125 50.25 52 \r\nQ 50.25 47.703125 48.484375 43.546875 \r\nQ 46.734375 39.40625 42.65625 34.8125 \r\nQ 38.578125 30.21875 29.109375 22.21875 \r\nQ 21.1875 15.578125 18.9375 13.203125 \r\nQ 16.703125 10.84375 15.234375 8.453125 \r\nz\r\n\" id=\"ArialMT-50\"/>\r\n      </defs>\r\n      <g style=\"fill:#555555;\" transform=\"translate(22.174375 273.328874)scale(0.1 -0.1)\">\r\n       <use xlink:href=\"#ArialMT-48\"/>\r\n       <use x=\"55.615234\" xlink:href=\"#ArialMT-46\"/>\r\n       <use x=\"83.398438\" xlink:href=\"#ArialMT-50\"/>\r\n      </g>\r\n     </g>\r\n    </g>\r\n    <g id=\"ytick_3\">\r\n     <g id=\"line2d_21\">\r\n      <path clip-path=\"url(#p0e852216fa)\" d=\"M 43.074375 194.886747 \r\nL 794.754375 194.886747 \r\n\" style=\"fill:none;stroke:#ffffff;\"/>\r\n     </g>\r\n     <g id=\"line2d_22\"/>\r\n     <g id=\"text_12\">\r\n      <!-- 0.3 -->\r\n      <defs>\r\n       <path d=\"M 4.203125 18.890625 \r\nL 12.984375 20.0625 \r\nQ 14.5 12.59375 18.140625 9.296875 \r\nQ 21.78125 6 27 6 \r\nQ 33.203125 6 37.46875 10.296875 \r\nQ 41.75 14.59375 41.75 20.953125 \r\nQ 41.75 27 37.796875 30.921875 \r\nQ 33.84375 34.859375 27.734375 34.859375 \r\nQ 25.25 34.859375 21.53125 33.890625 \r\nL 22.515625 41.609375 \r\nQ 23.390625 41.5 23.921875 41.5 \r\nQ 29.546875 41.5 34.03125 44.421875 \r\nQ 38.53125 47.359375 38.53125 53.46875 \r\nQ 38.53125 58.296875 35.25 61.46875 \r\nQ 31.984375 64.65625 26.8125 64.65625 \r\nQ 21.6875 64.65625 18.265625 61.421875 \r\nQ 14.84375 58.203125 13.875 51.765625 \r\nL 5.078125 53.328125 \r\nQ 6.6875 62.15625 12.390625 67.015625 \r\nQ 18.109375 71.875 26.609375 71.875 \r\nQ 32.46875 71.875 37.390625 69.359375 \r\nQ 42.328125 66.84375 44.9375 62.5 \r\nQ 47.5625 58.15625 47.5625 53.265625 \r\nQ 47.5625 48.640625 45.0625 44.828125 \r\nQ 42.578125 41.015625 37.703125 38.765625 \r\nQ 44.046875 37.3125 47.5625 32.6875 \r\nQ 51.078125 28.078125 51.078125 21.140625 \r\nQ 51.078125 11.765625 44.234375 5.25 \r\nQ 37.40625 -1.265625 26.953125 -1.265625 \r\nQ 17.53125 -1.265625 11.296875 4.34375 \r\nQ 5.078125 9.96875 4.203125 18.890625 \r\nz\r\n\" id=\"ArialMT-51\"/>\r\n      </defs>\r\n      <g style=\"fill:#555555;\" transform=\"translate(22.174375 198.465654)scale(0.1 -0.1)\">\r\n       <use xlink:href=\"#ArialMT-48\"/>\r\n       <use x=\"55.615234\" xlink:href=\"#ArialMT-46\"/>\r\n       <use x=\"83.398438\" xlink:href=\"#ArialMT-51\"/>\r\n      </g>\r\n     </g>\r\n    </g>\r\n    <g id=\"ytick_4\">\r\n     <g id=\"line2d_23\">\r\n      <path clip-path=\"url(#p0e852216fa)\" d=\"M 43.074375 120.023527 \r\nL 794.754375 120.023527 \r\n\" style=\"fill:none;stroke:#ffffff;\"/>\r\n     </g>\r\n     <g id=\"line2d_24\"/>\r\n     <g id=\"text_13\">\r\n      <!-- 0.4 -->\r\n      <defs>\r\n       <path d=\"M 32.328125 0 \r\nL 32.328125 17.140625 \r\nL 1.265625 17.140625 \r\nL 1.265625 25.203125 \r\nL 33.9375 71.578125 \r\nL 41.109375 71.578125 \r\nL 41.109375 25.203125 \r\nL 50.78125 25.203125 \r\nL 50.78125 17.140625 \r\nL 41.109375 17.140625 \r\nL 41.109375 0 \r\nz\r\nM 32.328125 25.203125 \r\nL 32.328125 57.46875 \r\nL 9.90625 25.203125 \r\nz\r\n\" id=\"ArialMT-52\"/>\r\n      </defs>\r\n      <g style=\"fill:#555555;\" transform=\"translate(22.174375 123.602433)scale(0.1 -0.1)\">\r\n       <use xlink:href=\"#ArialMT-48\"/>\r\n       <use x=\"55.615234\" xlink:href=\"#ArialMT-46\"/>\r\n       <use x=\"83.398438\" xlink:href=\"#ArialMT-52\"/>\r\n      </g>\r\n     </g>\r\n    </g>\r\n    <g id=\"ytick_5\">\r\n     <g id=\"line2d_25\">\r\n      <path clip-path=\"url(#p0e852216fa)\" d=\"M 43.074375 45.160307 \r\nL 794.754375 45.160307 \r\n\" style=\"fill:none;stroke:#ffffff;\"/>\r\n     </g>\r\n     <g id=\"line2d_26\"/>\r\n     <g id=\"text_14\">\r\n      <!-- 0.5 -->\r\n      <g style=\"fill:#555555;\" transform=\"translate(22.174375 48.739213)scale(0.1 -0.1)\">\r\n       <use xlink:href=\"#ArialMT-48\"/>\r\n       <use x=\"55.615234\" xlink:href=\"#ArialMT-46\"/>\r\n       <use x=\"83.398438\" xlink:href=\"#ArialMT-53\"/>\r\n      </g>\r\n     </g>\r\n    </g>\r\n    <g id=\"text_15\">\r\n     <!-- Pb -->\r\n     <defs>\r\n      <path d=\"M 7.71875 0 \r\nL 7.71875 71.578125 \r\nL 34.71875 71.578125 \r\nQ 41.84375 71.578125 45.609375 70.90625 \r\nQ 50.875 70.015625 54.4375 67.546875 \r\nQ 58.015625 65.09375 60.1875 60.640625 \r\nQ 62.359375 56.203125 62.359375 50.875 \r\nQ 62.359375 41.75 56.546875 35.421875 \r\nQ 50.734375 29.109375 35.546875 29.109375 \r\nL 17.1875 29.109375 \r\nL 17.1875 0 \r\nz\r\nM 17.1875 37.546875 \r\nL 35.6875 37.546875 \r\nQ 44.875 37.546875 48.734375 40.96875 \r\nQ 52.59375 44.390625 52.59375 50.59375 \r\nQ 52.59375 55.078125 50.3125 58.265625 \r\nQ 48.046875 61.46875 44.34375 62.5 \r\nQ 41.9375 63.140625 35.5 63.140625 \r\nL 17.1875 63.140625 \r\nz\r\n\" id=\"ArialMT-80\"/>\r\n      <path d=\"M 14.703125 0 \r\nL 6.546875 0 \r\nL 6.546875 71.578125 \r\nL 15.328125 71.578125 \r\nL 15.328125 46.046875 \r\nQ 20.90625 53.03125 29.546875 53.03125 \r\nQ 34.328125 53.03125 38.59375 51.09375 \r\nQ 42.875 49.171875 45.625 45.671875 \r\nQ 48.390625 42.1875 49.953125 37.25 \r\nQ 51.515625 32.328125 51.515625 26.703125 \r\nQ 51.515625 13.375 44.921875 6.09375 \r\nQ 38.328125 -1.171875 29.109375 -1.171875 \r\nQ 19.921875 -1.171875 14.703125 6.5 \r\nz\r\nM 14.59375 26.3125 \r\nQ 14.59375 17 17.140625 12.84375 \r\nQ 21.296875 6.0625 28.375 6.0625 \r\nQ 34.125 6.0625 38.328125 11.0625 \r\nQ 42.53125 16.0625 42.53125 25.984375 \r\nQ 42.53125 36.140625 38.5 40.96875 \r\nQ 34.46875 45.796875 28.765625 45.796875 \r\nQ 23 45.796875 18.796875 40.796875 \r\nQ 14.59375 35.796875 14.59375 26.3125 \r\nz\r\n\" id=\"ArialMT-98\"/>\r\n     </defs>\r\n     <g style=\"fill:#555555;\" transform=\"translate(15.789375 189.49875)rotate(-90)scale(0.12 -0.12)\">\r\n      <use xlink:href=\"#ArialMT-80\"/>\r\n      <use x=\"66.699219\" xlink:href=\"#ArialMT-98\"/>\r\n     </g>\r\n    </g>\r\n   </g>\r\n   <g id=\"PathCollection_1\">\r\n    <defs>\r\n     <path d=\"M 0 3.5 \r\nC 0.928211 3.5 1.81853 3.131218 2.474874 2.474874 \r\nC 3.131218 1.81853 3.5 0.928211 3.5 0 \r\nC 3.5 -0.928211 3.131218 -1.81853 2.474874 -2.474874 \r\nC 1.81853 -3.131218 0.928211 -3.5 0 -3.5 \r\nC -0.928211 -3.5 -1.81853 -3.131218 -2.474874 -2.474874 \r\nC -3.131218 -1.81853 -3.5 -0.928211 -3.5 0 \r\nC -3.5 0.928211 -3.131218 1.81853 -2.474874 2.474874 \r\nC -1.81853 3.131218 -0.928211 3.5 0 3.5 \r\nz\r\n\" id=\"mef59bb35db\" style=\"stroke:#e24a33;stroke-width:0.5;\"/>\r\n    </defs>\r\n    <g clip-path=\"url(#p0e852216fa)\">\r\n     <use style=\"fill:#e24a33;stroke:#e24a33;stroke-width:0.5;\" x=\"592.588865\" xlink:href=\"#mef59bb35db\" y=\"81.843285\"/>\r\n     <use style=\"fill:#e24a33;stroke:#e24a33;stroke-width:0.5;\" x=\"757.122592\" xlink:href=\"#mef59bb35db\" y=\"340.121395\"/>\r\n     <use style=\"fill:#e24a33;stroke:#e24a33;stroke-width:0.5;\" x=\"519.462764\" xlink:href=\"#mef59bb35db\" y=\"164.192827\"/>\r\n     <use style=\"fill:#e24a33;stroke:#e24a33;stroke-width:0.5;\" x=\"574.307339\" xlink:href=\"#mef59bb35db\" y=\"301.19252\"/>\r\n     <use style=\"fill:#e24a33;stroke:#e24a33;stroke-width:0.5;\" x=\"647.43344\" xlink:href=\"#mef59bb35db\" y=\"231.569725\"/>\r\n     <use style=\"fill:#e24a33;stroke:#e24a33;stroke-width:0.5;\" x=\"446.336663\" xlink:href=\"#mef59bb35db\" y=\"286.219876\"/>\r\n     <use style=\"fill:#e24a33;stroke:#e24a33;stroke-width:0.5;\" x=\"336.647511\" xlink:href=\"#mef59bb35db\" y=\"179.165471\"/>\r\n     <use style=\"fill:#e24a33;stroke:#e24a33;stroke-width:0.5;\" x=\"391.492087\" xlink:href=\"#mef59bb35db\" y=\"102.056354\"/>\r\n     <use style=\"fill:#e24a33;stroke:#e24a33;stroke-width:0.5;\" x=\"647.43344\" xlink:href=\"#mef59bb35db\" y=\"273.493129\"/>\r\n     <use style=\"fill:#e24a33;stroke:#e24a33;stroke-width:0.5;\" x=\"683.996491\" xlink:href=\"#mef59bb35db\" y=\"30.187663\"/>\r\n     <use style=\"fill:#e24a33;stroke:#e24a33;stroke-width:0.5;\" x=\"519.462764\" xlink:href=\"#mef59bb35db\" y=\"196.384012\"/>\r\n     <use style=\"fill:#e24a33;stroke:#e24a33;stroke-width:0.5;\" x=\"647.43344\" xlink:href=\"#mef59bb35db\" y=\"173.925046\"/>\r\n     <use style=\"fill:#e24a33;stroke:#e24a33;stroke-width:0.5;\" x=\"482.899713\" xlink:href=\"#mef59bb35db\" y=\"305.684314\"/>\r\n     <use style=\"fill:#e24a33;stroke:#e24a33;stroke-width:0.5;\" x=\"391.492087\" xlink:href=\"#mef59bb35db\" y=\"243.547841\"/>\r\n     <use style=\"fill:#e24a33;stroke:#e24a33;stroke-width:0.5;\" x=\"354.929037\" xlink:href=\"#mef59bb35db\" y=\"156.706505\"/>\r\n     <use style=\"fill:#e24a33;stroke:#e24a33;stroke-width:0.5;\" x=\"464.618188\" xlink:href=\"#mef59bb35db\" y=\"176.919575\"/>\r\n     <use style=\"fill:#e24a33;stroke:#e24a33;stroke-width:0.5;\" x=\"519.462764\" xlink:href=\"#mef59bb35db\" y=\"247.291002\"/>\r\n     <use style=\"fill:#e24a33;stroke:#e24a33;stroke-width:0.5;\" x=\"574.307339\" xlink:href=\"#mef59bb35db\" y=\"315.416532\"/>\r\n     <use style=\"fill:#e24a33;stroke:#e24a33;stroke-width:0.5;\" x=\"373.210562\" xlink:href=\"#mef59bb35db\" y=\"81.843285\"/>\r\n     <use style=\"fill:#e24a33;stroke:#e24a33;stroke-width:0.5;\" x=\"464.618188\" xlink:href=\"#mef59bb35db\" y=\"133.498907\"/>\r\n     <use style=\"fill:#e24a33;stroke:#e24a33;stroke-width:0.5;\" x=\"391.492087\" xlink:href=\"#mef59bb35db\" y=\"179.914103\"/>\r\n     <use style=\"fill:#e24a33;stroke:#e24a33;stroke-width:0.5;\" x=\"501.181239\" xlink:href=\"#mef59bb35db\" y=\"31.684927\"/>\r\n     <use style=\"fill:#e24a33;stroke:#e24a33;stroke-width:0.5;\" x=\"757.122592\" xlink:href=\"#mef59bb35db\" y=\"173.176414\"/>\r\n     <use style=\"fill:#e24a33;stroke:#e24a33;stroke-width:0.5;\" x=\"519.462764\" xlink:href=\"#mef59bb35db\" y=\"323.651487\"/>\r\n     <use style=\"fill:#e24a33;stroke:#e24a33;stroke-width:0.5;\" x=\"592.588865\" xlink:href=\"#mef59bb35db\" y=\"99.810458\"/>\r\n     <use style=\"fill:#e24a33;stroke:#e24a33;stroke-width:0.5;\" x=\"610.87039\" xlink:href=\"#mef59bb35db\" y=\"143.231125\"/>\r\n     <use style=\"fill:#e24a33;stroke:#e24a33;stroke-width:0.5;\" x=\"373.210562\" xlink:href=\"#mef59bb35db\" y=\"102.056354\"/>\r\n     <use style=\"fill:#e24a33;stroke:#e24a33;stroke-width:0.5;\" x=\"300.084461\" xlink:href=\"#mef59bb35db\" y=\"327.394648\"/>\r\n     <use style=\"fill:#e24a33;stroke:#e24a33;stroke-width:0.5;\" x=\"373.210562\" xlink:href=\"#mef59bb35db\" y=\"248.039634\"/>\r\n     <use style=\"fill:#e24a33;stroke:#e24a33;stroke-width:0.5;\" x=\"208.676835\" xlink:href=\"#mef59bb35db\" y=\"328.891912\"/>\r\n     <use style=\"fill:#e24a33;stroke:#e24a33;stroke-width:0.5;\" x=\"263.521411\" xlink:href=\"#mef59bb35db\" y=\"255.525956\"/>\r\n     <use style=\"fill:#e24a33;stroke:#e24a33;stroke-width:0.5;\" x=\"80.706158\" xlink:href=\"#mef59bb35db\" y=\"211.356656\"/>\r\n     <use style=\"fill:#e24a33;stroke:#e24a33;stroke-width:0.5;\" x=\"647.43344\" xlink:href=\"#mef59bb35db\" y=\"148.471551\"/>\r\n     <use style=\"fill:#e24a33;stroke:#e24a33;stroke-width:0.5;\" x=\"263.521411\" xlink:href=\"#mef59bb35db\" y=\"301.941153\"/>\r\n     <use style=\"fill:#e24a33;stroke:#e24a33;stroke-width:0.5;\" x=\"665.714966\" xlink:href=\"#mef59bb35db\" y=\"26.444502\"/>\r\n     <use style=\"fill:#e24a33;stroke:#e24a33;stroke-width:0.5;\" x=\"683.996491\" xlink:href=\"#mef59bb35db\" y=\"126.761217\"/>\r\n     <use style=\"fill:#e24a33;stroke:#e24a33;stroke-width:0.5;\" x=\"519.462764\" xlink:href=\"#mef59bb35db\" y=\"102.056354\"/>\r\n     <use style=\"fill:#e24a33;stroke:#e24a33;stroke-width:0.5;\" x=\"647.43344\" xlink:href=\"#mef59bb35db\" y=\"116.280366\"/>\r\n     <use style=\"fill:#e24a33;stroke:#e24a33;stroke-width:0.5;\" x=\"501.181239\" xlink:href=\"#mef59bb35db\" y=\"29.43903\"/>\r\n     <use style=\"fill:#e24a33;stroke:#e24a33;stroke-width:0.5;\" x=\"409.773612\" xlink:href=\"#mef59bb35db\" y=\"177.668207\"/>\r\n     <use style=\"fill:#e24a33;stroke:#e24a33;stroke-width:0.5;\" x=\"446.336663\" xlink:href=\"#mef59bb35db\" y=\"267.504071\"/>\r\n     <use style=\"fill:#e24a33;stroke:#e24a33;stroke-width:0.5;\" x=\"318.365986\" xlink:href=\"#mef59bb35db\" y=\"329.640544\"/>\r\n     <use style=\"fill:#e24a33;stroke:#e24a33;stroke-width:0.5;\" x=\"574.307339\" xlink:href=\"#mef59bb35db\" y=\"323.651487\"/>\r\n     <use style=\"fill:#e24a33;stroke:#e24a33;stroke-width:0.5;\" x=\"519.462764\" xlink:href=\"#mef59bb35db\" y=\"166.438724\"/>\r\n     <use style=\"fill:#e24a33;stroke:#e24a33;stroke-width:0.5;\" x=\"336.647511\" xlink:href=\"#mef59bb35db\" y=\"81.094652\"/>\r\n     <use style=\"fill:#e24a33;stroke:#e24a33;stroke-width:0.5;\" x=\"464.618188\" xlink:href=\"#mef59bb35db\" y=\"251.034163\"/>\r\n     <use style=\"fill:#e24a33;stroke:#e24a33;stroke-width:0.5;\" x=\"391.492087\" xlink:href=\"#mef59bb35db\" y=\"179.165471\"/>\r\n     <use style=\"fill:#e24a33;stroke:#e24a33;stroke-width:0.5;\" x=\"574.307339\" xlink:href=\"#mef59bb35db\" y=\"24.198605\"/>\r\n    </g>\r\n   </g>\r\n   <g id=\"line2d_27\">\r\n    <path clip-path=\"url(#p0e852216fa)\" d=\"M 80.706158 249.060394 \r\nL 87.538647 248.056812 \r\nL 94.371137 247.053231 \r\nL 101.203626 246.049649 \r\nL 108.036115 245.046067 \r\nL 114.868604 244.042485 \r\nL 121.701094 243.038904 \r\nL 128.533583 242.035322 \r\nL 135.366072 241.03174 \r\nL 142.198561 240.028158 \r\nL 149.031051 239.024577 \r\nL 155.86354 238.020995 \r\nL 162.696029 237.017413 \r\nL 169.528518 236.013831 \r\nL 176.361007 235.01025 \r\nL 183.193497 234.006668 \r\nL 190.025986 233.003086 \r\nL 196.858475 231.999504 \r\nL 203.690964 230.995923 \r\nL 210.523454 229.992341 \r\nL 217.355943 228.988759 \r\nL 224.188432 227.985177 \r\nL 231.020921 226.981596 \r\nL 237.85341 225.978014 \r\nL 244.6859 224.974432 \r\nL 251.518389 223.97085 \r\nL 258.350878 222.967268 \r\nL 265.183367 221.963687 \r\nL 272.015857 220.960105 \r\nL 278.848346 219.956523 \r\nL 285.680835 218.952941 \r\nL 292.513324 217.94936 \r\nL 299.345814 216.945778 \r\nL 306.178303 215.942196 \r\nL 313.010792 214.938614 \r\nL 319.843281 213.935033 \r\nL 326.67577 212.931451 \r\nL 333.50826 211.927869 \r\nL 340.340749 210.924287 \r\nL 347.173238 209.920706 \r\nL 354.005727 208.917124 \r\nL 360.838217 207.913542 \r\nL 367.670706 206.90996 \r\nL 374.503195 205.906379 \r\nL 381.335684 204.902797 \r\nL 388.168173 203.899215 \r\nL 395.000663 202.895633 \r\nL 401.833152 201.892052 \r\nL 408.665641 200.88847 \r\nL 415.49813 199.884888 \r\nL 422.33062 198.881306 \r\nL 429.163109 197.877725 \r\nL 435.995598 196.874143 \r\nL 442.828087 195.870561 \r\nL 449.660577 194.866979 \r\nL 456.493066 193.863398 \r\nL 463.325555 192.859816 \r\nL 470.158044 191.856234 \r\nL 476.990533 190.852652 \r\nL 483.823023 189.849071 \r\nL 490.655512 188.845489 \r\nL 497.488001 187.841907 \r\nL 504.32049 186.838325 \r\nL 511.15298 185.834744 \r\nL 517.985469 184.831162 \r\nL 524.817958 183.82758 \r\nL 531.650447 182.823998 \r\nL 538.482936 181.820417 \r\nL 545.315426 180.816835 \r\nL 552.147915 179.813253 \r\nL 558.980404 178.809671 \r\nL 565.812893 177.80609 \r\nL 572.645383 176.802508 \r\nL 579.477872 175.798926 \r\nL 586.310361 174.795344 \r\nL 593.14285 173.791762 \r\nL 599.97534 172.788181 \r\nL 606.807829 171.784599 \r\nL 613.640318 170.781017 \r\nL 620.472807 169.777435 \r\nL 627.305296 168.773854 \r\nL 634.137786 167.770272 \r\nL 640.970275 166.76669 \r\nL 647.802764 165.763108 \r\nL 654.635253 164.759527 \r\nL 661.467743 163.755945 \r\nL 668.300232 162.752363 \r\nL 675.132721 161.748781 \r\nL 681.96521 160.7452 \r\nL 688.797699 159.741618 \r\nL 695.630189 158.738036 \r\nL 702.462678 157.734454 \r\nL 709.295167 156.730873 \r\nL 716.127656 155.727291 \r\nL 722.960146 154.723709 \r\nL 729.792635 153.720127 \r\nL 736.625124 152.716546 \r\nL 743.457613 151.712964 \r\nL 750.290103 150.709382 \r\nL 757.122592 149.7058 \r\n\" style=\"fill:none;stroke:#008000;stroke-width:4;\"/>\r\n   </g>\r\n   <g id=\"line2d_28\">\r\n    <path clip-path=\"url(#p0e852216fa)\" d=\"M 80.706158 189.537147 \r\nL 87.538647 189.537147 \r\nL 94.371137 189.537147 \r\nL 101.203626 189.537147 \r\nL 108.036115 189.537147 \r\nL 114.868604 189.537147 \r\nL 121.701094 189.537147 \r\nL 128.533583 189.537147 \r\nL 135.366072 189.537147 \r\nL 142.198561 189.537147 \r\nL 149.031051 189.537147 \r\nL 155.86354 189.537147 \r\nL 162.696029 189.537147 \r\nL 169.528518 189.537147 \r\nL 176.361007 189.537147 \r\nL 183.193497 189.537147 \r\nL 190.025986 189.537147 \r\nL 196.858475 189.537147 \r\nL 203.690964 189.537147 \r\nL 210.523454 189.537147 \r\nL 217.355943 189.537147 \r\nL 224.188432 189.537147 \r\nL 231.020921 189.537147 \r\nL 237.85341 189.537147 \r\nL 244.6859 189.537147 \r\nL 251.518389 189.537147 \r\nL 258.350878 189.537147 \r\nL 265.183367 189.537147 \r\nL 272.015857 189.537147 \r\nL 278.848346 189.537147 \r\nL 285.680835 189.537147 \r\nL 292.513324 189.537147 \r\nL 299.345814 189.537147 \r\nL 306.178303 189.537147 \r\nL 313.010792 189.537147 \r\nL 319.843281 189.537147 \r\nL 326.67577 189.537147 \r\nL 333.50826 189.537147 \r\nL 340.340749 189.537147 \r\nL 347.173238 189.537147 \r\nL 354.005727 189.537147 \r\nL 360.838217 189.537147 \r\nL 367.670706 189.537147 \r\nL 374.503195 189.537147 \r\nL 381.335684 189.537147 \r\nL 388.168173 189.537147 \r\nL 395.000663 189.537147 \r\nL 401.833152 189.537147 \r\nL 408.665641 189.537147 \r\nL 415.49813 189.537147 \r\nL 422.33062 189.537147 \r\nL 429.163109 189.537147 \r\nL 435.995598 189.537147 \r\nL 442.828087 189.537147 \r\nL 449.660577 189.537147 \r\nL 456.493066 189.537147 \r\nL 463.325555 189.537147 \r\nL 470.158044 189.537147 \r\nL 476.990533 189.537147 \r\nL 483.823023 189.537147 \r\nL 490.655512 189.537147 \r\nL 497.488001 189.537147 \r\nL 504.32049 189.537147 \r\nL 511.15298 189.537147 \r\nL 517.985469 189.537147 \r\nL 524.817958 189.537147 \r\nL 531.650447 189.537147 \r\nL 538.482936 189.537147 \r\nL 545.315426 189.537147 \r\nL 552.147915 189.537147 \r\nL 558.980404 189.537147 \r\nL 565.812893 189.537147 \r\nL 572.645383 189.537147 \r\nL 579.477872 189.537147 \r\nL 586.310361 189.537147 \r\nL 593.14285 189.537147 \r\nL 599.97534 189.537147 \r\nL 606.807829 189.537147 \r\nL 613.640318 189.537147 \r\nL 620.472807 189.537147 \r\nL 627.305296 189.537147 \r\nL 634.137786 189.537147 \r\nL 640.970275 189.537147 \r\nL 647.802764 189.537147 \r\nL 654.635253 189.537147 \r\nL 661.467743 189.537147 \r\nL 668.300232 189.537147 \r\nL 675.132721 189.537147 \r\nL 681.96521 189.537147 \r\nL 688.797699 189.537147 \r\nL 695.630189 189.537147 \r\nL 702.462678 189.537147 \r\nL 709.295167 189.537147 \r\nL 716.127656 189.537147 \r\nL 722.960146 189.537147 \r\nL 729.792635 189.537147 \r\nL 736.625124 189.537147 \r\nL 743.457613 189.537147 \r\nL 750.290103 189.537147 \r\nL 757.122592 189.537147 \r\n\" style=\"fill:none;stroke:#008080;stroke-width:4;\"/>\r\n   </g>\r\n   <g id=\"patch_3\">\r\n    <path d=\"M 43.074375 357.12 \r\nL 43.074375 7.2 \r\n\" style=\"fill:none;stroke:#ffffff;stroke-linecap:square;stroke-linejoin:miter;\"/>\r\n   </g>\r\n   <g id=\"patch_4\">\r\n    <path d=\"M 794.754375 357.12 \r\nL 794.754375 7.2 \r\n\" style=\"fill:none;stroke:#ffffff;stroke-linecap:square;stroke-linejoin:miter;\"/>\r\n   </g>\r\n   <g id=\"patch_5\">\r\n    <path d=\"M 43.074375 357.12 \r\nL 794.754375 357.12 \r\n\" style=\"fill:none;stroke:#ffffff;stroke-linecap:square;stroke-linejoin:miter;\"/>\r\n   </g>\r\n   <g id=\"patch_6\">\r\n    <path d=\"M 43.074375 7.2 \r\nL 794.754375 7.2 \r\n\" style=\"fill:none;stroke:#ffffff;stroke-linecap:square;stroke-linejoin:miter;\"/>\r\n   </g>\r\n   <g id=\"legend_1\">\r\n    <g id=\"line2d_29\">\r\n     <path d=\"M 708.454375 21.9 \r\nL 728.454375 21.9 \r\n\" style=\"fill:none;stroke:#008000;stroke-width:4;\"/>\r\n    </g>\r\n    <g id=\"line2d_30\"/>\r\n    <g id=\"text_16\">\r\n     <!-- $\\hat y = a + bx$ -->\r\n     <defs>\r\n      <path d=\"M -28.609375 79.984375 \r\nL -21.390625 79.984375 \r\nL -9.421875 61.625 \r\nL -16.21875 61.625 \r\nL -25 73.578125 \r\nL -33.796875 61.625 \r\nL -40.578125 61.625 \r\nz\r\nM -25 56 \r\nz\r\n\" id=\"DejaVuSans-770\"/>\r\n      <path d=\"M 24.8125 -5.078125 \r\nQ 18.5625 -15.578125 14.625 -18.1875 \r\nQ 10.6875 -20.796875 4.59375 -20.796875 \r\nL -2.484375 -20.796875 \r\nL -0.984375 -13.28125 \r\nL 4.203125 -13.28125 \r\nQ 7.953125 -13.28125 10.59375 -11.234375 \r\nQ 13.234375 -9.1875 16.5 -3.21875 \r\nL 19.28125 2 \r\nL 7.171875 54.6875 \r\nL 16.703125 54.6875 \r\nL 25.78125 12.796875 \r\nL 50.875 54.6875 \r\nL 60.296875 54.6875 \r\nz\r\n\" id=\"DejaVuSans-Oblique-121\"/>\r\n      <path d=\"M 10.59375 45.40625 \r\nL 73.1875 45.40625 \r\nL 73.1875 37.203125 \r\nL 10.59375 37.203125 \r\nz\r\nM 10.59375 25.484375 \r\nL 73.1875 25.484375 \r\nL 73.1875 17.1875 \r\nL 10.59375 17.1875 \r\nz\r\n\" id=\"DejaVuSans-61\"/>\r\n      <path d=\"M 53.71875 31.203125 \r\nL 47.609375 0 \r\nL 38.625 0 \r\nL 40.28125 8.296875 \r\nQ 36.328125 3.421875 31.265625 1 \r\nQ 26.21875 -1.421875 20.015625 -1.421875 \r\nQ 13.03125 -1.421875 8.5625 2.84375 \r\nQ 4.109375 7.125 4.109375 13.8125 \r\nQ 4.109375 23.390625 11.75 28.953125 \r\nQ 19.390625 34.515625 32.8125 34.515625 \r\nL 45.3125 34.515625 \r\nL 45.796875 36.921875 \r\nQ 45.90625 37.3125 45.953125 37.765625 \r\nQ 46 38.234375 46 39.203125 \r\nQ 46 43.5625 42.453125 45.96875 \r\nQ 38.921875 48.390625 32.515625 48.390625 \r\nQ 28.125 48.390625 23.5 47.265625 \r\nQ 18.890625 46.140625 14.015625 43.890625 \r\nL 15.578125 52.203125 \r\nQ 20.65625 54.109375 25.515625 55.046875 \r\nQ 30.375 56 34.90625 56 \r\nQ 44.578125 56 49.625 51.796875 \r\nQ 54.6875 47.609375 54.6875 39.59375 \r\nQ 54.6875 37.984375 54.4375 35.8125 \r\nQ 54.203125 33.640625 53.71875 31.203125 \r\nz\r\nM 44 27.484375 \r\nL 35.015625 27.484375 \r\nQ 23.96875 27.484375 18.671875 24.53125 \r\nQ 13.375 21.578125 13.375 15.375 \r\nQ 13.375 11.078125 16.078125 8.640625 \r\nQ 18.796875 6.203125 23.578125 6.203125 \r\nQ 30.90625 6.203125 36.375 11.453125 \r\nQ 41.84375 16.703125 43.609375 25.484375 \r\nz\r\n\" id=\"DejaVuSans-Oblique-97\"/>\r\n      <path d=\"M 46 62.703125 \r\nL 46 35.5 \r\nL 73.1875 35.5 \r\nL 73.1875 27.203125 \r\nL 46 27.203125 \r\nL 46 0 \r\nL 37.796875 0 \r\nL 37.796875 27.203125 \r\nL 10.59375 27.203125 \r\nL 10.59375 35.5 \r\nL 37.796875 35.5 \r\nL 37.796875 62.703125 \r\nz\r\n\" id=\"DejaVuSans-43\"/>\r\n      <path d=\"M 49.515625 33.40625 \r\nQ 49.515625 40.484375 46.265625 44.484375 \r\nQ 43.015625 48.484375 37.3125 48.484375 \r\nQ 33.15625 48.484375 29.515625 46.453125 \r\nQ 25.875 44.4375 23.1875 40.578125 \r\nQ 20.359375 36.53125 18.71875 31.171875 \r\nQ 17.09375 25.828125 17.09375 20.515625 \r\nQ 17.09375 13.765625 20.28125 9.9375 \r\nQ 23.484375 6.109375 29.109375 6.109375 \r\nQ 33.34375 6.109375 36.953125 8.078125 \r\nQ 40.578125 10.0625 43.3125 13.921875 \r\nQ 46.09375 17.921875 47.796875 23.234375 \r\nQ 49.515625 28.5625 49.515625 33.40625 \r\nz\r\nM 21.578125 46.390625 \r\nQ 24.90625 50.875 29.90625 53.4375 \r\nQ 34.90625 56 40.375 56 \r\nQ 48.78125 56 53.734375 50.328125 \r\nQ 58.6875 44.671875 58.6875 35.015625 \r\nQ 58.6875 27.09375 55.78125 19.671875 \r\nQ 52.875 12.25 47.515625 6.5 \r\nQ 44 2.6875 39.40625 0.625 \r\nQ 34.8125 -1.421875 29.78125 -1.421875 \r\nQ 24.46875 -1.421875 20.5625 1.015625 \r\nQ 16.65625 3.46875 14.203125 8.296875 \r\nL 12.59375 0 \r\nL 3.609375 0 \r\nL 18.40625 75.984375 \r\nL 27.390625 75.984375 \r\nz\r\n\" id=\"DejaVuSans-Oblique-98\"/>\r\n      <path d=\"M 60.015625 54.6875 \r\nL 34.90625 27.875 \r\nL 50.296875 0 \r\nL 39.984375 0 \r\nL 28.421875 21.6875 \r\nL 8.296875 0 \r\nL -2.59375 0 \r\nL 24.3125 28.8125 \r\nL 10.015625 54.6875 \r\nL 20.3125 54.6875 \r\nL 30.8125 34.90625 \r\nL 49.125 54.6875 \r\nz\r\n\" id=\"DejaVuSans-Oblique-120\"/>\r\n     </defs>\r\n     <g style=\"fill:#262626;\" transform=\"translate(736.454375 25.4)scale(0.1 -0.1)\">\r\n      <use transform=\"translate(64.273438 12.015625)\" xlink:href=\"#DejaVuSans-770\"/>\r\n      <use transform=\"translate(0 0.828125)\" xlink:href=\"#DejaVuSans-Oblique-121\"/>\r\n      <use transform=\"translate(82.263672 0.828125)\" xlink:href=\"#DejaVuSans-61\"/>\r\n      <use transform=\"translate(185.535156 0.828125)\" xlink:href=\"#DejaVuSans-Oblique-97\"/>\r\n      <use transform=\"translate(266.296875 0.828125)\" xlink:href=\"#DejaVuSans-43\"/>\r\n      <use transform=\"translate(369.568359 0.828125)\" xlink:href=\"#DejaVuSans-Oblique-98\"/>\r\n      <use transform=\"translate(433.044922 0.828125)\" xlink:href=\"#DejaVuSans-Oblique-120\"/>\r\n     </g>\r\n    </g>\r\n    <g id=\"line2d_31\">\r\n     <path d=\"M 708.454375 36.5 \r\nL 728.454375 36.5 \r\n\" style=\"fill:none;stroke:#008080;stroke-width:4;\"/>\r\n    </g>\r\n    <g id=\"line2d_32\"/>\r\n    <g id=\"text_17\">\r\n     <!-- $\\bar y$ -->\r\n     <defs>\r\n      <path d=\"M -39.40625 74.515625 \r\nL -10.203125 74.515625 \r\nL -10.203125 67.28125 \r\nL -39.40625 67.28125 \r\nz\r\n\" id=\"DejaVuSans-772\"/>\r\n     </defs>\r\n     <g style=\"fill:#262626;\" transform=\"translate(736.454375 40)scale(0.1 -0.1)\">\r\n      <use transform=\"translate(64.101562 0.484375)\" xlink:href=\"#DejaVuSans-772\"/>\r\n      <use transform=\"translate(0 0.578125)\" xlink:href=\"#DejaVuSans-Oblique-121\"/>\r\n     </g>\r\n    </g>\r\n    <g id=\"PathCollection_2\">\r\n     <g>\r\n      <use style=\"fill:#e24a33;stroke:#e24a33;stroke-width:0.5;\" x=\"718.454375\" xlink:href=\"#mef59bb35db\" y=\"51.754688\"/>\r\n     </g>\r\n    </g>\r\n    <g id=\"text_18\">\r\n     <!-- Sample -->\r\n     <defs>\r\n      <path d=\"M 4.5 23 \r\nL 13.421875 23.78125 \r\nQ 14.0625 18.40625 16.375 14.96875 \r\nQ 18.703125 11.53125 23.578125 9.40625 \r\nQ 28.46875 7.28125 34.578125 7.28125 \r\nQ 39.984375 7.28125 44.140625 8.890625 \r\nQ 48.296875 10.5 50.3125 13.296875 \r\nQ 52.34375 16.109375 52.34375 19.4375 \r\nQ 52.34375 22.796875 50.390625 25.3125 \r\nQ 48.4375 27.828125 43.953125 29.546875 \r\nQ 41.0625 30.671875 31.203125 33.03125 \r\nQ 21.34375 35.40625 17.390625 37.5 \r\nQ 12.25 40.1875 9.734375 44.15625 \r\nQ 7.234375 48.140625 7.234375 53.078125 \r\nQ 7.234375 58.5 10.296875 63.203125 \r\nQ 13.375 67.921875 19.28125 70.359375 \r\nQ 25.203125 72.796875 32.421875 72.796875 \r\nQ 40.375 72.796875 46.453125 70.234375 \r\nQ 52.546875 67.671875 55.8125 62.6875 \r\nQ 59.078125 57.71875 59.328125 51.421875 \r\nL 50.25 50.734375 \r\nQ 49.515625 57.515625 45.28125 60.984375 \r\nQ 41.0625 64.453125 32.8125 64.453125 \r\nQ 24.21875 64.453125 20.28125 61.296875 \r\nQ 16.359375 58.15625 16.359375 53.71875 \r\nQ 16.359375 49.859375 19.140625 47.359375 \r\nQ 21.875 44.875 33.421875 42.265625 \r\nQ 44.96875 39.65625 49.265625 37.703125 \r\nQ 55.515625 34.8125 58.484375 30.390625 \r\nQ 61.46875 25.984375 61.46875 20.21875 \r\nQ 61.46875 14.5 58.203125 9.4375 \r\nQ 54.9375 4.390625 48.796875 1.578125 \r\nQ 42.671875 -1.21875 35.015625 -1.21875 \r\nQ 25.296875 -1.21875 18.71875 1.609375 \r\nQ 12.15625 4.4375 8.421875 10.125 \r\nQ 4.6875 15.828125 4.5 23 \r\nz\r\n\" id=\"ArialMT-83\"/>\r\n      <path d=\"M 40.4375 6.390625 \r\nQ 35.546875 2.25 31.03125 0.53125 \r\nQ 26.515625 -1.171875 21.34375 -1.171875 \r\nQ 12.796875 -1.171875 8.203125 3 \r\nQ 3.609375 7.171875 3.609375 13.671875 \r\nQ 3.609375 17.484375 5.34375 20.625 \r\nQ 7.078125 23.78125 9.890625 25.6875 \r\nQ 12.703125 27.59375 16.21875 28.5625 \r\nQ 18.796875 29.25 24.03125 29.890625 \r\nQ 34.671875 31.15625 39.703125 32.90625 \r\nQ 39.75 34.71875 39.75 35.203125 \r\nQ 39.75 40.578125 37.25 42.78125 \r\nQ 33.890625 45.75 27.25 45.75 \r\nQ 21.046875 45.75 18.09375 43.578125 \r\nQ 15.140625 41.40625 13.71875 35.890625 \r\nL 5.125 37.0625 \r\nQ 6.296875 42.578125 8.984375 45.96875 \r\nQ 11.671875 49.359375 16.75 51.1875 \r\nQ 21.828125 53.03125 28.515625 53.03125 \r\nQ 35.15625 53.03125 39.296875 51.46875 \r\nQ 43.453125 49.90625 45.40625 47.53125 \r\nQ 47.359375 45.171875 48.140625 41.546875 \r\nQ 48.578125 39.3125 48.578125 33.453125 \r\nL 48.578125 21.734375 \r\nQ 48.578125 9.46875 49.140625 6.21875 \r\nQ 49.703125 2.984375 51.375 0 \r\nL 42.1875 0 \r\nQ 40.828125 2.734375 40.4375 6.390625 \r\nz\r\nM 39.703125 26.03125 \r\nQ 34.90625 24.078125 25.34375 22.703125 \r\nQ 19.921875 21.921875 17.671875 20.9375 \r\nQ 15.4375 19.96875 14.203125 18.09375 \r\nQ 12.984375 16.21875 12.984375 13.921875 \r\nQ 12.984375 10.40625 15.640625 8.0625 \r\nQ 18.3125 5.71875 23.4375 5.71875 \r\nQ 28.515625 5.71875 32.46875 7.9375 \r\nQ 36.421875 10.15625 38.28125 14.015625 \r\nQ 39.703125 17 39.703125 22.796875 \r\nz\r\n\" id=\"ArialMT-97\"/>\r\n      <path d=\"M 6.59375 0 \r\nL 6.59375 51.859375 \r\nL 14.453125 51.859375 \r\nL 14.453125 44.578125 \r\nQ 16.890625 48.390625 20.9375 50.703125 \r\nQ 25 53.03125 30.171875 53.03125 \r\nQ 35.9375 53.03125 39.625 50.640625 \r\nQ 43.3125 48.25 44.828125 43.953125 \r\nQ 50.984375 53.03125 60.84375 53.03125 \r\nQ 68.5625 53.03125 72.703125 48.75 \r\nQ 76.859375 44.484375 76.859375 35.59375 \r\nL 76.859375 0 \r\nL 68.109375 0 \r\nL 68.109375 32.671875 \r\nQ 68.109375 37.9375 67.25 40.25 \r\nQ 66.40625 42.578125 64.15625 43.984375 \r\nQ 61.921875 45.40625 58.890625 45.40625 \r\nQ 53.421875 45.40625 49.796875 41.765625 \r\nQ 46.1875 38.140625 46.1875 30.125 \r\nL 46.1875 0 \r\nL 37.40625 0 \r\nL 37.40625 33.6875 \r\nQ 37.40625 39.546875 35.25 42.46875 \r\nQ 33.109375 45.40625 28.21875 45.40625 \r\nQ 24.515625 45.40625 21.359375 43.453125 \r\nQ 18.21875 41.5 16.796875 37.734375 \r\nQ 15.375 33.984375 15.375 26.90625 \r\nL 15.375 0 \r\nz\r\n\" id=\"ArialMT-109\"/>\r\n      <path d=\"M 6.390625 0 \r\nL 6.390625 71.578125 \r\nL 15.1875 71.578125 \r\nL 15.1875 0 \r\nz\r\n\" id=\"ArialMT-108\"/>\r\n      <path d=\"M 42.09375 16.703125 \r\nL 51.171875 15.578125 \r\nQ 49.03125 7.625 43.21875 3.21875 \r\nQ 37.40625 -1.171875 28.375 -1.171875 \r\nQ 17 -1.171875 10.328125 5.828125 \r\nQ 3.65625 12.84375 3.65625 25.484375 \r\nQ 3.65625 38.578125 10.390625 45.796875 \r\nQ 17.140625 53.03125 27.875 53.03125 \r\nQ 38.28125 53.03125 44.875 45.953125 \r\nQ 51.46875 38.875 51.46875 26.03125 \r\nQ 51.46875 25.25 51.421875 23.6875 \r\nL 12.75 23.6875 \r\nQ 13.234375 15.140625 17.578125 10.59375 \r\nQ 21.921875 6.0625 28.421875 6.0625 \r\nQ 33.25 6.0625 36.671875 8.59375 \r\nQ 40.09375 11.140625 42.09375 16.703125 \r\nz\r\nM 13.234375 30.90625 \r\nL 42.1875 30.90625 \r\nQ 41.609375 37.453125 38.875 40.71875 \r\nQ 34.671875 45.796875 27.984375 45.796875 \r\nQ 21.921875 45.796875 17.796875 41.75 \r\nQ 13.671875 37.703125 13.234375 30.90625 \r\nz\r\n\" id=\"ArialMT-101\"/>\r\n     </defs>\r\n     <g style=\"fill:#262626;\" transform=\"translate(736.454375 54.379688)scale(0.1 -0.1)\">\r\n      <use xlink:href=\"#ArialMT-83\"/>\r\n      <use x=\"66.699219\" xlink:href=\"#ArialMT-97\"/>\r\n      <use x=\"122.314453\" xlink:href=\"#ArialMT-109\"/>\r\n      <use x=\"205.615234\" xlink:href=\"#ArialMT-112\"/>\r\n      <use x=\"261.230469\" xlink:href=\"#ArialMT-108\"/>\r\n      <use x=\"283.447266\" xlink:href=\"#ArialMT-101\"/>\r\n     </g>\r\n    </g>\r\n   </g>\r\n  </g>\r\n </g>\r\n <defs>\r\n  <clipPath id=\"p0e852216fa\">\r\n   <rect height=\"349.92\" width=\"751.68\" x=\"43.074375\" y=\"7.2\"/>\r\n  </clipPath>\r\n </defs>\r\n</svg>\r\n",
      "text/plain": "<Figure size 864x432 with 1 Axes>"
     },
     "metadata": {},
     "output_type": "display_data"
    }
   ],
   "source": [
    "xx = np.linspace(np.min(pH),np.max(pH),100)\n",
    "plt.figure(figsize = (12,6))\n",
    "plt.plot(xx, yhat(xx), color = \"green\", label = r\"$\\hat y = a + bx$\")\n",
    "plt.plot(xx, np.ones(100)*mean(Y), color = \"teal\", label = r\"$\\bar y$\")\n",
    "plt.scatter(x, Y, label = \"Sample\")\n",
    "plt.legend()\n",
    "plt.xlabel(\"pH\")\n",
    "plt.ylabel(\"Pb\")"
   ]
  },
  {
   "cell_type": "markdown",
   "execution_count": null,
   "metadata": {},
   "outputs": [],
   "source": [
    "An unbiased estimator of the variance $\\sigma^2$ of $Y$ is\n",
    "\n",
    "$$\n",
    "s^2 = \\frac{RSS}{n-2} = \\sum_{i=1}^n \\frac{(y_i - \\hat y_i)^2}{n - 2}.\n",
    "$$\n",
    "\n",
    "RSS denotes the Residual Sum of Squares, while TSS denotes the Total Sum of Squares. "
   ]
  },
  {
   "cell_type": "code",
   "execution_count": 0,
   "metadata": {},
   "outputs": [],
   "source": [
    "def RSS(y, x):\n",
    "    s = 0\n",
    "    for i in range(n):\n",
    "        s += (y[i] - yhat(x[i]))**2\n",
    "    return s\n",
    "\n",
    "def TSS(y, x):\n",
    "    s = 0\n",
    "    for i in range(n):\n",
    "        s += (y[i] - mean(y))**2\n",
    "    return s\n",
    "\n",
    "def estimate_variance(y, x):\n",
    "    return RSS(y, x)/(n-2) \n",
    "\n",
    "print(\"Estimate for variance of Y: {:.3f}\".format(estimate_variance(Y, pH)))"
   ]
  },
  {
   "cell_type": "code",
   "execution_count": 0,
   "metadata": {},
   "outputs": [],
   "source": [
    "print(\"The slope of x (pH) is {:.2f}\".format(b))"
   ]
  },
  {
   "cell_type": "markdown",
   "execution_count": null,
   "metadata": {},
   "outputs": [],
   "source": [
    "The coefficient of determination $R^2$ can be interpreted as the variation explained by $x$ over the total variation of $Y$. \n",
    "\n",
    "$$\n",
    "R^2 = 1 - \\frac{RSS}{TSS}\n",
    "$$"
   ]
  },
  {
   "cell_type": "code",
   "execution_count": 0,
   "metadata": {},
   "outputs": [],
   "source": [
    "def R2(y, x):\n",
    "    return 1 - RSS(y, x)/TSS(y, x)\n",
    "\n",
    "print(\"Coefficient of determination: {:.2f}\".format(R2(Y, x)))"
   ]
  },
  {
   "cell_type": "markdown",
   "execution_count": null,
   "metadata": {},
   "outputs": [],
   "source": [
    "The low value indicate that the linear regression model does not explain much of the variation of $Y$. "
   ]
  },
  {
   "cell_type": "markdown",
   "execution_count": null,
   "metadata": {},
   "outputs": [],
   "source": [
    "The standardised residual is calculated as\n",
    "\n",
    "$$\n",
    "\\frac{r_i}{\\sqrt{\\sum r_i^2/(n-1)}}\n",
    "$$\n",
    "\n",
    "where $r_i = y_i - \\hat y_i$ is the residual of datapoint $i$. "
   ]
  },
  {
   "cell_type": "code",
   "execution_count": 82,
   "metadata": {},
   "outputs": [
    {
     "data": {
      "text/plain": "<matplotlib.collections.LineCollection at 0x183b9310>"
     },
     "execution_count": 82,
     "metadata": {},
     "output_type": "execute_result"
    },
    {
     "data": {
      "image/png": "[encoded data removed]",
      "image/svg+xml": "<?xml version=\"1.0\" encoding=\"utf-8\" standalone=\"no\"?>\r\n<!DOCTYPE svg PUBLIC \"-//W3C//DTD SVG 1.1//EN\"\r\n  \"http://www.w3.org/Graphics/SVG/1.1/DTD/svg11.dtd\">\r\n<!-- Created with matplotlib (https://matplotlib.org/) -->\r\n<svg height=\"368.865313pt\" version=\"1.1\" viewBox=\"0 0 559.236496 368.865313\" width=\"559.236496pt\" xmlns=\"http://www.w3.org/2000/svg\" xmlns:xlink=\"http://www.w3.org/1999/xlink\">\r\n <defs>\r\n  <style type=\"text/css\">\r\n*{stroke-linecap:butt;stroke-linejoin:round;}\r\n  </style>\r\n </defs>\r\n <g id=\"figure_1\">\r\n  <g id=\"patch_1\">\r\n   <path d=\"M 0 368.865313 \r\nL 559.236496 368.865313 \r\nL 559.236496 0 \r\nL 0 0 \r\nz\r\n\" style=\"fill:#ffffff;\"/>\r\n  </g>\r\n  <g id=\"axes_1\">\r\n   <g id=\"patch_2\">\r\n    <path d=\"M 48.915 327.96 \r\nL 550.035 327.96 \r\nL 550.035 7.2 \r\nL 48.915 7.2 \r\nz\r\n\" style=\"fill:#e5e5e5;\"/>\r\n   </g>\r\n   <g id=\"matplotlib.axis_1\">\r\n    <g id=\"xtick_1\">\r\n     <g id=\"line2d_1\">\r\n      <path clip-path=\"url(#pf75179f0ea)\" d=\"M 90.559343 327.96 \r\nL 90.559343 7.2 \r\n\" style=\"fill:none;stroke:#ffffff;\"/>\r\n     </g>\r\n     <g id=\"line2d_2\"/>\r\n     <g id=\"text_1\">\r\n      <!-- 0.22 -->\r\n      <defs>\r\n       <path d=\"M 4.15625 35.296875 \r\nQ 4.15625 48 6.765625 55.734375 \r\nQ 9.375 63.484375 14.515625 67.671875 \r\nQ 19.671875 71.875 27.484375 71.875 \r\nQ 33.25 71.875 37.59375 69.546875 \r\nQ 41.9375 67.234375 44.765625 62.859375 \r\nQ 47.609375 58.5 49.21875 52.21875 \r\nQ 50.828125 45.953125 50.828125 35.296875 \r\nQ 50.828125 22.703125 48.234375 14.96875 \r\nQ 45.65625 7.234375 40.5 3 \r\nQ 35.359375 -1.21875 27.484375 -1.21875 \r\nQ 17.140625 -1.21875 11.234375 6.203125 \r\nQ 4.15625 15.140625 4.15625 35.296875 \r\nz\r\nM 13.1875 35.296875 \r\nQ 13.1875 17.671875 17.3125 11.828125 \r\nQ 21.4375 6 27.484375 6 \r\nQ 33.546875 6 37.671875 11.859375 \r\nQ 41.796875 17.71875 41.796875 35.296875 \r\nQ 41.796875 52.984375 37.671875 58.78125 \r\nQ 33.546875 64.59375 27.390625 64.59375 \r\nQ 21.34375 64.59375 17.71875 59.46875 \r\nQ 13.1875 52.9375 13.1875 35.296875 \r\nz\r\n\" id=\"ArialMT-48\"/>\r\n       <path d=\"M 9.078125 0 \r\nL 9.078125 10.015625 \r\nL 19.09375 10.015625 \r\nL 19.09375 0 \r\nz\r\n\" id=\"ArialMT-46\"/>\r\n       <path d=\"M 50.34375 8.453125 \r\nL 50.34375 0 \r\nL 3.03125 0 \r\nQ 2.9375 3.171875 4.046875 6.109375 \r\nQ 5.859375 10.9375 9.828125 15.625 \r\nQ 13.8125 20.3125 21.34375 26.46875 \r\nQ 33.015625 36.03125 37.109375 41.625 \r\nQ 41.21875 47.21875 41.21875 52.203125 \r\nQ 41.21875 57.421875 37.46875 61 \r\nQ 33.734375 64.59375 27.734375 64.59375 \r\nQ 21.390625 64.59375 17.578125 60.78125 \r\nQ 13.765625 56.984375 13.71875 50.25 \r\nL 4.6875 51.171875 \r\nQ 5.609375 61.28125 11.65625 66.578125 \r\nQ 17.71875 71.875 27.9375 71.875 \r\nQ 38.234375 71.875 44.234375 66.15625 \r\nQ 50.25 60.453125 50.25 52 \r\nQ 50.25 47.703125 48.484375 43.546875 \r\nQ 46.734375 39.40625 42.65625 34.8125 \r\nQ 38.578125 30.21875 29.109375 22.21875 \r\nQ 21.1875 15.578125 18.9375 13.203125 \r\nQ 16.703125 10.84375 15.234375 8.453125 \r\nz\r\n\" id=\"ArialMT-50\"/>\r\n      </defs>\r\n      <g style=\"fill:#555555;\" transform=\"translate(80.828875 342.117813)scale(0.1 -0.1)\">\r\n       <use xlink:href=\"#ArialMT-48\"/>\r\n       <use x=\"55.615234\" xlink:href=\"#ArialMT-46\"/>\r\n       <use x=\"83.398438\" xlink:href=\"#ArialMT-50\"/>\r\n       <use x=\"139.013672\" xlink:href=\"#ArialMT-50\"/>\r\n      </g>\r\n     </g>\r\n    </g>\r\n    <g id=\"xtick_2\">\r\n     <g id=\"line2d_3\">\r\n      <path clip-path=\"url(#pf75179f0ea)\" d=\"M 147.027679 327.96 \r\nL 147.027679 7.2 \r\n\" style=\"fill:none;stroke:#ffffff;\"/>\r\n     </g>\r\n     <g id=\"line2d_4\"/>\r\n     <g id=\"text_2\">\r\n      <!-- 0.24 -->\r\n      <defs>\r\n       <path d=\"M 32.328125 0 \r\nL 32.328125 17.140625 \r\nL 1.265625 17.140625 \r\nL 1.265625 25.203125 \r\nL 33.9375 71.578125 \r\nL 41.109375 71.578125 \r\nL 41.109375 25.203125 \r\nL 50.78125 25.203125 \r\nL 50.78125 17.140625 \r\nL 41.109375 17.140625 \r\nL 41.109375 0 \r\nz\r\nM 32.328125 25.203125 \r\nL 32.328125 57.46875 \r\nL 9.90625 25.203125 \r\nz\r\n\" id=\"ArialMT-52\"/>\r\n      </defs>\r\n      <g style=\"fill:#555555;\" transform=\"translate(137.29721 342.117813)scale(0.1 -0.1)\">\r\n       <use xlink:href=\"#ArialMT-48\"/>\r\n       <use x=\"55.615234\" xlink:href=\"#ArialMT-46\"/>\r\n       <use x=\"83.398438\" xlink:href=\"#ArialMT-50\"/>\r\n       <use x=\"139.013672\" xlink:href=\"#ArialMT-52\"/>\r\n      </g>\r\n     </g>\r\n    </g>\r\n    <g id=\"xtick_3\">\r\n     <g id=\"line2d_5\">\r\n      <path clip-path=\"url(#pf75179f0ea)\" d=\"M 203.496014 327.96 \r\nL 203.496014 7.2 \r\n\" style=\"fill:none;stroke:#ffffff;\"/>\r\n     </g>\r\n     <g id=\"line2d_6\"/>\r\n     <g id=\"text_3\">\r\n      <!-- 0.26 -->\r\n      <defs>\r\n       <path d=\"M 49.75 54.046875 \r\nL 41.015625 53.375 \r\nQ 39.84375 58.546875 37.703125 60.890625 \r\nQ 34.125 64.65625 28.90625 64.65625 \r\nQ 24.703125 64.65625 21.53125 62.3125 \r\nQ 17.390625 59.28125 14.984375 53.46875 \r\nQ 12.59375 47.65625 12.5 36.921875 \r\nQ 15.671875 41.75 20.265625 44.09375 \r\nQ 24.859375 46.4375 29.890625 46.4375 \r\nQ 38.671875 46.4375 44.84375 39.96875 \r\nQ 51.03125 33.5 51.03125 23.25 \r\nQ 51.03125 16.5 48.125 10.71875 \r\nQ 45.21875 4.9375 40.140625 1.859375 \r\nQ 35.0625 -1.21875 28.609375 -1.21875 \r\nQ 17.625 -1.21875 10.6875 6.859375 \r\nQ 3.765625 14.9375 3.765625 33.5 \r\nQ 3.765625 54.25 11.421875 63.671875 \r\nQ 18.109375 71.875 29.4375 71.875 \r\nQ 37.890625 71.875 43.28125 67.140625 \r\nQ 48.6875 62.40625 49.75 54.046875 \r\nz\r\nM 13.875 23.1875 \r\nQ 13.875 18.65625 15.796875 14.5 \r\nQ 17.71875 10.359375 21.1875 8.171875 \r\nQ 24.65625 6 28.46875 6 \r\nQ 34.03125 6 38.03125 10.484375 \r\nQ 42.046875 14.984375 42.046875 22.703125 \r\nQ 42.046875 30.125 38.078125 34.390625 \r\nQ 34.125 38.671875 28.125 38.671875 \r\nQ 22.171875 38.671875 18.015625 34.390625 \r\nQ 13.875 30.125 13.875 23.1875 \r\nz\r\n\" id=\"ArialMT-54\"/>\r\n      </defs>\r\n      <g style=\"fill:#555555;\" transform=\"translate(193.765546 342.117813)scale(0.1 -0.1)\">\r\n       <use xlink:href=\"#ArialMT-48\"/>\r\n       <use x=\"55.615234\" xlink:href=\"#ArialMT-46\"/>\r\n       <use x=\"83.398438\" xlink:href=\"#ArialMT-50\"/>\r\n       <use x=\"139.013672\" xlink:href=\"#ArialMT-54\"/>\r\n      </g>\r\n     </g>\r\n    </g>\r\n    <g id=\"xtick_4\">\r\n     <g id=\"line2d_7\">\r\n      <path clip-path=\"url(#pf75179f0ea)\" d=\"M 259.96435 327.96 \r\nL 259.96435 7.2 \r\n\" style=\"fill:none;stroke:#ffffff;\"/>\r\n     </g>\r\n     <g id=\"line2d_8\"/>\r\n     <g id=\"text_4\">\r\n      <!-- 0.28 -->\r\n      <defs>\r\n       <path d=\"M 17.671875 38.8125 \r\nQ 12.203125 40.828125 9.5625 44.53125 \r\nQ 6.9375 48.25 6.9375 53.421875 \r\nQ 6.9375 61.234375 12.546875 66.546875 \r\nQ 18.171875 71.875 27.484375 71.875 \r\nQ 36.859375 71.875 42.578125 66.421875 \r\nQ 48.296875 60.984375 48.296875 53.171875 \r\nQ 48.296875 48.1875 45.671875 44.5 \r\nQ 43.0625 40.828125 37.75 38.8125 \r\nQ 44.34375 36.671875 47.78125 31.875 \r\nQ 51.21875 27.09375 51.21875 20.453125 \r\nQ 51.21875 11.28125 44.71875 5.03125 \r\nQ 38.234375 -1.21875 27.640625 -1.21875 \r\nQ 17.046875 -1.21875 10.546875 5.046875 \r\nQ 4.046875 11.328125 4.046875 20.703125 \r\nQ 4.046875 27.6875 7.59375 32.390625 \r\nQ 11.140625 37.109375 17.671875 38.8125 \r\nz\r\nM 15.921875 53.71875 \r\nQ 15.921875 48.640625 19.1875 45.40625 \r\nQ 22.46875 42.1875 27.6875 42.1875 \r\nQ 32.765625 42.1875 36.015625 45.375 \r\nQ 39.265625 48.578125 39.265625 53.21875 \r\nQ 39.265625 58.0625 35.90625 61.359375 \r\nQ 32.5625 64.65625 27.59375 64.65625 \r\nQ 22.5625 64.65625 19.234375 61.421875 \r\nQ 15.921875 58.203125 15.921875 53.71875 \r\nz\r\nM 13.09375 20.65625 \r\nQ 13.09375 16.890625 14.875 13.375 \r\nQ 16.65625 9.859375 20.171875 7.921875 \r\nQ 23.6875 6 27.734375 6 \r\nQ 34.03125 6 38.125 10.046875 \r\nQ 42.234375 14.109375 42.234375 20.359375 \r\nQ 42.234375 26.703125 38.015625 30.859375 \r\nQ 33.796875 35.015625 27.4375 35.015625 \r\nQ 21.234375 35.015625 17.15625 30.90625 \r\nQ 13.09375 26.8125 13.09375 20.65625 \r\nz\r\n\" id=\"ArialMT-56\"/>\r\n      </defs>\r\n      <g style=\"fill:#555555;\" transform=\"translate(250.233881 342.117813)scale(0.1 -0.1)\">\r\n       <use xlink:href=\"#ArialMT-48\"/>\r\n       <use x=\"55.615234\" xlink:href=\"#ArialMT-46\"/>\r\n       <use x=\"83.398438\" xlink:href=\"#ArialMT-50\"/>\r\n       <use x=\"139.013672\" xlink:href=\"#ArialMT-56\"/>\r\n      </g>\r\n     </g>\r\n    </g>\r\n    <g id=\"xtick_5\">\r\n     <g id=\"line2d_9\">\r\n      <path clip-path=\"url(#pf75179f0ea)\" d=\"M 316.432685 327.96 \r\nL 316.432685 7.2 \r\n\" style=\"fill:none;stroke:#ffffff;\"/>\r\n     </g>\r\n     <g id=\"line2d_10\"/>\r\n     <g id=\"text_5\">\r\n      <!-- 0.30 -->\r\n      <defs>\r\n       <path d=\"M 4.203125 18.890625 \r\nL 12.984375 20.0625 \r\nQ 14.5 12.59375 18.140625 9.296875 \r\nQ 21.78125 6 27 6 \r\nQ 33.203125 6 37.46875 10.296875 \r\nQ 41.75 14.59375 41.75 20.953125 \r\nQ 41.75 27 37.796875 30.921875 \r\nQ 33.84375 34.859375 27.734375 34.859375 \r\nQ 25.25 34.859375 21.53125 33.890625 \r\nL 22.515625 41.609375 \r\nQ 23.390625 41.5 23.921875 41.5 \r\nQ 29.546875 41.5 34.03125 44.421875 \r\nQ 38.53125 47.359375 38.53125 53.46875 \r\nQ 38.53125 58.296875 35.25 61.46875 \r\nQ 31.984375 64.65625 26.8125 64.65625 \r\nQ 21.6875 64.65625 18.265625 61.421875 \r\nQ 14.84375 58.203125 13.875 51.765625 \r\nL 5.078125 53.328125 \r\nQ 6.6875 62.15625 12.390625 67.015625 \r\nQ 18.109375 71.875 26.609375 71.875 \r\nQ 32.46875 71.875 37.390625 69.359375 \r\nQ 42.328125 66.84375 44.9375 62.5 \r\nQ 47.5625 58.15625 47.5625 53.265625 \r\nQ 47.5625 48.640625 45.0625 44.828125 \r\nQ 42.578125 41.015625 37.703125 38.765625 \r\nQ 44.046875 37.3125 47.5625 32.6875 \r\nQ 51.078125 28.078125 51.078125 21.140625 \r\nQ 51.078125 11.765625 44.234375 5.25 \r\nQ 37.40625 -1.265625 26.953125 -1.265625 \r\nQ 17.53125 -1.265625 11.296875 4.34375 \r\nQ 5.078125 9.96875 4.203125 18.890625 \r\nz\r\n\" id=\"ArialMT-51\"/>\r\n      </defs>\r\n      <g style=\"fill:#555555;\" transform=\"translate(306.702217 342.117813)scale(0.1 -0.1)\">\r\n       <use xlink:href=\"#ArialMT-48\"/>\r\n       <use x=\"55.615234\" xlink:href=\"#ArialMT-46\"/>\r\n       <use x=\"83.398438\" xlink:href=\"#ArialMT-51\"/>\r\n       <use x=\"139.013672\" xlink:href=\"#ArialMT-48\"/>\r\n      </g>\r\n     </g>\r\n    </g>\r\n    <g id=\"xtick_6\">\r\n     <g id=\"line2d_11\">\r\n      <path clip-path=\"url(#pf75179f0ea)\" d=\"M 372.901021 327.96 \r\nL 372.901021 7.2 \r\n\" style=\"fill:none;stroke:#ffffff;\"/>\r\n     </g>\r\n     <g id=\"line2d_12\"/>\r\n     <g id=\"text_6\">\r\n      <!-- 0.32 -->\r\n      <g style=\"fill:#555555;\" transform=\"translate(363.170552 342.117813)scale(0.1 -0.1)\">\r\n       <use xlink:href=\"#ArialMT-48\"/>\r\n       <use x=\"55.615234\" xlink:href=\"#ArialMT-46\"/>\r\n       <use x=\"83.398438\" xlink:href=\"#ArialMT-51\"/>\r\n       <use x=\"139.013672\" xlink:href=\"#ArialMT-50\"/>\r\n      </g>\r\n     </g>\r\n    </g>\r\n    <g id=\"xtick_7\">\r\n     <g id=\"line2d_13\">\r\n      <path clip-path=\"url(#pf75179f0ea)\" d=\"M 429.369356 327.96 \r\nL 429.369356 7.2 \r\n\" style=\"fill:none;stroke:#ffffff;\"/>\r\n     </g>\r\n     <g id=\"line2d_14\"/>\r\n     <g id=\"text_7\">\r\n      <!-- 0.34 -->\r\n      <g style=\"fill:#555555;\" transform=\"translate(419.638888 342.117813)scale(0.1 -0.1)\">\r\n       <use xlink:href=\"#ArialMT-48\"/>\r\n       <use x=\"55.615234\" xlink:href=\"#ArialMT-46\"/>\r\n       <use x=\"83.398438\" xlink:href=\"#ArialMT-51\"/>\r\n       <use x=\"139.013672\" xlink:href=\"#ArialMT-52\"/>\r\n      </g>\r\n     </g>\r\n    </g>\r\n    <g id=\"xtick_8\">\r\n     <g id=\"line2d_15\">\r\n      <path clip-path=\"url(#pf75179f0ea)\" d=\"M 485.837692 327.96 \r\nL 485.837692 7.2 \r\n\" style=\"fill:none;stroke:#ffffff;\"/>\r\n     </g>\r\n     <g id=\"line2d_16\"/>\r\n     <g id=\"text_8\">\r\n      <!-- 0.36 -->\r\n      <g style=\"fill:#555555;\" transform=\"translate(476.107223 342.117813)scale(0.1 -0.1)\">\r\n       <use xlink:href=\"#ArialMT-48\"/>\r\n       <use x=\"55.615234\" xlink:href=\"#ArialMT-46\"/>\r\n       <use x=\"83.398438\" xlink:href=\"#ArialMT-51\"/>\r\n       <use x=\"139.013672\" xlink:href=\"#ArialMT-54\"/>\r\n      </g>\r\n     </g>\r\n    </g>\r\n    <g id=\"xtick_9\">\r\n     <g id=\"line2d_17\">\r\n      <path clip-path=\"url(#pf75179f0ea)\" d=\"M 542.306027 327.96 \r\nL 542.306027 7.2 \r\n\" style=\"fill:none;stroke:#ffffff;\"/>\r\n     </g>\r\n     <g id=\"line2d_18\"/>\r\n     <g id=\"text_9\">\r\n      <!-- 0.38 -->\r\n      <g style=\"fill:#555555;\" transform=\"translate(532.575559 342.117813)scale(0.1 -0.1)\">\r\n       <use xlink:href=\"#ArialMT-48\"/>\r\n       <use x=\"55.615234\" xlink:href=\"#ArialMT-46\"/>\r\n       <use x=\"83.398438\" xlink:href=\"#ArialMT-51\"/>\r\n       <use x=\"139.013672\" xlink:href=\"#ArialMT-56\"/>\r\n      </g>\r\n     </g>\r\n    </g>\r\n    <g id=\"text_10\">\r\n     <!-- $\\hat y$ -->\r\n     <defs>\r\n      <path d=\"M -28.609375 79.984375 \r\nL -21.390625 79.984375 \r\nL -9.421875 61.625 \r\nL -16.21875 61.625 \r\nL -25 73.578125 \r\nL -33.796875 61.625 \r\nL -40.578125 61.625 \r\nz\r\nM -25 56 \r\nz\r\n\" id=\"DejaVuSans-770\"/>\r\n      <path d=\"M 24.8125 -5.078125 \r\nQ 18.5625 -15.578125 14.625 -18.1875 \r\nQ 10.6875 -20.796875 4.59375 -20.796875 \r\nL -2.484375 -20.796875 \r\nL -0.984375 -13.28125 \r\nL 4.203125 -13.28125 \r\nQ 7.953125 -13.28125 10.59375 -11.234375 \r\nQ 13.234375 -9.1875 16.5 -3.21875 \r\nL 19.28125 2 \r\nL 7.171875 54.6875 \r\nL 16.703125 54.6875 \r\nL 25.78125 12.796875 \r\nL 50.875 54.6875 \r\nL 60.296875 54.6875 \r\nz\r\n\" id=\"DejaVuSans-Oblique-121\"/>\r\n     </defs>\r\n     <g style=\"fill:#555555;\" transform=\"translate(295.695 359.145313)scale(0.12 -0.12)\">\r\n      <use transform=\"translate(64.273438 12.015625)\" xlink:href=\"#DejaVuSans-770\"/>\r\n      <use transform=\"translate(0 0.828125)\" xlink:href=\"#DejaVuSans-Oblique-121\"/>\r\n     </g>\r\n    </g>\r\n   </g>\r\n   <g id=\"matplotlib.axis_2\">\r\n    <g id=\"ytick_1\">\r\n     <g id=\"line2d_19\">\r\n      <path clip-path=\"url(#pf75179f0ea)\" d=\"M 48.915 309.018551 \r\nL 550.035 309.018551 \r\n\" style=\"fill:none;stroke:#ffffff;\"/>\r\n     </g>\r\n     <g id=\"line2d_20\"/>\r\n     <g id=\"text_11\">\r\n      <!-- −2.0 -->\r\n      <defs>\r\n       <path d=\"M 52.828125 31.203125 \r\nL 5.5625 31.203125 \r\nL 5.5625 39.40625 \r\nL 52.828125 39.40625 \r\nz\r\n\" id=\"ArialMT-8722\"/>\r\n      </defs>\r\n      <g style=\"fill:#555555;\" transform=\"translate(22.174375 312.597457)scale(0.1 -0.1)\">\r\n       <use xlink:href=\"#ArialMT-8722\"/>\r\n       <use x=\"58.398438\" xlink:href=\"#ArialMT-50\"/>\r\n       <use x=\"114.013672\" xlink:href=\"#ArialMT-46\"/>\r\n       <use x=\"141.796875\" xlink:href=\"#ArialMT-48\"/>\r\n      </g>\r\n     </g>\r\n    </g>\r\n    <g id=\"ytick_2\">\r\n     <g id=\"line2d_21\">\r\n      <path clip-path=\"url(#pf75179f0ea)\" d=\"M 48.915 270.2715 \r\nL 550.035 270.2715 \r\n\" style=\"fill:none;stroke:#ffffff;\"/>\r\n     </g>\r\n     <g id=\"line2d_22\"/>\r\n     <g id=\"text_12\">\r\n      <!-- −1.5 -->\r\n      <defs>\r\n       <path d=\"M 37.25 0 \r\nL 28.46875 0 \r\nL 28.46875 56 \r\nQ 25.296875 52.984375 20.140625 49.953125 \r\nQ 14.984375 46.921875 10.890625 45.40625 \r\nL 10.890625 53.90625 \r\nQ 18.265625 57.375 23.78125 62.296875 \r\nQ 29.296875 67.234375 31.59375 71.875 \r\nL 37.25 71.875 \r\nz\r\n\" id=\"ArialMT-49\"/>\r\n       <path d=\"M 4.15625 18.75 \r\nL 13.375 19.53125 \r\nQ 14.40625 12.796875 18.140625 9.390625 \r\nQ 21.875 6 27.15625 6 \r\nQ 33.5 6 37.890625 10.78125 \r\nQ 42.28125 15.578125 42.28125 23.484375 \r\nQ 42.28125 31 38.0625 35.34375 \r\nQ 33.84375 39.703125 27 39.703125 \r\nQ 22.75 39.703125 19.328125 37.765625 \r\nQ 15.921875 35.84375 13.96875 32.765625 \r\nL 5.71875 33.84375 \r\nL 12.640625 70.609375 \r\nL 48.25 70.609375 \r\nL 48.25 62.203125 \r\nL 19.671875 62.203125 \r\nL 15.828125 42.96875 \r\nQ 22.265625 47.46875 29.34375 47.46875 \r\nQ 38.71875 47.46875 45.15625 40.96875 \r\nQ 51.609375 34.46875 51.609375 24.265625 \r\nQ 51.609375 14.546875 45.953125 7.46875 \r\nQ 39.0625 -1.21875 27.15625 -1.21875 \r\nQ 17.390625 -1.21875 11.203125 4.25 \r\nQ 5.03125 9.71875 4.15625 18.75 \r\nz\r\n\" id=\"ArialMT-53\"/>\r\n      </defs>\r\n      <g style=\"fill:#555555;\" transform=\"translate(22.174375 273.850406)scale(0.1 -0.1)\">\r\n       <use xlink:href=\"#ArialMT-8722\"/>\r\n       <use x=\"58.398438\" xlink:href=\"#ArialMT-49\"/>\r\n       <use x=\"114.013672\" xlink:href=\"#ArialMT-46\"/>\r\n       <use x=\"141.796875\" xlink:href=\"#ArialMT-53\"/>\r\n      </g>\r\n     </g>\r\n    </g>\r\n    <g id=\"ytick_3\">\r\n     <g id=\"line2d_23\">\r\n      <path clip-path=\"url(#pf75179f0ea)\" d=\"M 48.915 231.524448 \r\nL 550.035 231.524448 \r\n\" style=\"fill:none;stroke:#ffffff;\"/>\r\n     </g>\r\n     <g id=\"line2d_24\"/>\r\n     <g id=\"text_13\">\r\n      <!-- −1.0 -->\r\n      <g style=\"fill:#555555;\" transform=\"translate(22.174375 235.103355)scale(0.1 -0.1)\">\r\n       <use xlink:href=\"#ArialMT-8722\"/>\r\n       <use x=\"58.398438\" xlink:href=\"#ArialMT-49\"/>\r\n       <use x=\"114.013672\" xlink:href=\"#ArialMT-46\"/>\r\n       <use x=\"141.796875\" xlink:href=\"#ArialMT-48\"/>\r\n      </g>\r\n     </g>\r\n    </g>\r\n    <g id=\"ytick_4\">\r\n     <g id=\"line2d_25\">\r\n      <path clip-path=\"url(#pf75179f0ea)\" d=\"M 48.915 192.777397 \r\nL 550.035 192.777397 \r\n\" style=\"fill:none;stroke:#ffffff;\"/>\r\n     </g>\r\n     <g id=\"line2d_26\"/>\r\n     <g id=\"text_14\">\r\n      <!-- −0.5 -->\r\n      <g style=\"fill:#555555;\" transform=\"translate(22.174375 196.356303)scale(0.1 -0.1)\">\r\n       <use xlink:href=\"#ArialMT-8722\"/>\r\n       <use x=\"58.398438\" xlink:href=\"#ArialMT-48\"/>\r\n       <use x=\"114.013672\" xlink:href=\"#ArialMT-46\"/>\r\n       <use x=\"141.796875\" xlink:href=\"#ArialMT-53\"/>\r\n      </g>\r\n     </g>\r\n    </g>\r\n    <g id=\"ytick_5\">\r\n     <g id=\"line2d_27\">\r\n      <path clip-path=\"url(#pf75179f0ea)\" d=\"M 48.915 154.030346 \r\nL 550.035 154.030346 \r\n\" style=\"fill:none;stroke:#ffffff;\"/>\r\n     </g>\r\n     <g id=\"line2d_28\"/>\r\n     <g id=\"text_15\">\r\n      <!-- 0.0 -->\r\n      <g style=\"fill:#555555;\" transform=\"translate(28.015 157.609252)scale(0.1 -0.1)\">\r\n       <use xlink:href=\"#ArialMT-48\"/>\r\n       <use x=\"55.615234\" xlink:href=\"#ArialMT-46\"/>\r\n       <use x=\"83.398438\" xlink:href=\"#ArialMT-48\"/>\r\n      </g>\r\n     </g>\r\n    </g>\r\n    <g id=\"ytick_6\">\r\n     <g id=\"line2d_29\">\r\n      <path clip-path=\"url(#pf75179f0ea)\" d=\"M 48.915 115.283295 \r\nL 550.035 115.283295 \r\n\" style=\"fill:none;stroke:#ffffff;\"/>\r\n     </g>\r\n     <g id=\"line2d_30\"/>\r\n     <g id=\"text_16\">\r\n      <!-- 0.5 -->\r\n      <g style=\"fill:#555555;\" transform=\"translate(28.015 118.862201)scale(0.1 -0.1)\">\r\n       <use xlink:href=\"#ArialMT-48\"/>\r\n       <use x=\"55.615234\" xlink:href=\"#ArialMT-46\"/>\r\n       <use x=\"83.398438\" xlink:href=\"#ArialMT-53\"/>\r\n      </g>\r\n     </g>\r\n    </g>\r\n    <g id=\"ytick_7\">\r\n     <g id=\"line2d_31\">\r\n      <path clip-path=\"url(#pf75179f0ea)\" d=\"M 48.915 76.536244 \r\nL 550.035 76.536244 \r\n\" style=\"fill:none;stroke:#ffffff;\"/>\r\n     </g>\r\n     <g id=\"line2d_32\"/>\r\n     <g id=\"text_17\">\r\n      <!-- 1.0 -->\r\n      <g style=\"fill:#555555;\" transform=\"translate(28.015 80.11515)scale(0.1 -0.1)\">\r\n       <use xlink:href=\"#ArialMT-49\"/>\r\n       <use x=\"55.615234\" xlink:href=\"#ArialMT-46\"/>\r\n       <use x=\"83.398438\" xlink:href=\"#ArialMT-48\"/>\r\n      </g>\r\n     </g>\r\n    </g>\r\n    <g id=\"ytick_8\">\r\n     <g id=\"line2d_33\">\r\n      <path clip-path=\"url(#pf75179f0ea)\" d=\"M 48.915 37.789192 \r\nL 550.035 37.789192 \r\n\" style=\"fill:none;stroke:#ffffff;\"/>\r\n     </g>\r\n     <g id=\"line2d_34\"/>\r\n     <g id=\"text_18\">\r\n      <!-- 1.5 -->\r\n      <g style=\"fill:#555555;\" transform=\"translate(28.015 41.368099)scale(0.1 -0.1)\">\r\n       <use xlink:href=\"#ArialMT-49\"/>\r\n       <use x=\"55.615234\" xlink:href=\"#ArialMT-46\"/>\r\n       <use x=\"83.398438\" xlink:href=\"#ArialMT-53\"/>\r\n      </g>\r\n     </g>\r\n    </g>\r\n    <g id=\"text_19\">\r\n     <!-- Residuals -->\r\n     <defs>\r\n      <path d=\"M 7.859375 0 \r\nL 7.859375 71.578125 \r\nL 39.59375 71.578125 \r\nQ 49.171875 71.578125 54.140625 69.640625 \r\nQ 59.125 67.71875 62.109375 62.828125 \r\nQ 65.09375 57.953125 65.09375 52.046875 \r\nQ 65.09375 44.4375 60.15625 39.203125 \r\nQ 55.21875 33.984375 44.921875 32.5625 \r\nQ 48.6875 30.765625 50.640625 29 \r\nQ 54.78125 25.203125 58.5 19.484375 \r\nL 70.953125 0 \r\nL 59.03125 0 \r\nL 49.5625 14.890625 \r\nQ 45.40625 21.34375 42.71875 24.75 \r\nQ 40.046875 28.171875 37.921875 29.53125 \r\nQ 35.796875 30.90625 33.59375 31.453125 \r\nQ 31.984375 31.78125 28.328125 31.78125 \r\nL 17.328125 31.78125 \r\nL 17.328125 0 \r\nz\r\nM 17.328125 39.984375 \r\nL 37.703125 39.984375 \r\nQ 44.1875 39.984375 47.84375 41.328125 \r\nQ 51.515625 42.671875 53.421875 45.625 \r\nQ 55.328125 48.578125 55.328125 52.046875 \r\nQ 55.328125 57.125 51.640625 60.390625 \r\nQ 47.953125 63.671875 39.984375 63.671875 \r\nL 17.328125 63.671875 \r\nz\r\n\" id=\"ArialMT-82\"/>\r\n      <path d=\"M 42.09375 16.703125 \r\nL 51.171875 15.578125 \r\nQ 49.03125 7.625 43.21875 3.21875 \r\nQ 37.40625 -1.171875 28.375 -1.171875 \r\nQ 17 -1.171875 10.328125 5.828125 \r\nQ 3.65625 12.84375 3.65625 25.484375 \r\nQ 3.65625 38.578125 10.390625 45.796875 \r\nQ 17.140625 53.03125 27.875 53.03125 \r\nQ 38.28125 53.03125 44.875 45.953125 \r\nQ 51.46875 38.875 51.46875 26.03125 \r\nQ 51.46875 25.25 51.421875 23.6875 \r\nL 12.75 23.6875 \r\nQ 13.234375 15.140625 17.578125 10.59375 \r\nQ 21.921875 6.0625 28.421875 6.0625 \r\nQ 33.25 6.0625 36.671875 8.59375 \r\nQ 40.09375 11.140625 42.09375 16.703125 \r\nz\r\nM 13.234375 30.90625 \r\nL 42.1875 30.90625 \r\nQ 41.609375 37.453125 38.875 40.71875 \r\nQ 34.671875 45.796875 27.984375 45.796875 \r\nQ 21.921875 45.796875 17.796875 41.75 \r\nQ 13.671875 37.703125 13.234375 30.90625 \r\nz\r\n\" id=\"ArialMT-101\"/>\r\n      <path d=\"M 3.078125 15.484375 \r\nL 11.765625 16.84375 \r\nQ 12.5 11.625 15.84375 8.84375 \r\nQ 19.1875 6.0625 25.203125 6.0625 \r\nQ 31.25 6.0625 34.171875 8.515625 \r\nQ 37.109375 10.984375 37.109375 14.3125 \r\nQ 37.109375 17.28125 34.515625 19 \r\nQ 32.71875 20.171875 25.53125 21.96875 \r\nQ 15.875 24.421875 12.140625 26.203125 \r\nQ 8.40625 27.984375 6.46875 31.125 \r\nQ 4.546875 34.28125 4.546875 38.09375 \r\nQ 4.546875 41.546875 6.125 44.5 \r\nQ 7.71875 47.46875 10.453125 49.421875 \r\nQ 12.5 50.921875 16.03125 51.96875 \r\nQ 19.578125 53.03125 23.640625 53.03125 \r\nQ 29.734375 53.03125 34.34375 51.265625 \r\nQ 38.96875 49.515625 41.15625 46.5 \r\nQ 43.359375 43.5 44.1875 38.484375 \r\nL 35.59375 37.3125 \r\nQ 35.015625 41.3125 32.203125 43.546875 \r\nQ 29.390625 45.796875 24.265625 45.796875 \r\nQ 18.21875 45.796875 15.625 43.796875 \r\nQ 13.03125 41.796875 13.03125 39.109375 \r\nQ 13.03125 37.40625 14.109375 36.03125 \r\nQ 15.1875 34.625 17.484375 33.6875 \r\nQ 18.796875 33.203125 25.25 31.453125 \r\nQ 34.578125 28.953125 38.25 27.359375 \r\nQ 41.9375 25.78125 44.03125 22.75 \r\nQ 46.140625 19.734375 46.140625 15.234375 \r\nQ 46.140625 10.84375 43.578125 6.953125 \r\nQ 41.015625 3.078125 36.171875 0.953125 \r\nQ 31.34375 -1.171875 25.25 -1.171875 \r\nQ 15.140625 -1.171875 9.84375 3.03125 \r\nQ 4.546875 7.234375 3.078125 15.484375 \r\nz\r\n\" id=\"ArialMT-115\"/>\r\n      <path d=\"M 6.640625 61.46875 \r\nL 6.640625 71.578125 \r\nL 15.4375 71.578125 \r\nL 15.4375 61.46875 \r\nz\r\nM 6.640625 0 \r\nL 6.640625 51.859375 \r\nL 15.4375 51.859375 \r\nL 15.4375 0 \r\nz\r\n\" id=\"ArialMT-105\"/>\r\n      <path d=\"M 40.234375 0 \r\nL 40.234375 6.546875 \r\nQ 35.296875 -1.171875 25.734375 -1.171875 \r\nQ 19.53125 -1.171875 14.328125 2.25 \r\nQ 9.125 5.671875 6.265625 11.796875 \r\nQ 3.421875 17.921875 3.421875 25.875 \r\nQ 3.421875 33.640625 6 39.96875 \r\nQ 8.59375 46.296875 13.765625 49.65625 \r\nQ 18.953125 53.03125 25.34375 53.03125 \r\nQ 30.03125 53.03125 33.6875 51.046875 \r\nQ 37.359375 49.078125 39.65625 45.90625 \r\nL 39.65625 71.578125 \r\nL 48.390625 71.578125 \r\nL 48.390625 0 \r\nz\r\nM 12.453125 25.875 \r\nQ 12.453125 15.921875 16.640625 10.984375 \r\nQ 20.84375 6.0625 26.5625 6.0625 \r\nQ 32.328125 6.0625 36.34375 10.765625 \r\nQ 40.375 15.484375 40.375 25.140625 \r\nQ 40.375 35.796875 36.265625 40.765625 \r\nQ 32.171875 45.75 26.171875 45.75 \r\nQ 20.3125 45.75 16.375 40.96875 \r\nQ 12.453125 36.1875 12.453125 25.875 \r\nz\r\n\" id=\"ArialMT-100\"/>\r\n      <path d=\"M 40.578125 0 \r\nL 40.578125 7.625 \r\nQ 34.515625 -1.171875 24.125 -1.171875 \r\nQ 19.53125 -1.171875 15.546875 0.578125 \r\nQ 11.578125 2.34375 9.640625 5 \r\nQ 7.71875 7.671875 6.9375 11.53125 \r\nQ 6.390625 14.109375 6.390625 19.734375 \r\nL 6.390625 51.859375 \r\nL 15.1875 51.859375 \r\nL 15.1875 23.09375 \r\nQ 15.1875 16.21875 15.71875 13.8125 \r\nQ 16.546875 10.359375 19.234375 8.375 \r\nQ 21.921875 6.390625 25.875 6.390625 \r\nQ 29.828125 6.390625 33.296875 8.421875 \r\nQ 36.765625 10.453125 38.203125 13.9375 \r\nQ 39.65625 17.4375 39.65625 24.078125 \r\nL 39.65625 51.859375 \r\nL 48.4375 51.859375 \r\nL 48.4375 0 \r\nz\r\n\" id=\"ArialMT-117\"/>\r\n      <path d=\"M 40.4375 6.390625 \r\nQ 35.546875 2.25 31.03125 0.53125 \r\nQ 26.515625 -1.171875 21.34375 -1.171875 \r\nQ 12.796875 -1.171875 8.203125 3 \r\nQ 3.609375 7.171875 3.609375 13.671875 \r\nQ 3.609375 17.484375 5.34375 20.625 \r\nQ 7.078125 23.78125 9.890625 25.6875 \r\nQ 12.703125 27.59375 16.21875 28.5625 \r\nQ 18.796875 29.25 24.03125 29.890625 \r\nQ 34.671875 31.15625 39.703125 32.90625 \r\nQ 39.75 34.71875 39.75 35.203125 \r\nQ 39.75 40.578125 37.25 42.78125 \r\nQ 33.890625 45.75 27.25 45.75 \r\nQ 21.046875 45.75 18.09375 43.578125 \r\nQ 15.140625 41.40625 13.71875 35.890625 \r\nL 5.125 37.0625 \r\nQ 6.296875 42.578125 8.984375 45.96875 \r\nQ 11.671875 49.359375 16.75 51.1875 \r\nQ 21.828125 53.03125 28.515625 53.03125 \r\nQ 35.15625 53.03125 39.296875 51.46875 \r\nQ 43.453125 49.90625 45.40625 47.53125 \r\nQ 47.359375 45.171875 48.140625 41.546875 \r\nQ 48.578125 39.3125 48.578125 33.453125 \r\nL 48.578125 21.734375 \r\nQ 48.578125 9.46875 49.140625 6.21875 \r\nQ 49.703125 2.984375 51.375 0 \r\nL 42.1875 0 \r\nQ 40.828125 2.734375 40.4375 6.390625 \r\nz\r\nM 39.703125 26.03125 \r\nQ 34.90625 24.078125 25.34375 22.703125 \r\nQ 19.921875 21.921875 17.671875 20.9375 \r\nQ 15.4375 19.96875 14.203125 18.09375 \r\nQ 12.984375 16.21875 12.984375 13.921875 \r\nQ 12.984375 10.40625 15.640625 8.0625 \r\nQ 18.3125 5.71875 23.4375 5.71875 \r\nQ 28.515625 5.71875 32.46875 7.9375 \r\nQ 36.421875 10.15625 38.28125 14.015625 \r\nQ 39.703125 17 39.703125 22.796875 \r\nz\r\n\" id=\"ArialMT-97\"/>\r\n      <path d=\"M 6.390625 0 \r\nL 6.390625 71.578125 \r\nL 15.1875 71.578125 \r\nL 15.1875 0 \r\nz\r\n\" id=\"ArialMT-108\"/>\r\n     </defs>\r\n     <g style=\"fill:#555555;\" transform=\"translate(15.789375 193.925625)rotate(-90)scale(0.12 -0.12)\">\r\n      <use xlink:href=\"#ArialMT-82\"/>\r\n      <use x=\"72.216797\" xlink:href=\"#ArialMT-101\"/>\r\n      <use x=\"127.832031\" xlink:href=\"#ArialMT-115\"/>\r\n      <use x=\"177.832031\" xlink:href=\"#ArialMT-105\"/>\r\n      <use x=\"200.048828\" xlink:href=\"#ArialMT-100\"/>\r\n      <use x=\"255.664062\" xlink:href=\"#ArialMT-117\"/>\r\n      <use x=\"311.279297\" xlink:href=\"#ArialMT-97\"/>\r\n      <use x=\"366.894531\" xlink:href=\"#ArialMT-108\"/>\r\n      <use x=\"389.111328\" xlink:href=\"#ArialMT-115\"/>\r\n     </g>\r\n    </g>\r\n   </g>\r\n   <g id=\"PathCollection_1\">\r\n    <defs>\r\n     <path d=\"M 0 3.5 \r\nC 0.928211 3.5 1.81853 3.131218 2.474874 2.474874 \r\nC 3.131218 1.81853 3.5 0.928211 3.5 0 \r\nC 3.5 -0.928211 3.131218 -1.81853 2.474874 -2.474874 \r\nC 1.81853 -3.131218 0.928211 -3.5 0 -3.5 \r\nC -0.928211 -3.5 -1.81853 -3.131218 -2.474874 -2.474874 \r\nC -3.131218 -1.81853 -3.5 -0.928211 -3.5 0 \r\nC -3.5 0.928211 -3.131218 1.81853 -2.474874 2.474874 \r\nC -1.81853 3.131218 -0.928211 3.5 0 3.5 \r\nz\r\n\" id=\"mdc35af42c3\" style=\"stroke:#e24a33;stroke-width:0.5;\"/>\r\n    </defs>\r\n    <g clip-path=\"url(#pf75179f0ea)\">\r\n     <use style=\"fill:#e24a33;stroke:#e24a33;stroke-width:0.5;\" x=\"395.684137\" xlink:href=\"#mdc35af42c3\" y=\"77.42367\"/>\r\n     <use style=\"fill:#e24a33;stroke:#e24a33;stroke-width:0.5;\" x=\"486.829635\" xlink:href=\"#mdc35af42c3\" y=\"312.534417\"/>\r\n     <use style=\"fill:#e24a33;stroke:#e24a33;stroke-width:0.5;\" x=\"355.175027\" xlink:href=\"#mdc35af42c3\" y=\"137.031391\"/>\r\n     <use style=\"fill:#e24a33;stroke:#e24a33;stroke-width:0.5;\" x=\"385.556859\" xlink:href=\"#mdc35af42c3\" y=\"257.777187\"/>\r\n     <use style=\"fill:#e24a33;stroke:#e24a33;stroke-width:0.5;\" x=\"426.06597\" xlink:href=\"#mdc35af42c3\" y=\"208.763354\"/>\r\n     <use style=\"fill:#e24a33;stroke:#e24a33;stroke-width:0.5;\" x=\"314.665916\" xlink:href=\"#mdc35af42c3\" y=\"229.667112\"/>\r\n     <use style=\"fill:#e24a33;stroke:#e24a33;stroke-width:0.5;\" x=\"253.902251\" xlink:href=\"#mdc35af42c3\" y=\"127.142389\"/>\r\n     <use style=\"fill:#e24a33;stroke:#e24a33;stroke-width:0.5;\" x=\"284.284084\" xlink:href=\"#mdc35af42c3\" y=\"69.661617\"/>\r\n     <use style=\"fill:#e24a33;stroke:#e24a33;stroke-width:0.5;\" x=\"426.06597\" xlink:href=\"#mdc35af42c3\" y=\"243.660863\"/>\r\n     <use style=\"fill:#e24a33;stroke:#e24a33;stroke-width:0.5;\" x=\"446.320525\" xlink:href=\"#mdc35af42c3\" y=\"45.601152\"/>\r\n     <use style=\"fill:#e24a33;stroke:#e24a33;stroke-width:0.5;\" x=\"355.175027\" xlink:href=\"#mdc35af42c3\" y=\"163.827693\"/>\r\n     <use style=\"fill:#e24a33;stroke:#e24a33;stroke-width:0.5;\" x=\"426.06597\" xlink:href=\"#mdc35af42c3\" y=\"160.779277\"/>\r\n     <use style=\"fill:#e24a33;stroke:#e24a33;stroke-width:0.5;\" x=\"334.920471\" xlink:href=\"#mdc35af42c3\" y=\"250.340007\"/>\r\n     <use style=\"fill:#e24a33;stroke:#e24a33;stroke-width:0.5;\" x=\"284.284084\" xlink:href=\"#mdc35af42c3\" y=\"187.440713\"/>\r\n     <use style=\"fill:#e24a33;stroke:#e24a33;stroke-width:0.5;\" x=\"264.029529\" xlink:href=\"#mdc35af42c3\" y=\"110.682534\"/>\r\n     <use style=\"fill:#e24a33;stroke:#e24a33;stroke-width:0.5;\" x=\"324.793194\" xlink:href=\"#mdc35af42c3\" y=\"140.919558\"/>\r\n     <use style=\"fill:#e24a33;stroke:#e24a33;stroke-width:0.5;\" x=\"355.175027\" xlink:href=\"#mdc35af42c3\" y=\"206.203241\"/>\r\n     <use style=\"fill:#e24a33;stroke:#e24a33;stroke-width:0.5;\" x=\"385.556859\" xlink:href=\"#mdc35af42c3\" y=\"269.617414\"/>\r\n     <use style=\"fill:#e24a33;stroke:#e24a33;stroke-width:0.5;\" x=\"274.156806\" xlink:href=\"#mdc35af42c3\" y=\"50.600792\"/>\r\n     <use style=\"fill:#e24a33;stroke:#e24a33;stroke-width:0.5;\" x=\"324.793194\" xlink:href=\"#mdc35af42c3\" y=\"104.775709\"/>\r\n     <use style=\"fill:#e24a33;stroke:#e24a33;stroke-width:0.5;\" x=\"284.284084\" xlink:href=\"#mdc35af42c3\" y=\"134.471278\"/>\r\n     <use style=\"fill:#e24a33;stroke:#e24a33;stroke-width:0.5;\" x=\"345.047749\" xlink:href=\"#mdc35af42c3\" y=\"24.495093\"/>\r\n     <use style=\"fill:#e24a33;stroke:#e24a33;stroke-width:0.5;\" x=\"486.829635\" xlink:href=\"#mdc35af42c3\" y=\"173.567547\"/>\r\n     <use style=\"fill:#e24a33;stroke:#e24a33;stroke-width:0.5;\" x=\"355.175027\" xlink:href=\"#mdc35af42c3\" y=\"269.766562\"/>\r\n     <use style=\"fill:#e24a33;stroke:#e24a33;stroke-width:0.5;\" x=\"395.684137\" xlink:href=\"#mdc35af42c3\" y=\"92.379746\"/>\r\n     <use style=\"fill:#e24a33;stroke:#e24a33;stroke-width:0.5;\" x=\"405.811414\" xlink:href=\"#mdc35af42c3\" y=\"130.758835\"/>\r\n     <use style=\"fill:#e24a33;stroke:#e24a33;stroke-width:0.5;\" x=\"274.156806\" xlink:href=\"#mdc35af42c3\" y=\"67.426377\"/>\r\n     <use style=\"fill:#e24a33;stroke:#e24a33;stroke-width:0.5;\" x=\"233.647696\" xlink:href=\"#mdc35af42c3\" y=\"246.059533\"/>\r\n     <use style=\"fill:#e24a33;stroke:#e24a33;stroke-width:0.5;\" x=\"274.156806\" xlink:href=\"#mdc35af42c3\" y=\"188.944492\"/>\r\n     <use style=\"fill:#e24a33;stroke:#e24a33;stroke-width:0.5;\" x=\"183.011308\" xlink:href=\"#mdc35af42c3\" y=\"236.129673\"/>\r\n     <use style=\"fill:#e24a33;stroke:#e24a33;stroke-width:0.5;\" x=\"213.393141\" xlink:href=\"#mdc35af42c3\" y=\"181.764751\"/>\r\n     <use style=\"fill:#e24a33;stroke:#e24a33;stroke-width:0.5;\" x=\"112.120365\" xlink:href=\"#mdc35af42c3\" y=\"122.645333\"/>\r\n     <use style=\"fill:#e24a33;stroke:#e24a33;stroke-width:0.5;\" x=\"426.06597\" xlink:href=\"#mdc35af42c3\" y=\"139.591504\"/>\r\n     <use style=\"fill:#e24a33;stroke:#e24a33;stroke-width:0.5;\" x=\"213.393141\" xlink:href=\"#mdc35af42c3\" y=\"220.401279\"/>\r\n     <use style=\"fill:#e24a33;stroke:#e24a33;stroke-width:0.5;\" x=\"436.193247\" xlink:href=\"#mdc35af42c3\" y=\"40.250063\"/>\r\n     <use style=\"fill:#e24a33;stroke:#e24a33;stroke-width:0.5;\" x=\"446.320525\" xlink:href=\"#mdc35af42c3\" y=\"125.990059\"/>\r\n     <use style=\"fill:#e24a33;stroke:#e24a33;stroke-width:0.5;\" x=\"355.175027\" xlink:href=\"#mdc35af42c3\" y=\"85.308296\"/>\r\n     <use style=\"fill:#e24a33;stroke:#e24a33;stroke-width:0.5;\" x=\"426.06597\" xlink:href=\"#mdc35af42c3\" y=\"112.795201\"/>\r\n     <use style=\"fill:#e24a33;stroke:#e24a33;stroke-width:0.5;\" x=\"345.047749\" xlink:href=\"#mdc35af42c3\" y=\"22.625583\"/>\r\n     <use style=\"fill:#e24a33;stroke:#e24a33;stroke-width:0.5;\" x=\"294.411361\" xlink:href=\"#mdc35af42c3\" y=\"134.837008\"/>\r\n     <use style=\"fill:#e24a33;stroke:#e24a33;stroke-width:0.5;\" x=\"314.665916\" xlink:href=\"#mdc35af42c3\" y=\"214.087866\"/>\r\n     <use style=\"fill:#e24a33;stroke:#e24a33;stroke-width:0.5;\" x=\"243.774973\" xlink:href=\"#mdc35af42c3\" y=\"250.164282\"/>\r\n     <use style=\"fill:#e24a33;stroke:#e24a33;stroke-width:0.5;\" x=\"385.556859\" xlink:href=\"#mdc35af42c3\" y=\"276.472282\"/>\r\n     <use style=\"fill:#e24a33;stroke:#e24a33;stroke-width:0.5;\" x=\"355.175027\" xlink:href=\"#mdc35af42c3\" y=\"138.9009\"/>\r\n     <use style=\"fill:#e24a33;stroke:#e24a33;stroke-width:0.5;\" x=\"253.902251\" xlink:href=\"#mdc35af42c3\" y=\"45.507142\"/>\r\n     <use style=\"fill:#e24a33;stroke:#e24a33;stroke-width:0.5;\" x=\"324.793194\" xlink:href=\"#mdc35af42c3\" y=\"202.61337\"/>\r\n     <use style=\"fill:#e24a33;stroke:#e24a33;stroke-width:0.5;\" x=\"284.284084\" xlink:href=\"#mdc35af42c3\" y=\"133.848108\"/>\r\n     <use style=\"fill:#e24a33;stroke:#e24a33;stroke-width:0.5;\" x=\"385.556859\" xlink:href=\"#mdc35af42c3\" y=\"27.204354\"/>\r\n    </g>\r\n   </g>\r\n   <g id=\"LineCollection_1\">\r\n    <path clip-path=\"url(#pf75179f0ea)\" d=\"M 71.693182 154.030346 \r\nL 527.256818 154.030346 \r\n\" style=\"fill:none;stroke:#008080;stroke-width:4;\"/>\r\n   </g>\r\n   <g id=\"patch_3\">\r\n    <path d=\"M 48.915 327.96 \r\nL 48.915 7.2 \r\n\" style=\"fill:none;stroke:#ffffff;stroke-linecap:square;stroke-linejoin:miter;\"/>\r\n   </g>\r\n   <g id=\"patch_4\">\r\n    <path d=\"M 550.035 327.96 \r\nL 550.035 7.2 \r\n\" style=\"fill:none;stroke:#ffffff;stroke-linecap:square;stroke-linejoin:miter;\"/>\r\n   </g>\r\n   <g id=\"patch_5\">\r\n    <path d=\"M 48.915 327.96 \r\nL 550.035 327.96 \r\n\" style=\"fill:none;stroke:#ffffff;stroke-linecap:square;stroke-linejoin:miter;\"/>\r\n   </g>\r\n   <g id=\"patch_6\">\r\n    <path d=\"M 48.915 7.2 \r\nL 550.035 7.2 \r\n\" style=\"fill:none;stroke:#ffffff;stroke-linecap:square;stroke-linejoin:miter;\"/>\r\n   </g>\r\n  </g>\r\n </g>\r\n <defs>\r\n  <clipPath id=\"pf75179f0ea\">\r\n   <rect height=\"320.76\" width=\"501.12\" x=\"48.915\" y=\"7.2\"/>\r\n  </clipPath>\r\n </defs>\r\n</svg>\r\n",
      "text/plain": "<Figure size 576x396 with 1 Axes>"
     },
     "metadata": {},
     "output_type": "display_data"
    }
   ],
   "source": [
    "def stres(y, x):\n",
    "    # Calculate residual\n",
    "    r = y - yhat(x)\n",
    "\n",
    "    # Standardise\n",
    "    r /= np.sqrt(np.sum(r**2)/(n-1))\n",
    "\n",
    "    return r\n",
    "\n",
    "stresiduals = stres(Y, x)\n",
    "plt.scatter(yhat(x), stresiduals)\n",
    "plt.xlabel(r\"$\\hat y$\")\n",
    "plt.ylabel(\"Residuals\")\n",
    "plt.hlines(0, plt.xlim()[0], plt.xlim()[1], color = \"teal\")\n"
   ]
  },
  {
   "cell_type": "markdown",
   "execution_count": null,
   "metadata": {},
   "outputs": [],
   "source": [
    "The residuals are quite evenly spread. There is one unusually large residual of -2."
   ]
  },
  {
   "cell_type": "code",
   "execution_count": 0,
   "metadata": {},
   "outputs": [],
   "source": [
    "# This maximum value correspond to index\n",
    "index = np.argmax(np.abs(stresiduals))\n",
    "print(df.loc[index])"
   ]
  },
  {
   "cell_type": "markdown",
   "execution_count": 384,
   "metadata": {},
   "outputs": [
    {
     "data": {
      "text/plain": "0.106"
     },
     "execution_count": 384,
     "metadata": {},
     "output_type": "execute_result"
    }
   ],
   "source": [
    "The outlier residual correspond to the smallest value of $Y$ in the data for Pb. "
   ]
  }
 ],
 "metadata": {
  "kernelspec": {
   "display_name": "Python 3",
   "language": "python",
   "name": "python3"
  },
  "language_info": {
   "codemirror_mode": {
    "name": "ipython",
    "version": 3
   },
   "file_extension": ".py",
   "mimetype": "text/x-python",
   "name": "python",
   "nbconvert_exporter": "python",
   "pygments_lexer": "ipython3",
   "version": "3.7.3-final"
  }
 },
 "nbformat": 4,
 "nbformat_minor": 4
}